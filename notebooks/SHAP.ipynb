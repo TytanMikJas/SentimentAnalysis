{
 "cells": [
  {
   "cell_type": "markdown",
   "id": "8634d827",
   "metadata": {},
   "source": [
    "## Imports"
   ]
  },
  {
   "cell_type": "code",
   "execution_count": null,
   "id": "1e95539b",
   "metadata": {},
   "outputs": [],
   "source": [
    "import json\n",
    "import joblib\n",
    "import shap\n",
    "import pandas as pd\n",
    "import sys\n",
    "import os\n",
    "import yaml\n",
    "import numpy as np\n",
    "import matplotlib.pyplot as plt\n",
    "\n",
    "sys.path.append(os.path.abspath(\"../\"))\n",
    "from src.utils import load_train_test_data"
   ]
  },
  {
   "cell_type": "markdown",
   "id": "51239085",
   "metadata": {},
   "source": [
    "### Load pipeline and data"
   ]
  },
  {
   "cell_type": "code",
   "execution_count": null,
   "id": "406885b2",
   "metadata": {},
   "outputs": [],
   "source": [
    "pipeline = joblib.load(\"../data/models/final_pipeline.pkl\")\n",
    "\n",
    "with open(\"../params.yaml\", \"r\") as file:\n",
    "    params = yaml.safe_load(file)\n",
    "\n",
    "with open(\"../data/models/best_features.json\", \"r\") as f:\n",
    "    best_features = json.load(f)[\"best_features\"]"
   ]
  },
  {
   "cell_type": "code",
   "execution_count": null,
   "id": "faee8ade",
   "metadata": {},
   "outputs": [],
   "source": [
    "pipeline[0].verbose_feature_names_out = True"
   ]
  },
  {
   "cell_type": "code",
   "execution_count": null,
   "id": "209907c2",
   "metadata": {},
   "outputs": [],
   "source": [
    "_, test_data = load_train_test_data(\"../data/train_test_data\")\n",
    "test_data = test_data[params[\"features\"][\"selected\"]]\n",
    "\n",
    "if best_features == \"text\":\n",
    "    test_data = test_data.drop(\n",
    "        columns=params[\"features\"][\"numerical\"] + params[\"features\"][\"categorical\"],\n",
    "        errors=\"ignore\",\n",
    "    )\n",
    "elif best_features == \"non-text\":\n",
    "    test_data = test_data.drop(columns=params[\"features\"][\"text\"], errors=\"ignore\")\n",
    "\n",
    "X = test_data.drop(columns=params[\"split_data\"][\"label_column\"])\n",
    "y = test_data[params[\"split_data\"][\"label_column\"]]"
   ]
  },
  {
   "cell_type": "markdown",
   "id": "017254d3",
   "metadata": {},
   "source": [
    "### Init explainer and shap_values"
   ]
  },
  {
   "cell_type": "code",
   "execution_count": null,
   "id": "6a911880",
   "metadata": {},
   "outputs": [],
   "source": [
    "shap.initjs()\n",
    "X_transformed = pipeline.named_steps[\"preprocessor\"].transform(X)\n",
    "\n",
    "if not isinstance(X_transformed, np.ndarray):\n",
    "    X_transformed = X_transformed.toarray()"
   ]
  },
  {
   "cell_type": "code",
   "execution_count": null,
   "id": "2c186cbd",
   "metadata": {},
   "outputs": [],
   "source": [
    "explainer = shap.TreeExplainer(pipeline.named_steps[\"classifier\"])\n",
    "shap_values = explainer.shap_values(X_transformed, approximate=True)"
   ]
  },
  {
   "cell_type": "code",
   "execution_count": null,
   "id": "03b721bf",
   "metadata": {},
   "outputs": [],
   "source": [
    "feature_names = pipeline.named_steps[\"preprocessor\"].get_feature_names_out()\n",
    "X_transformed_df = pd.DataFrame(X_transformed, columns=feature_names)"
   ]
  },
  {
   "cell_type": "markdown",
   "id": "2ade090f",
   "metadata": {},
   "source": [
    "### Summary plot"
   ]
  },
  {
   "cell_type": "markdown",
   "id": "6d85aeea",
   "metadata": {},
   "source": [
    "Wykres ukazuje, iż najbarzdiej wpływowym wyrazem okazało się \"love\" w \"text review\". Wyraz ten zwiększał sharp value dla ratingu równego 5 o wartość aż 0.08\n",
    "\n",
    "Kolejnym popularnym wyrazem okazało się \"amazing\" w  \"review_text\", które bardzo znacząco wpływało na wystąpienie zdania z tym wyrazem na przynależność do klasy rating = 5 lub 4.\n",
    "\n",
    "Na trzecim miejscu znalazł się wyraz \"like\" w review, który ponownie znacząco zwiększał szanse zdania na przynależenie do najwyższych ocen.\n",
    "\n",
    "Pozostałymi ciekawymi wyrazami okazało się być \"bad\" oraz \"return\", ponieważ znacząco zwiększają prawdopodobieństwo recenzji do znajdowania się w wartości rating 1-2."
   ]
  },
  {
   "cell_type": "code",
   "execution_count": null,
   "id": "777bbbc3",
   "metadata": {},
   "outputs": [],
   "source": [
    "shap.summary_plot(shap_values, X_transformed_df, plot_type=\"bar\")"
   ]
  },
  {
   "cell_type": "markdown",
   "id": "10bf3ac6",
   "metadata": {},
   "source": [
    "### Summary plot Rating 1"
   ]
  },
  {
   "cell_type": "markdown",
   "id": "37eb2cc8",
   "metadata": {},
   "source": [
    "Dla rating = 1 wyrazami o największej sile pchania w jedną ze stron okazało się być:\n",
    "- bad - znacząco wartość 1 wpływa na przynależność do rating = 1 w znaczący sposób (0.2-0.4 impact)\n",
    "\n",
    "Podobnie wyrazy\n",
    "\n",
    "- return\n",
    "- break\n",
    "- unfortunatelly\n",
    "\n",
    "Z kolei kilka wyrazów odpychało zdanie od klasy 1 takich jak:\n",
    "- love\n",
    "- great\n",
    "- help\n",
    "- soft\n",
    "- smooth"
   ]
  },
  {
   "cell_type": "code",
   "execution_count": null,
   "id": "bcc39873",
   "metadata": {},
   "outputs": [],
   "source": [
    "shap.summary_plot(shap_values[:, :, 0], X_transformed_df)"
   ]
  },
  {
   "cell_type": "markdown",
   "id": "fa61999f",
   "metadata": {},
   "source": [
    "### Summary plot Rating 2"
   ]
  },
  {
   "cell_type": "markdown",
   "id": "f70ac5cf",
   "metadata": {},
   "source": [
    "Dla rating = 2 wyrazami o największej sile pchania w jedną ze stron okazało się być:\n",
    "- return - znacząco wartość 1 wpływa na przynależność do rating = 1  o 0.1 do 0.3 impact score\n",
    "\n",
    "Podobnie wyrazy\n",
    "\n",
    "- want\n",
    "- bad\n",
    "- unfortunatelly\n",
    "\n",
    "Z kolei kilka wyrazów odpychało zdanie od klasy 1 takich jak:\n",
    "- perfect\n",
    "- great\n",
    "- smooth\n",
    "- soft"
   ]
  },
  {
   "cell_type": "code",
   "execution_count": null,
   "id": "4d8409ef",
   "metadata": {},
   "outputs": [],
   "source": [
    "shap.summary_plot(shap_values[:, :, 1], X_transformed_df)"
   ]
  },
  {
   "cell_type": "markdown",
   "id": "7e1ed9fb",
   "metadata": {},
   "source": [
    "### Summary plot Rating 3"
   ]
  },
  {
   "cell_type": "markdown",
   "id": "abe7ee61",
   "metadata": {},
   "source": [
    "Dla rating = 3 wyrazami o największej sile pchania w jedną ze stron okazało się być:\n",
    "- ok oraz okay - znacząco wartość 1 wpływa na przynależność do rating = 1 w **zdecydowany sposób, aż 0.3-0.6**\n",
    "\n",
    "Podobnie wyrazy\n",
    "\n",
    "- maybe\n",
    "- unfortunatelly\n",
    "\n",
    "Z kolei kilka wyrazów odpychało zdanie od klasy 1 takich jak:\n",
    "- definitely\n",
    "- amazing\n",
    "- perfect\n",
    "- great"
   ]
  },
  {
   "cell_type": "code",
   "execution_count": null,
   "id": "c69aacb0",
   "metadata": {},
   "outputs": [],
   "source": [
    "shap.summary_plot(shap_values[:, :, 2], X_transformed_df)"
   ]
  },
  {
   "cell_type": "markdown",
   "id": "9e1bf5e6",
   "metadata": {},
   "source": [
    "### Summary plot Rating 4"
   ]
  },
  {
   "cell_type": "markdown",
   "id": "8d577280",
   "metadata": {},
   "source": [
    "Dla rating = 4 wyrazami o największej sile pchania w jedną ze stron okazało się być:\n",
    "- like - znacząco wartość 1 wpływa na przynależność do rating = 1 w znaczący sposób (0.2-0.4 impact)\n",
    "\n",
    "Podobnie wyrazy\n",
    "\n",
    "- good\n",
    "- enjoy\n",
    "- wish\n",
    "\n",
    "Z kolei kilka wyrazów odpychało zdanie od klasy 1 takich jak:\n",
    "- highly\n",
    "- amazing\n",
    "- love"
   ]
  },
  {
   "cell_type": "code",
   "execution_count": null,
   "id": "7cb51abf",
   "metadata": {},
   "outputs": [],
   "source": [
    "shap.summary_plot(shap_values[:, :, 3], X_transformed_df)"
   ]
  },
  {
   "cell_type": "markdown",
   "id": "2c6bc9b4",
   "metadata": {},
   "source": [
    "### Summary plot Rating 5"
   ]
  },
  {
   "cell_type": "markdown",
   "id": "0b242c6c",
   "metadata": {},
   "source": [
    "Dla rating = 5 wyrazami o największej sile pchania w jedną ze stron okazało się być:\n",
    "- amazing - znacząco wartość 1 wpływa na przynależność do rating = 1 w znaczący sposób (0.2-0.4 impact)\n",
    "\n",
    "Podobnie wyrazy\n",
    "\n",
    "- perfect\n",
    "- highly\n",
    "\n",
    "Z kolei kilka wyrazów odpychało zdanie od klasy 1 takich jak:\n",
    "- want\n",
    "- return\n",
    "- unfortunately\n",
    "- break"
   ]
  },
  {
   "cell_type": "code",
   "execution_count": null,
   "id": "f3776c43",
   "metadata": {},
   "outputs": [],
   "source": [
    "shap.summary_plot(shap_values[:, :, 4], X_transformed_df)"
   ]
  },
  {
   "cell_type": "markdown",
   "id": "910a2da8",
   "metadata": {},
   "source": [
    "### Force plot for chosen sentence for each class"
   ]
  },
  {
   "cell_type": "markdown",
   "id": "b0d132d3",
   "metadata": {},
   "source": [
    "Dla przykładowego zdania oraz każdej klasy odnaleziono kilka wyrazów które zadecydowały o prawdopodobieństwie jego przynależenia do danego ratingu.\n",
    "\n",
    "Dla rating 1 :\n",
    "- love=1 oraz amazing=1 wraz z want=0 zadecydowały o zerowym prawdopodobieństwie, że zdanie ocenia produkt na 1/5\n",
    "\n",
    "Dla rating 2:\n",
    "- dokładnie ten sam powód zerwego prawd. do klasy 2/5\n",
    "\n",
    "Dla rating 3:\n",
    "- small=2, start=2, purchase=1, combo=2 pchały zdanie do ratingu 3 w znaczny sposób, lecz love=1 oraz amazing=1 spowodowały że finalne prawdopodobieństwo dla oceny 3/5 wyniosło 11%\n",
    "\n",
    "Dla ratingu 4:\n",
    "- great=2, overall=1, purchase=1 bardzo silnie zadecydowały o przynależeniu do wysokiej oceny, lecz try=1 oraz amazing=1 minimalnie zepchały zdanie na niższe prawdopodobieństwo przynależenia do klasy 4/5 dając finalnie 52%\n",
    "\n",
    "Dla ratingu 5:\n",
    "- love=1 i amazing=1 nie przezwyciężyło overall=1 great=2 oraz purchase=1, które po zsumowaniu dały prawd. przynależenia do klasy 5/5 równe 37%"
   ]
  },
  {
   "cell_type": "code",
   "execution_count": null,
   "id": "a1aaf02b",
   "metadata": {},
   "outputs": [],
   "source": [
    "sample_idx = 12\n",
    "\n",
    "for i in range(shap_values.shape[2]):\n",
    "    print(f\"Class {i}\")\n",
    "    shap.force_plot(\n",
    "        explainer.expected_value[i],\n",
    "        shap_values[sample_idx, :, i],\n",
    "        X_transformed_df.iloc[sample_idx],\n",
    "        matplotlib=True,\n",
    "    )"
   ]
  },
  {
   "cell_type": "markdown",
   "id": "8d0317b1",
   "metadata": {},
   "source": [
    "### Force plot for 3 missclassified records"
   ]
  },
  {
   "cell_type": "markdown",
   "id": "982522e4",
   "metadata": {},
   "source": [
    "Analiza nieprawidłowo przewidzianych labeli ukazuje z jak wysoką pewnością model wystawia oceny 5/5 w zależności od podanego zdania.\n",
    "\n",
    "Przeanalizowano 3 przykłady, gdzie w każdym model oszacował ocenę na 5/5, gdzie prawdziwe wynosiły kolejno 4/5, 3/5 oraz 1/5.\n",
    "\n",
    "Dla 4/5 model był bardzo bliski odgadnięcia, gdyż ta ocena miała drgi najwyższy wskaźnik tuż po 5/5, lecz o losie przypisania najwyższej oceny zdecydowały wyraz \"clear\", który jest szacowany na bardzo znaczący przy ocenach 5/5\n",
    "\n",
    "Dla 3/5 model był bardzo daleki od prawdy. Praw., że ta ocena otrzyma 3/5 było najniższe i kolejnym zdaniem modelu po 5/5 byłoby 4/5, następnie 1/5. Spowodowane jest to brakiem wystąpienia jakichkolwiek charaktetystyczych wyrazów dla vectorizera\n",
    "\n",
    "Dla 1/5 model kompletnie nie przewidywał labela 1/5 ze względu na wystąpienie wyrazu \"love\"."
   ]
  },
  {
   "cell_type": "code",
   "execution_count": null,
   "id": "639a4104",
   "metadata": {},
   "outputs": [],
   "source": [
    "y_pred = pipeline.predict(X)\n",
    "\n",
    "misclassified_idxs = np.where(y_pred != y)[0]\n",
    "\n",
    "for sample_idx in misclassified_idxs[-3:]:\n",
    "    print(\n",
    "        f\"Sample {sample_idx} — True: {y.iloc[sample_idx]}, Pred: {y_pred[sample_idx]}\"\n",
    "    )\n",
    "\n",
    "    for class_id in range(shap_values.shape[2]):\n",
    "        shap.force_plot(\n",
    "            explainer.expected_value[class_id],\n",
    "            shap_values[sample_idx, :, class_id],\n",
    "            X_transformed_df.iloc[sample_idx],\n",
    "            matplotlib=True,\n",
    "        )"
   ]
  }
 ],
 "metadata": {
  "kernelspec": {
   "display_name": ".venv",
   "language": "python",
   "name": "python3"
  },
  "language_info": {
   "codemirror_mode": {
    "name": "ipython",
    "version": 3
   },
   "file_extension": ".py",
   "mimetype": "text/x-python",
   "name": "python",
   "nbconvert_exporter": "python",
   "pygments_lexer": "ipython3",
   "version": "3.10.11"
  }
 },
 "nbformat": 4,
 "nbformat_minor": 5
}
