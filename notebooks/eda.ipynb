{
 "cells": [
  {
   "cell_type": "markdown",
   "metadata": {},
   "source": [
    "# Analizy eksploracyjna (EDA)"
   ]
  },
  {
   "cell_type": "code",
   "execution_count": null,
   "metadata": {},
   "outputs": [],
   "source": [
    "import sys\n",
    "import os\n",
    "import pandas as pd\n",
    "import seaborn as sns\n",
    "import matplotlib.pyplot as plt\n",
    "import re\n",
    "from collections import Counter\n",
    "from nltk.corpus import stopwords\n",
    "import numpy as np\n",
    "import nltk\n",
    "\n",
    "sys.path.append(os.path.abspath(\"../../\"))\n",
    "from src.utils import load_train_test_data, get_params"
   ]
  },
  {
   "cell_type": "code",
   "execution_count": null,
   "metadata": {
    "tags": [
     "parameters"
    ]
   },
   "outputs": [],
   "source": [
    "dataset = \"sephora\""
   ]
  },
  {
   "cell_type": "code",
   "execution_count": null,
   "metadata": {},
   "outputs": [],
   "source": [
    "print(f\"dataset: {dataset}\")"
   ]
  },
  {
   "cell_type": "code",
   "execution_count": null,
   "metadata": {},
   "outputs": [],
   "source": [
    "df, _ = load_train_test_data(\"data/train_test_data\", dataset)\n",
    "common_params, custom_params = get_params(dataset)"
   ]
  },
  {
   "cell_type": "markdown",
   "metadata": {},
   "source": [
    "### Analiza typów danych"
   ]
  },
  {
   "cell_type": "markdown",
   "metadata": {},
   "source": [
    "### Dane kategoryczne oraz numeryczne"
   ]
  },
  {
   "cell_type": "code",
   "execution_count": null,
   "metadata": {},
   "outputs": [],
   "source": [
    "cath_cols = custom_params[\"features\"][\"categorical\"]\n",
    "num_cols = custom_params[\"features\"][\"numerical\"]\n",
    "label_col = custom_params[\"features\"][\"label\"]\n",
    "\n",
    "cath_cols.append(label_col)"
   ]
  },
  {
   "cell_type": "markdown",
   "metadata": {},
   "source": [
    "- **ile znajduje się w zbiorze cech kategorycznych, a ile numerycznych?**"
   ]
  },
  {
   "cell_type": "code",
   "execution_count": null,
   "metadata": {},
   "outputs": [],
   "source": [
    "print(f\"Cech kategorycznych: {len(cath_cols)}\")\n",
    "print(f\"Cech numerycznych: {len(num_cols)}\")\n",
    "\n",
    "print(f\"Kategoryczne: {cath_cols}\")\n",
    "print(f\"Numeryczne: {num_cols}\")"
   ]
  },
  {
   "cell_type": "markdown",
   "metadata": {},
   "source": [
    "- **czy zmienna wyjściowa jest kategoryczna, czy numeryczna?**"
   ]
  },
  {
   "cell_type": "code",
   "execution_count": null,
   "metadata": {},
   "outputs": [],
   "source": [
    "print(f\"Zmienna wyjściowa posiada wartości: {df[label_col].unique()}\")"
   ]
  },
  {
   "cell_type": "markdown",
   "metadata": {},
   "source": [
    "- **czy i ile w zbiorze jest brakujących wartości? Dla jakich zmiennych? Co z tego wynika? Jakie są możliwe sposoby radzenia sobie z brakującymi wartościami?**"
   ]
  },
  {
   "cell_type": "code",
   "execution_count": null,
   "metadata": {},
   "outputs": [],
   "source": [
    "print(\n",
    "    f\"W zbiorze {'' if df.isnull().values.any() else 'nie'}występują brakujące wartości.\"\n",
    ")\n",
    "print(\n",
    "    f\"W zbiorze występuje {df[cath_cols + num_cols].isnull().sum().sum()} brakujących wartości.\"\n",
    ")\n",
    "df[cath_cols + num_cols].isnull().sum()"
   ]
  },
  {
   "cell_type": "markdown",
   "metadata": {},
   "source": [
    "**- czy któreś z cech są skorelowane? Co z tego może wynikać?**"
   ]
  },
  {
   "cell_type": "code",
   "execution_count": null,
   "metadata": {},
   "outputs": [],
   "source": [
    "plt.figure(figsize=(10, 6))\n",
    "sns.heatmap(df[num_cols].corr(), annot=True, cmap=\"coolwarm\", fmt=\".2f\")\n",
    "plt.title(\"Correlation Heatmap of Numerical Columns\")\n",
    "plt.show()"
   ]
  },
  {
   "cell_type": "markdown",
   "metadata": {},
   "source": [
    "**- czy któraś z cech koreluje ze zmienną wyjściową? Jeśli tak - która? Czy któraś nie koreluje?**"
   ]
  },
  {
   "cell_type": "code",
   "execution_count": null,
   "metadata": {},
   "outputs": [],
   "source": [
    "correlation = df[num_cols + [label_col]].corr().abs()\n",
    "correlation_label = correlation[label_col].drop(label_col)\n",
    "\n",
    "plt.figure(figsize=(10, 6))\n",
    "correlation_label.sort_values(ascending=False).plot(kind=\"bar\")\n",
    "plt.title(\"Correlation with rating\")\n",
    "plt.show()"
   ]
  },
  {
   "cell_type": "markdown",
   "metadata": {},
   "source": [
    "### Dane tekstowe"
   ]
  },
  {
   "cell_type": "code",
   "execution_count": null,
   "metadata": {},
   "outputs": [],
   "source": [
    "text_cols = custom_params[\"features\"][\"text\"]"
   ]
  },
  {
   "cell_type": "markdown",
   "metadata": {},
   "source": [
    "**- czy któreś ze słów wydają się dominować w zbiorze?**"
   ]
  },
  {
   "cell_type": "code",
   "execution_count": null,
   "metadata": {},
   "outputs": [],
   "source": [
    "def clean_text(text):\n",
    "    text = re.sub(r\"[^a-zA-Z\\s]\", \"\", str(text))\n",
    "    text = text.lower()\n",
    "    return text"
   ]
  },
  {
   "cell_type": "code",
   "execution_count": null,
   "metadata": {},
   "outputs": [],
   "source": [
    "nltk.download(\"stopwords\")\n",
    "stop_words = set(stopwords.words(\"english\"))\n",
    "df[\"cleaned_text\"] = df[\"review_text\"].apply(clean_text)\n",
    "df[\"cleaned_text_tokens\"] = df[\"cleaned_text\"].apply(\n",
    "    lambda x: [word for word in x.split() if word not in stop_words]\n",
    ")\n",
    "all_words = [word for tokens in df[\"cleaned_text_tokens\"] for word in tokens]"
   ]
  },
  {
   "cell_type": "code",
   "execution_count": null,
   "metadata": {},
   "outputs": [],
   "source": [
    "word_counts = Counter(all_words)\n",
    "word_freq_df = pd.DataFrame(word_counts.items(), columns=[\"word\", \"count\"]).sort_values(\n",
    "    by=\"count\", ascending=False\n",
    ")"
   ]
  },
  {
   "cell_type": "code",
   "execution_count": null,
   "metadata": {},
   "outputs": [],
   "source": [
    "plt.figure(figsize=(20, 10))\n",
    "plt.bar(word_freq_df[\"word\"][0:25], word_freq_df[\"count\"][0:25])\n",
    "plt.xticks(rotation=90)\n",
    "plt.title(\"Word frequency\")\n",
    "plt.xlabel(\"Words\")\n",
    "plt.ylabel(\"Frequency\")\n",
    "plt.show()"
   ]
  },
  {
   "cell_type": "markdown",
   "metadata": {},
   "source": [
    "**- czy najpopularniejsze słowa różnią się znacząco pomiędzy klasami? Czy potrafisz wyróżnić słowa mogące wpływać w znaczym stopniu na sentyment?**"
   ]
  },
  {
   "cell_type": "code",
   "execution_count": null,
   "metadata": {},
   "outputs": [],
   "source": [
    "for i in df[label_col].unique():\n",
    "    filtered_df = df[df[label_col] == i]\n",
    "    all_words = [\n",
    "        word for tokens in filtered_df[\"cleaned_text_tokens\"] for word in tokens\n",
    "    ]\n",
    "    word_counts = Counter(all_words)\n",
    "    word_freq_df = pd.DataFrame(\n",
    "        word_counts.items(), columns=[\"word\", \"count\"]\n",
    "    ).sort_values(by=\"count\", ascending=False)\n",
    "    plt.figure(figsize=(20, 10))\n",
    "    plt.bar(word_freq_df[\"word\"][0:15], word_freq_df[\"count\"][0:15])\n",
    "    plt.xticks(rotation=90)\n",
    "    plt.title(f\"Word frequency for rating {i}\")\n",
    "    plt.xlabel(\"Words\")\n",
    "    plt.ylabel(\"Frequency\")\n",
    "    plt.show()"
   ]
  },
  {
   "cell_type": "markdown",
   "metadata": {},
   "source": [
    "### Dodatkowe pytania"
   ]
  },
  {
   "cell_type": "markdown",
   "metadata": {},
   "source": [
    "**- jaka jest charakterystyka tekstu (np. długość, czystość)? (opisane w dodatkowych pytaniach)**"
   ]
  },
  {
   "cell_type": "code",
   "execution_count": null,
   "metadata": {},
   "outputs": [],
   "source": [
    "text_data = []\n",
    "\n",
    "for i in df[label_col].unique():\n",
    "    filtered_df = df[df[label_col] == i]\n",
    "\n",
    "    text_data.append(\n",
    "        {\n",
    "            \"avg length\": filtered_df[\"review_length\"].mean(),\n",
    "            \"avg sentence count\": filtered_df[\"review_text\"]\n",
    "            .str.split(r\"[.!?]\")\n",
    "            .str.len()\n",
    "            .mean(),\n",
    "            \"avg unique word count\": filtered_df[\"unique_word_count\"].mean(),\n",
    "            \"avg exclamation count\": filtered_df[\"exclamation_count\"].mean(),\n",
    "        }\n",
    "    )"
   ]
  },
  {
   "cell_type": "code",
   "execution_count": null,
   "metadata": {},
   "outputs": [],
   "source": [
    "categories = [\n",
    "    \"avg length\",\n",
    "    \"avg sentence count\",\n",
    "    \"avg unique word count\",\n",
    "    \"avg exclamation count\",\n",
    "]\n",
    "ratings = df[label_col].unique()\n",
    "colors = [\"skyblue\", \"lightcoral\", \"lightgreen\", \"gold\"]\n",
    "\n",
    "values = {category: [entry[category] for entry in text_data] for category in categories}\n",
    "\n",
    "fig, axes = plt.subplots(2, 2, figsize=(12, 10))\n",
    "\n",
    "for ax, category, color in zip(axes.flatten(), categories, colors):\n",
    "    bars = ax.bar(\n",
    "        ratings, values[category], color=color, edgecolor=\"black\", label=category\n",
    "    )\n",
    "\n",
    "    ax.set_title(category)\n",
    "    ax.set_xlabel(\"Rating\")\n",
    "    ax.set_ylabel(\"Value\")\n",
    "    ax.set_xticks(ratings)\n",
    "    ax.legend()\n",
    "\n",
    "plt.tight_layout()\n",
    "plt.show()"
   ]
  },
  {
   "cell_type": "markdown",
   "metadata": {},
   "source": [
    "**Czy rozkład klas w zmiennej wyjściowej (LABEL-rating) jest zrównoważony?**"
   ]
  },
  {
   "cell_type": "code",
   "execution_count": null,
   "metadata": {},
   "outputs": [],
   "source": [
    "df[label_col].value_counts().sort_index().plot(kind=\"bar\")"
   ]
  },
  {
   "cell_type": "markdown",
   "metadata": {},
   "source": [
    "**Czy są duplikaty w zbiorze danych?**"
   ]
  },
  {
   "cell_type": "code",
   "execution_count": null,
   "metadata": {},
   "outputs": [],
   "source": [
    "# df.duplicated().sum()"
   ]
  }
 ],
 "metadata": {
  "kernelspec": {
   "display_name": ".venv",
   "language": "python",
   "name": "python3"
  },
  "language_info": {
   "codemirror_mode": {
    "name": "ipython",
    "version": 3
   },
   "file_extension": ".py",
   "mimetype": "text/x-python",
   "name": "python",
   "nbconvert_exporter": "python",
   "pygments_lexer": "ipython3",
   "version": "3.10.11"
  }
 },
 "nbformat": 4,
 "nbformat_minor": 2
}
