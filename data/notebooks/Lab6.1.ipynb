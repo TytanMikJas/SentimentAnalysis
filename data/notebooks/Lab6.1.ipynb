{
 "cells": [
  {
   "cell_type": "markdown",
   "id": "91a70fe3",
   "metadata": {
    "papermill": {
     "duration": 0.014182,
     "end_time": "2025-04-13T19:55:31.034501",
     "exception": false,
     "start_time": "2025-04-13T19:55:31.020319",
     "status": "completed"
    },
    "tags": []
   },
   "source": [
    "## 0. Inicjalizacja"
   ]
  },
  {
   "cell_type": "markdown",
   "id": "b7d37191",
   "metadata": {
    "papermill": {
     "duration": 0.012007,
     "end_time": "2025-04-13T19:55:31.059098",
     "exception": false,
     "start_time": "2025-04-13T19:55:31.047091",
     "status": "completed"
    },
    "tags": []
   },
   "source": [
    "#### 0.1 Import"
   ]
  },
  {
   "cell_type": "code",
   "execution_count": 1,
   "id": "b8f7c39b",
   "metadata": {
    "execution": {
     "iopub.execute_input": "2025-04-13T19:55:31.082660Z",
     "iopub.status.busy": "2025-04-13T19:55:31.081912Z",
     "iopub.status.idle": "2025-04-13T19:55:38.167197Z",
     "shell.execute_reply": "2025-04-13T19:55:38.166077Z"
    },
    "papermill": {
     "duration": 7.098946,
     "end_time": "2025-04-13T19:55:38.169224",
     "exception": false,
     "start_time": "2025-04-13T19:55:31.070278",
     "status": "completed"
    },
    "tags": []
   },
   "outputs": [],
   "source": [
    "import pandas as pd\n",
    "import os\n",
    "import sys\n",
    "import yaml\n",
    "import matplotlib.pyplot as plt\n",
    "import seaborn as sns\n",
    "from sklearn.ensemble import RandomForestClassifier\n",
    "from sklearn.svm import SVC\n",
    "from sklearn.experimental import enable_halving_search_cv\n",
    "from scipy.stats import uniform\n",
    "from sklearn.model_selection import (\n",
    "    GridSearchCV,\n",
    "    RandomizedSearchCV,\n",
    "    HalvingGridSearchCV,\n",
    "    HalvingRandomSearchCV,\n",
    "    train_test_split,\n",
    ")\n",
    "from time import time\n",
    "from scipy.stats import randint\n",
    "from sklearn.metrics import f1_score\n",
    "from sklearn.metrics import accuracy_score, precision_score, recall_score, f1_score\n",
    "import json\n",
    "\n",
    "sys.path.append(os.path.abspath(\"../../\"))\n",
    "from src.utils import load_train_test_data\n",
    "from src.pipeline import build_pipeline"
   ]
  },
  {
   "cell_type": "markdown",
   "id": "9b0f6b29",
   "metadata": {
    "papermill": {
     "duration": 0.011484,
     "end_time": "2025-04-13T19:55:38.191583",
     "exception": false,
     "start_time": "2025-04-13T19:55:38.180099",
     "status": "completed"
    },
    "tags": []
   },
   "source": [
    "#### 0.2 Parametry oraz Dataset"
   ]
  },
  {
   "cell_type": "code",
   "execution_count": 2,
   "id": "28477f4f",
   "metadata": {
    "execution": {
     "iopub.execute_input": "2025-04-13T19:55:38.215109Z",
     "iopub.status.busy": "2025-04-13T19:55:38.214622Z",
     "iopub.status.idle": "2025-04-13T19:55:38.226519Z",
     "shell.execute_reply": "2025-04-13T19:55:38.225297Z"
    },
    "papermill": {
     "duration": 0.026152,
     "end_time": "2025-04-13T19:55:38.228529",
     "exception": false,
     "start_time": "2025-04-13T19:55:38.202377",
     "status": "completed"
    },
    "tags": []
   },
   "outputs": [],
   "source": [
    "with open(\"params.yaml\", \"r\") as file:\n",
    "    params = yaml.safe_load(file)"
   ]
  },
  {
   "cell_type": "code",
   "execution_count": 3,
   "id": "61661d76",
   "metadata": {
    "execution": {
     "iopub.execute_input": "2025-04-13T19:55:38.254469Z",
     "iopub.status.busy": "2025-04-13T19:55:38.254152Z",
     "iopub.status.idle": "2025-04-13T19:55:44.175701Z",
     "shell.execute_reply": "2025-04-13T19:55:44.174595Z"
    },
    "papermill": {
     "duration": 5.935804,
     "end_time": "2025-04-13T19:55:44.177234",
     "exception": false,
     "start_time": "2025-04-13T19:55:38.241430",
     "status": "completed"
    },
    "tags": []
   },
   "outputs": [
    {
     "name": "stderr",
     "output_type": "stream",
     "text": [
      "2025-04-13 19:55:38 - INFO - Loading train and test data\n"
     ]
    }
   ],
   "source": [
    "training_data, _ = load_train_test_data(\"data/train_test_data\")\n",
    "training_data = training_data[params[\"features\"][\"selected\"]]\n",
    "training_data = training_data[0:8_000]\n",
    "X_train, X_val, y_train, y_val = train_test_split(\n",
    "    training_data.drop(columns=[\"LABEL-rating\"], axis=1),\n",
    "    training_data[\"LABEL-rating\"],\n",
    "    test_size=0.2,\n",
    ")"
   ]
  },
  {
   "cell_type": "markdown",
   "id": "ab11c55c",
   "metadata": {
    "papermill": {
     "duration": 0.011424,
     "end_time": "2025-04-13T19:55:44.202136",
     "exception": false,
     "start_time": "2025-04-13T19:55:44.190712",
     "status": "completed"
    },
    "tags": []
   },
   "source": [
    "#### 0.3 Pipeline"
   ]
  },
  {
   "cell_type": "code",
   "execution_count": 4,
   "id": "8c195d58",
   "metadata": {
    "execution": {
     "iopub.execute_input": "2025-04-13T19:55:44.228192Z",
     "iopub.status.busy": "2025-04-13T19:55:44.227597Z",
     "iopub.status.idle": "2025-04-13T19:55:44.232061Z",
     "shell.execute_reply": "2025-04-13T19:55:44.231205Z"
    },
    "papermill": {
     "duration": 0.019785,
     "end_time": "2025-04-13T19:55:44.233509",
     "exception": false,
     "start_time": "2025-04-13T19:55:44.213724",
     "status": "completed"
    },
    "tags": []
   },
   "outputs": [],
   "source": [
    "rf_pipeline = build_pipeline(params, \"all\", RandomForestClassifier(n_jobs=-1))\n",
    "svm_pipeline = build_pipeline(params, \"all\", SVC())"
   ]
  },
  {
   "cell_type": "markdown",
   "id": "46b6b6c5",
   "metadata": {
    "papermill": {
     "duration": 0.012506,
     "end_time": "2025-04-13T19:55:44.258941",
     "exception": false,
     "start_time": "2025-04-13T19:55:44.246435",
     "status": "completed"
    },
    "tags": []
   },
   "source": [
    "#### 0.4 Funkcja do eksperymentów"
   ]
  },
  {
   "cell_type": "code",
   "execution_count": 5,
   "id": "571dd937",
   "metadata": {
    "execution": {
     "iopub.execute_input": "2025-04-13T19:55:44.284568Z",
     "iopub.status.busy": "2025-04-13T19:55:44.284231Z",
     "iopub.status.idle": "2025-04-13T19:55:44.292720Z",
     "shell.execute_reply": "2025-04-13T19:55:44.291284Z"
    },
    "papermill": {
     "duration": 0.024194,
     "end_time": "2025-04-13T19:55:44.294348",
     "exception": false,
     "start_time": "2025-04-13T19:55:44.270154",
     "status": "completed"
    },
    "tags": []
   },
   "outputs": [],
   "source": [
    "def run_search(name, searcher, X_train, X_val, y_train, y_val):\n",
    "    print(\"Fit...\")\n",
    "    start = time()\n",
    "    searcher.fit(X_train, y_train)\n",
    "    end = time()\n",
    "\n",
    "    elapsed = end - start\n",
    "    best_model = searcher.best_estimator_\n",
    "    n_models = len(searcher.cv_results_[\"mean_test_score\"])\n",
    "    best_params = searcher.best_params_\n",
    "    best_score = searcher.best_score_\n",
    "\n",
    "    print(\"Predict...\")\n",
    "    y_pred = best_model.predict(X_val)\n",
    "\n",
    "    results = {\n",
    "        \"Method\": name,\n",
    "        \"Best f1_weighted (CV)\": best_score,\n",
    "        \"Accuracy\": accuracy_score(y_val, y_pred),\n",
    "        \"Precision\": precision_score(\n",
    "            y_val, y_pred, average=\"weighted\", zero_division=0\n",
    "        ),\n",
    "        \"Recall\": recall_score(y_val, y_pred, average=\"weighted\", zero_division=0),\n",
    "        \"F1 (weighted)\": f1_score(y_val, y_pred, average=\"weighted\", zero_division=0),\n",
    "        \"Time (s)\": elapsed,\n",
    "        \"Models Tried\": n_models,\n",
    "        \"Best Params\": best_params,\n",
    "        \"Best Estimator\": best_model,\n",
    "    }\n",
    "\n",
    "    return searcher, results"
   ]
  },
  {
   "cell_type": "markdown",
   "id": "384e9f9a",
   "metadata": {
    "papermill": {
     "duration": 0.013873,
     "end_time": "2025-04-13T19:55:44.319878",
     "exception": false,
     "start_time": "2025-04-13T19:55:44.306005",
     "status": "completed"
    },
    "tags": []
   },
   "source": [
    "#### 0.5 Parametry do eksperymentów"
   ]
  },
  {
   "cell_type": "code",
   "execution_count": 6,
   "id": "0091c4ea",
   "metadata": {
    "execution": {
     "iopub.execute_input": "2025-04-13T19:55:44.353372Z",
     "iopub.status.busy": "2025-04-13T19:55:44.352300Z",
     "iopub.status.idle": "2025-04-13T19:55:44.362296Z",
     "shell.execute_reply": "2025-04-13T19:55:44.361208Z"
    },
    "papermill": {
     "duration": 0.029969,
     "end_time": "2025-04-13T19:55:44.363694",
     "exception": false,
     "start_time": "2025-04-13T19:55:44.333725",
     "status": "completed"
    },
    "tags": []
   },
   "outputs": [],
   "source": [
    "rf_distributions = {\n",
    "    \"classifier__n_estimators\": randint(30, 60),\n",
    "    \"classifier__max_depth\": randint(10, 50),\n",
    "    \"classifier__criterion\": [\"gini\", \"entropy\"],\n",
    "    \"classifier__min_samples_leaf\": randint(1, 7),\n",
    "    \"classifier__max_features\": [\"sqrt\", None],\n",
    "}\n",
    "\n",
    "svm_distributions = {\n",
    "    \"classifier__C\": uniform(0.5, 1.5),\n",
    "    \"classifier__kernel\": [\"linear\", \"rbf\", \"poly\"],\n",
    "    \"classifier__degree\": [2, 3],\n",
    "    \"classifier__gamma\": [\"scale\", \"auto\"],\n",
    "}"
   ]
  },
  {
   "cell_type": "code",
   "execution_count": 7,
   "id": "57607047",
   "metadata": {
    "execution": {
     "iopub.execute_input": "2025-04-13T19:55:44.397678Z",
     "iopub.status.busy": "2025-04-13T19:55:44.397008Z",
     "iopub.status.idle": "2025-04-13T19:55:44.403774Z",
     "shell.execute_reply": "2025-04-13T19:55:44.402668Z"
    },
    "papermill": {
     "duration": 0.027586,
     "end_time": "2025-04-13T19:55:44.405079",
     "exception": false,
     "start_time": "2025-04-13T19:55:44.377493",
     "status": "completed"
    },
    "tags": []
   },
   "outputs": [],
   "source": [
    "rf_param_grid = {\n",
    "    \"classifier__n_estimators\": [30, 60],\n",
    "    \"classifier__max_depth\": [10, 30, 50],\n",
    "    \"classifier__criterion\": [\"gini\", \"entropy\"],\n",
    "    \"classifier__min_samples_leaf\": [1, 5],\n",
    "    \"classifier__max_features\": [\"sqrt\", None],\n",
    "}\n",
    "\n",
    "svm_param_grid = {\n",
    "    \"classifier__C\": [0.8, 1, 1.5],\n",
    "    \"classifier__kernel\": [\"linear\", \"rbf\", \"poly\"],\n",
    "    \"classifier__degree\": [2, 3],\n",
    "    \"classifier__gamma\": [\"scale\", \"auto\"],\n",
    "}"
   ]
  },
  {
   "cell_type": "markdown",
   "id": "79d47d9d",
   "metadata": {
    "papermill": {
     "duration": 0.020476,
     "end_time": "2025-04-13T19:55:44.442362",
     "exception": false,
     "start_time": "2025-04-13T19:55:44.421886",
     "status": "completed"
    },
    "tags": []
   },
   "source": [
    "## 1. RandomSearch"
   ]
  },
  {
   "cell_type": "markdown",
   "id": "a2b6f128",
   "metadata": {
    "papermill": {
     "duration": 0.021751,
     "end_time": "2025-04-13T19:55:44.476654",
     "exception": false,
     "start_time": "2025-04-13T19:55:44.454903",
     "status": "completed"
    },
    "tags": []
   },
   "source": [
    "#### 1.1 Opis działania, możliwości, ograniczenia"
   ]
  },
  {
   "cell_type": "markdown",
   "id": "545ec683",
   "metadata": {
    "papermill": {
     "duration": 0.014882,
     "end_time": "2025-04-13T19:55:44.505546",
     "exception": false,
     "start_time": "2025-04-13T19:55:44.490664",
     "status": "completed"
    },
    "tags": []
   },
   "source": [
    "**[RandomizedSearch](https://scikit-learn.org/stable/modules/generated/sklearn.model_selection.RandomizedSearchCV.html)** losowo wybiera kombinacje hiperparametrów z podanego rozkładu lub listy wartości. Można ustawić liczbę iteracji, co pozwala kontrolować czas trwania wyszukiwania.\n",
    "\n",
    "- Dzięki losowości jest szybszy od GridSearch, lecz przeszukuje mniejszą przestrzeń hiperparametrów.\n",
    "Może wciąż znaleźć bardzo dobre parametry przy mniejszej złożoności obliczeniowej\n",
    "\n",
    "- Wynik zależy od losowości, ponieważ może pominąć najlepsze hiperparametry.\n",
    "- Wyniki mogą się różnić przy wielu próbach uruchomienia przez losowość"
   ]
  },
  {
   "cell_type": "markdown",
   "id": "98a489b3",
   "metadata": {
    "papermill": {
     "duration": 0.017908,
     "end_time": "2025-04-13T19:55:44.543146",
     "exception": false,
     "start_time": "2025-04-13T19:55:44.525238",
     "status": "completed"
    },
    "tags": []
   },
   "source": [
    "#### 1.2 Jakość najlepszego modelu oraz czas działania"
   ]
  },
  {
   "cell_type": "code",
   "execution_count": 8,
   "id": "164e1688",
   "metadata": {
    "execution": {
     "iopub.execute_input": "2025-04-13T19:55:44.588929Z",
     "iopub.status.busy": "2025-04-13T19:55:44.587837Z",
     "iopub.status.idle": "2025-04-13T20:05:11.532121Z",
     "shell.execute_reply": "2025-04-13T20:05:11.530128Z"
    },
    "papermill": {
     "duration": 566.982867,
     "end_time": "2025-04-13T20:05:11.547045",
     "exception": false,
     "start_time": "2025-04-13T19:55:44.564178",
     "status": "completed"
    },
    "tags": []
   },
   "outputs": [
    {
     "name": "stdout",
     "output_type": "stream",
     "text": [
      "Fit...\n"
     ]
    },
    {
     "name": "stdout",
     "output_type": "stream",
     "text": [
      "Predict...\n"
     ]
    }
   ],
   "source": [
    "clf = RandomizedSearchCV(\n",
    "    rf_pipeline,\n",
    "    rf_distributions,\n",
    "    return_train_score=True,\n",
    "    scoring=\"f1_weighted\",\n",
    "    n_jobs=-1,\n",
    "    n_iter=40,\n",
    ")\n",
    "_, rf_randomized_results = run_search(\n",
    "    \"RandomizedSearchCV\", clf, X_train, X_val, y_train, y_val\n",
    ")"
   ]
  },
  {
   "cell_type": "code",
   "execution_count": 9,
   "id": "898b5dbb",
   "metadata": {
    "execution": {
     "iopub.execute_input": "2025-04-13T20:05:11.581474Z",
     "iopub.status.busy": "2025-04-13T20:05:11.581079Z",
     "iopub.status.idle": "2025-04-13T20:14:36.997526Z",
     "shell.execute_reply": "2025-04-13T20:14:36.995548Z"
    },
    "papermill": {
     "duration": 565.435817,
     "end_time": "2025-04-13T20:14:36.999840",
     "exception": false,
     "start_time": "2025-04-13T20:05:11.564023",
     "status": "completed"
    },
    "tags": []
   },
   "outputs": [
    {
     "name": "stdout",
     "output_type": "stream",
     "text": [
      "Fit...\n"
     ]
    },
    {
     "name": "stdout",
     "output_type": "stream",
     "text": [
      "Predict...\n"
     ]
    }
   ],
   "source": [
    "clf = RandomizedSearchCV(\n",
    "    svm_pipeline,\n",
    "    svm_distributions,\n",
    "    return_train_score=True,\n",
    "    scoring=\"f1_weighted\",\n",
    "    n_jobs=-1,\n",
    "    n_iter=40,\n",
    ")\n",
    "_, svm_randomized_results = run_search(\n",
    "    \"RandomizedSearchCV\", clf, X_train, X_val, y_train, y_val\n",
    ")"
   ]
  },
  {
   "cell_type": "markdown",
   "id": "bb8dbeb3",
   "metadata": {
    "papermill": {
     "duration": 0.012287,
     "end_time": "2025-04-13T20:14:37.029817",
     "exception": false,
     "start_time": "2025-04-13T20:14:37.017530",
     "status": "completed"
    },
    "tags": []
   },
   "source": [
    "#### 1.3 Liczba iteracji metody\n",
    "\n",
    "Liczba iteracji jest równa parametrowi n_iter."
   ]
  },
  {
   "cell_type": "code",
   "execution_count": 10,
   "id": "669c23cc",
   "metadata": {
    "execution": {
     "iopub.execute_input": "2025-04-13T20:14:37.062183Z",
     "iopub.status.busy": "2025-04-13T20:14:37.061548Z",
     "iopub.status.idle": "2025-04-13T20:14:37.071225Z",
     "shell.execute_reply": "2025-04-13T20:14:37.069928Z"
    },
    "papermill": {
     "duration": 0.029647,
     "end_time": "2025-04-13T20:14:37.073528",
     "exception": false,
     "start_time": "2025-04-13T20:14:37.043881",
     "status": "completed"
    },
    "tags": []
   },
   "outputs": [
    {
     "name": "stdout",
     "output_type": "stream",
     "text": [
      "RandomizedSearchCV wykonał 40 pomiarów\n"
     ]
    }
   ],
   "source": [
    "print(f\"RandomizedSearchCV wykonał {rf_randomized_results['Models Tried']} pomiarów\")"
   ]
  },
  {
   "cell_type": "markdown",
   "id": "83fce60f",
   "metadata": {
    "papermill": {
     "duration": 0.014431,
     "end_time": "2025-04-13T20:14:37.101645",
     "exception": false,
     "start_time": "2025-04-13T20:14:37.087214",
     "status": "completed"
    },
    "tags": []
   },
   "source": [
    "## 2. GridSearch"
   ]
  },
  {
   "cell_type": "markdown",
   "id": "1b57a66c",
   "metadata": {
    "papermill": {
     "duration": 0.02018,
     "end_time": "2025-04-13T20:14:37.138233",
     "exception": false,
     "start_time": "2025-04-13T20:14:37.118053",
     "status": "completed"
    },
    "tags": []
   },
   "source": [
    "#### 2.1 Opis działania, możliwości, ograniczenia"
   ]
  },
  {
   "cell_type": "markdown",
   "id": "363db614",
   "metadata": {
    "papermill": {
     "duration": 0.012132,
     "end_time": "2025-04-13T20:14:37.164442",
     "exception": false,
     "start_time": "2025-04-13T20:14:37.152310",
     "status": "completed"
    },
    "tags": []
   },
   "source": [
    "[GridSearch](https://scikit-learn.org/stable/modules/generated/sklearn.model_selection.GridSearchCV.html) przeszukuje wybrane przestrzenie hiperparametrów tworząc iloczyn kartezjański na podanych wartościach hiperparametrów. \n",
    "\n",
    "- Dzięki temu bardzo precyzyjnie możemy oszacować, które wartości nas potencjalnie najbardziej interesują oraz możemy bardzo dokładnie przeszukać przestrzeń hiperaparametrów.\n",
    "- Deterministyczny oraz bardzo dokładny\n",
    "\n",
    "- Bardzo wymagający obliczeniowo, dokonanie tylu eksperymentów ile podano wartości oraz list wartości.\n",
    "- Bardzo wymgający czasowo."
   ]
  },
  {
   "cell_type": "markdown",
   "id": "0b1a5c55",
   "metadata": {
    "papermill": {
     "duration": 0.013171,
     "end_time": "2025-04-13T20:14:37.190541",
     "exception": false,
     "start_time": "2025-04-13T20:14:37.177370",
     "status": "completed"
    },
    "tags": []
   },
   "source": [
    "#### 2.2 Jakość najlepszego modelu oraz czas działania"
   ]
  },
  {
   "cell_type": "code",
   "execution_count": 11,
   "id": "45341d9d",
   "metadata": {
    "execution": {
     "iopub.execute_input": "2025-04-13T20:14:37.217043Z",
     "iopub.status.busy": "2025-04-13T20:14:37.216663Z",
     "iopub.status.idle": "2025-04-13T20:23:57.114173Z",
     "shell.execute_reply": "2025-04-13T20:23:57.113077Z"
    },
    "papermill": {
     "duration": 559.937324,
     "end_time": "2025-04-13T20:23:57.140079",
     "exception": false,
     "start_time": "2025-04-13T20:14:37.202755",
     "status": "completed"
    },
    "tags": []
   },
   "outputs": [
    {
     "name": "stdout",
     "output_type": "stream",
     "text": [
      "Fit...\n"
     ]
    },
    {
     "name": "stdout",
     "output_type": "stream",
     "text": [
      "Predict...\n"
     ]
    }
   ],
   "source": [
    "clf = GridSearchCV(\n",
    "    rf_pipeline,\n",
    "    rf_param_grid,\n",
    "    return_train_score=True,\n",
    "    scoring=\"f1_weighted\",\n",
    "    n_jobs=-1,\n",
    ")\n",
    "_, rf_grid_results = run_search(\"GridSearchCV\", clf, X_train, X_val, y_train, y_val)"
   ]
  },
  {
   "cell_type": "code",
   "execution_count": 12,
   "id": "de66f59c",
   "metadata": {
    "execution": {
     "iopub.execute_input": "2025-04-13T20:23:57.170253Z",
     "iopub.status.busy": "2025-04-13T20:23:57.169235Z",
     "iopub.status.idle": "2025-04-13T20:32:48.373701Z",
     "shell.execute_reply": "2025-04-13T20:32:48.371782Z"
    },
    "papermill": {
     "duration": 531.222318,
     "end_time": "2025-04-13T20:32:48.376646",
     "exception": false,
     "start_time": "2025-04-13T20:23:57.154328",
     "status": "completed"
    },
    "tags": []
   },
   "outputs": [
    {
     "name": "stdout",
     "output_type": "stream",
     "text": [
      "Fit...\n"
     ]
    },
    {
     "name": "stdout",
     "output_type": "stream",
     "text": [
      "Predict...\n"
     ]
    }
   ],
   "source": [
    "clf = GridSearchCV(\n",
    "    svm_pipeline,\n",
    "    svm_param_grid,\n",
    "    return_train_score=True,\n",
    "    scoring=\"f1_weighted\",\n",
    "    n_jobs=-1,\n",
    ")\n",
    "_, svm_grid_results = run_search(\"GridSearchCV\", clf, X_train, X_val, y_train, y_val)"
   ]
  },
  {
   "cell_type": "markdown",
   "id": "1b837bf4",
   "metadata": {
    "papermill": {
     "duration": 0.018192,
     "end_time": "2025-04-13T20:32:48.409687",
     "exception": false,
     "start_time": "2025-04-13T20:32:48.391495",
     "status": "completed"
    },
    "tags": []
   },
   "source": [
    "#### 2.3 Liczba iteracji metody\n",
    "\n",
    "Liczba pomiarów jest równa iloczynowi liczebności każdej z list hiperparametrów"
   ]
  },
  {
   "cell_type": "code",
   "execution_count": 13,
   "id": "98aafdec",
   "metadata": {
    "execution": {
     "iopub.execute_input": "2025-04-13T20:32:48.438101Z",
     "iopub.status.busy": "2025-04-13T20:32:48.437154Z",
     "iopub.status.idle": "2025-04-13T20:32:48.444494Z",
     "shell.execute_reply": "2025-04-13T20:32:48.442830Z"
    },
    "papermill": {
     "duration": 0.02541,
     "end_time": "2025-04-13T20:32:48.447205",
     "exception": false,
     "start_time": "2025-04-13T20:32:48.421795",
     "status": "completed"
    },
    "tags": []
   },
   "outputs": [
    {
     "name": "stdout",
     "output_type": "stream",
     "text": [
      "GridSearchCV wykonał 48 pomiarów\n"
     ]
    }
   ],
   "source": [
    "print(f\"GridSearchCV wykonał {rf_grid_results['Models Tried']} pomiarów\")"
   ]
  },
  {
   "cell_type": "markdown",
   "id": "b04c724c",
   "metadata": {
    "papermill": {
     "duration": 0.014142,
     "end_time": "2025-04-13T20:32:48.798020",
     "exception": false,
     "start_time": "2025-04-13T20:32:48.783878",
     "status": "completed"
    },
    "tags": []
   },
   "source": [
    "## 3. HalvingGridSearch"
   ]
  },
  {
   "cell_type": "markdown",
   "id": "1036cc9f",
   "metadata": {
    "papermill": {
     "duration": 0.014451,
     "end_time": "2025-04-13T20:32:48.826501",
     "exception": false,
     "start_time": "2025-04-13T20:32:48.812050",
     "status": "completed"
    },
    "tags": []
   },
   "source": [
    "#### 3.1 Opis działania, możliwości, ograniczenia"
   ]
  },
  {
   "cell_type": "markdown",
   "id": "3937e55e",
   "metadata": {
    "papermill": {
     "duration": 0.015206,
     "end_time": "2025-04-13T20:32:48.854494",
     "exception": false,
     "start_time": "2025-04-13T20:32:48.839288",
     "status": "completed"
    },
    "tags": []
   },
   "source": [
    "[HalvingGridSearch](https://scikit-learn.org/stable/modules/generated/sklearn.model_selection.HalvingGridSearchCV.html) działa analogicznie do GridSearch'a, lecz optymalizuje swoje działanie poprzez wykonywanie eksperymentów na części danych. Na początku testuje wiele kombinacji na małych próbkach danych, a w kolejnych iteracjach zwiększa ilość danych tylko dla najlepszych kandydatów.\n",
    "\n",
    "- Posida zalety grid searcha dokładnego przeszukania przestrzeni hiperparametrów przy mniejszym nakładzie mocy obliczeniowej oraz krótszym czasie wykonywania.\n",
    "- Utrzymuje dokładność GridSearch przy mniejszych kosztach.\n",
    "\n",
    "- Wadą jest fakt, iż jest to eksperymentalna funkcja sklearn, czyli nie jest ustabilizowana/może się zmieniać.\n",
    "- Wciąż przeszukujemy ogromną liczbę zbiorów hiperparametrów"
   ]
  },
  {
   "cell_type": "markdown",
   "id": "1eb2b9ea",
   "metadata": {
    "papermill": {
     "duration": 0.013543,
     "end_time": "2025-04-13T20:32:48.883033",
     "exception": false,
     "start_time": "2025-04-13T20:32:48.869490",
     "status": "completed"
    },
    "tags": []
   },
   "source": [
    "#### 3.2 Jakość najlepszego modelu oraz czas działania"
   ]
  },
  {
   "cell_type": "code",
   "execution_count": 14,
   "id": "d659bfc5",
   "metadata": {
    "execution": {
     "iopub.execute_input": "2025-04-13T20:32:48.916664Z",
     "iopub.status.busy": "2025-04-13T20:32:48.915965Z",
     "iopub.status.idle": "2025-04-13T20:34:41.252812Z",
     "shell.execute_reply": "2025-04-13T20:34:41.251929Z"
    },
    "papermill": {
     "duration": 112.369461,
     "end_time": "2025-04-13T20:34:41.267623",
     "exception": false,
     "start_time": "2025-04-13T20:32:48.898162",
     "status": "completed"
    },
    "tags": []
   },
   "outputs": [
    {
     "name": "stdout",
     "output_type": "stream",
     "text": [
      "Fit...\n"
     ]
    },
    {
     "name": "stdout",
     "output_type": "stream",
     "text": [
      "Predict...\n"
     ]
    }
   ],
   "source": [
    "clf = HalvingGridSearchCV(\n",
    "    rf_pipeline,\n",
    "    rf_param_grid,\n",
    "    return_train_score=True,\n",
    "    scoring=\"f1_weighted\",\n",
    "    n_jobs=-1,\n",
    ")\n",
    "_, rf_halv_grid_results = run_search(\n",
    "    \"HalvingGridSearchCV\", clf, X_train, X_val, y_train, y_val\n",
    ")"
   ]
  },
  {
   "cell_type": "code",
   "execution_count": 15,
   "id": "4cd508ed",
   "metadata": {
    "execution": {
     "iopub.execute_input": "2025-04-13T20:34:41.297701Z",
     "iopub.status.busy": "2025-04-13T20:34:41.296828Z",
     "iopub.status.idle": "2025-04-13T20:35:46.035810Z",
     "shell.execute_reply": "2025-04-13T20:35:46.034478Z"
    },
    "papermill": {
     "duration": 64.755686,
     "end_time": "2025-04-13T20:35:46.038113",
     "exception": false,
     "start_time": "2025-04-13T20:34:41.282427",
     "status": "completed"
    },
    "tags": []
   },
   "outputs": [
    {
     "name": "stdout",
     "output_type": "stream",
     "text": [
      "Fit...\n"
     ]
    },
    {
     "name": "stdout",
     "output_type": "stream",
     "text": [
      "Predict...\n"
     ]
    }
   ],
   "source": [
    "clf = HalvingGridSearchCV(\n",
    "    svm_pipeline,\n",
    "    svm_param_grid,\n",
    "    return_train_score=True,\n",
    "    scoring=\"f1_weighted\",\n",
    "    n_jobs=-1,\n",
    ")\n",
    "_, svm_halv_grid_results = run_search(\n",
    "    \"HalvingGridSearchCV\", clf, X_train, X_val, y_train, y_val\n",
    ")"
   ]
  },
  {
   "cell_type": "markdown",
   "id": "f3099319",
   "metadata": {
    "papermill": {
     "duration": 0.014677,
     "end_time": "2025-04-13T20:35:46.066044",
     "exception": false,
     "start_time": "2025-04-13T20:35:46.051367",
     "status": "completed"
    },
    "tags": []
   },
   "source": [
    "#### 3.3 Liczba iteracji metody"
   ]
  },
  {
   "cell_type": "code",
   "execution_count": 16,
   "id": "b21a1c9e",
   "metadata": {
    "execution": {
     "iopub.execute_input": "2025-04-13T20:35:46.100613Z",
     "iopub.status.busy": "2025-04-13T20:35:46.099307Z",
     "iopub.status.idle": "2025-04-13T20:35:46.107413Z",
     "shell.execute_reply": "2025-04-13T20:35:46.105800Z"
    },
    "papermill": {
     "duration": 0.029001,
     "end_time": "2025-04-13T20:35:46.109348",
     "exception": false,
     "start_time": "2025-04-13T20:35:46.080347",
     "status": "completed"
    },
    "tags": []
   },
   "outputs": [
    {
     "name": "stdout",
     "output_type": "stream",
     "text": [
      "GridSearchCV wykonał 72 pomiarów\n"
     ]
    }
   ],
   "source": [
    "print(f\"GridSearchCV wykonał {rf_halv_grid_results['Models Tried']} pomiarów\")"
   ]
  },
  {
   "cell_type": "markdown",
   "id": "88e04723",
   "metadata": {
    "papermill": {
     "duration": 0.015117,
     "end_time": "2025-04-13T20:35:46.139439",
     "exception": false,
     "start_time": "2025-04-13T20:35:46.124322",
     "status": "completed"
    },
    "tags": []
   },
   "source": [
    "## 4. HalvingRandomSearch"
   ]
  },
  {
   "cell_type": "markdown",
   "id": "cc8983fb",
   "metadata": {
    "papermill": {
     "duration": 0.017178,
     "end_time": "2025-04-13T20:35:46.171808",
     "exception": false,
     "start_time": "2025-04-13T20:35:46.154630",
     "status": "completed"
    },
    "tags": []
   },
   "source": [
    "#### 4.1 Opis działania, możliwości, ograniczenia"
   ]
  },
  {
   "cell_type": "markdown",
   "id": "1ac784ef",
   "metadata": {
    "papermill": {
     "duration": 0.017215,
     "end_time": "2025-04-13T20:35:46.209256",
     "exception": false,
     "start_time": "2025-04-13T20:35:46.192041",
     "status": "completed"
    },
    "tags": []
   },
   "source": [
    "[HalvingRandomSearch](https://scikit-learn.org/stable/modules/generated/sklearn.model_selection.HalvingRandomSearchCV.html) jest połączeniem HalvingGridSearch oraz RandomSeach. Działa z mechanizmem losowego wyboru hiperparametrów z aspektem odsiewania słabszych i trenowania pozostałych na większej liczbie danych.\n",
    "\n",
    "Najbardziej efektywny czasowo i najmniej wymagający obliczeniowo\n",
    "\n",
    "Ponownie jest eksperymentalną funkcja sklearn oraz tak jak RandomSearch może pominąć najlepsze wartości hiperparametrów"
   ]
  },
  {
   "cell_type": "markdown",
   "id": "38643c5b",
   "metadata": {
    "papermill": {
     "duration": 0.017808,
     "end_time": "2025-04-13T20:35:46.245330",
     "exception": false,
     "start_time": "2025-04-13T20:35:46.227522",
     "status": "completed"
    },
    "tags": []
   },
   "source": [
    "#### 4.2 Jakość najlepszego modelu oraz czas działania"
   ]
  },
  {
   "cell_type": "code",
   "execution_count": 17,
   "id": "7990ece5",
   "metadata": {
    "execution": {
     "iopub.execute_input": "2025-04-13T20:35:46.282672Z",
     "iopub.status.busy": "2025-04-13T20:35:46.281581Z",
     "iopub.status.idle": "2025-04-13T20:36:25.297934Z",
     "shell.execute_reply": "2025-04-13T20:36:25.296920Z"
    },
    "papermill": {
     "duration": 39.037599,
     "end_time": "2025-04-13T20:36:25.299247",
     "exception": false,
     "start_time": "2025-04-13T20:35:46.261648",
     "status": "completed"
    },
    "tags": []
   },
   "outputs": [
    {
     "name": "stdout",
     "output_type": "stream",
     "text": [
      "Fit...\n"
     ]
    },
    {
     "name": "stderr",
     "output_type": "stream",
     "text": [
      "/usr/local/lib/python3.12/site-packages/sklearn/model_selection/_validation.py:528: FitFailedWarning: \n",
      "40 fits failed out of a total of 200.\n",
      "The score on these train-test partitions for these parameters will be set to nan.\n",
      "If these failures are not expected, you can try to debug them by setting error_score='raise'.\n",
      "\n",
      "Below are more details about the failures:\n",
      "--------------------------------------------------------------------------------\n",
      "40 fits failed with the following error:\n",
      "Traceback (most recent call last):\n",
      "  File \"/usr/local/lib/python3.12/site-packages/sklearn/model_selection/_validation.py\", line 866, in _fit_and_score\n",
      "    estimator.fit(X_train, y_train, **fit_params)\n",
      "  File \"/usr/local/lib/python3.12/site-packages/sklearn/base.py\", line 1389, in wrapper\n",
      "    return fit_method(estimator, *args, **kwargs)\n",
      "           ^^^^^^^^^^^^^^^^^^^^^^^^^^^^^^^^^^^^^^\n",
      "  File \"/usr/local/lib/python3.12/site-packages/sklearn/pipeline.py\", line 654, in fit\n",
      "    Xt = self._fit(X, y, routed_params, raw_params=params)\n",
      "         ^^^^^^^^^^^^^^^^^^^^^^^^^^^^^^^^^^^^^^^^^^^^^^^^^\n",
      "  File \"/usr/local/lib/python3.12/site-packages/sklearn/pipeline.py\", line 588, in _fit\n",
      "    X, fitted_transformer = fit_transform_one_cached(\n",
      "                            ^^^^^^^^^^^^^^^^^^^^^^^^^\n",
      "  File \"/usr/local/lib/python3.12/site-packages/joblib/memory.py\", line 312, in __call__\n",
      "    return self.func(*args, **kwargs)\n",
      "           ^^^^^^^^^^^^^^^^^^^^^^^^^^\n",
      "  File \"/usr/local/lib/python3.12/site-packages/sklearn/pipeline.py\", line 1551, in _fit_transform_one\n",
      "    res = transformer.fit_transform(X, y, **params.get(\"fit_transform\", {}))\n",
      "          ^^^^^^^^^^^^^^^^^^^^^^^^^^^^^^^^^^^^^^^^^^^^^^^^^^^^^^^^^^^^^^^^^^\n",
      "  File \"/usr/local/lib/python3.12/site-packages/sklearn/utils/_set_output.py\", line 319, in wrapped\n",
      "    data_to_wrap = f(self, X, *args, **kwargs)\n",
      "                   ^^^^^^^^^^^^^^^^^^^^^^^^^^^\n",
      "  File \"/usr/local/lib/python3.12/site-packages/sklearn/base.py\", line 1389, in wrapper\n",
      "    return fit_method(estimator, *args, **kwargs)\n",
      "           ^^^^^^^^^^^^^^^^^^^^^^^^^^^^^^^^^^^^^^\n",
      "  File \"/usr/local/lib/python3.12/site-packages/sklearn/compose/_column_transformer.py\", line 1001, in fit_transform\n",
      "    result = self._call_func_on_transformers(\n",
      "             ^^^^^^^^^^^^^^^^^^^^^^^^^^^^^^^^\n",
      "  File \"/usr/local/lib/python3.12/site-packages/sklearn/compose/_column_transformer.py\", line 910, in _call_func_on_transformers\n",
      "    return Parallel(n_jobs=self.n_jobs)(jobs)\n",
      "           ^^^^^^^^^^^^^^^^^^^^^^^^^^^^^^^^^^\n",
      "  File \"/usr/local/lib/python3.12/site-packages/sklearn/utils/parallel.py\", line 77, in __call__\n",
      "    return super().__call__(iterable_with_config)\n",
      "           ^^^^^^^^^^^^^^^^^^^^^^^^^^^^^^^^^^^^^^\n",
      "  File \"/usr/local/lib/python3.12/site-packages/joblib/parallel.py\", line 1918, in __call__\n",
      "    return output if self.return_generator else list(output)\n",
      "                                                ^^^^^^^^^^^^\n",
      "  File \"/usr/local/lib/python3.12/site-packages/joblib/parallel.py\", line 1847, in _get_sequential_output\n",
      "    res = func(*args, **kwargs)\n",
      "          ^^^^^^^^^^^^^^^^^^^^^\n",
      "  File \"/usr/local/lib/python3.12/site-packages/sklearn/utils/parallel.py\", line 139, in __call__\n",
      "    return self.function(*args, **kwargs)\n",
      "           ^^^^^^^^^^^^^^^^^^^^^^^^^^^^^^\n",
      "  File \"/usr/local/lib/python3.12/site-packages/sklearn/pipeline.py\", line 1551, in _fit_transform_one\n",
      "    res = transformer.fit_transform(X, y, **params.get(\"fit_transform\", {}))\n",
      "          ^^^^^^^^^^^^^^^^^^^^^^^^^^^^^^^^^^^^^^^^^^^^^^^^^^^^^^^^^^^^^^^^^^\n",
      "  File \"/usr/local/lib/python3.12/site-packages/sklearn/base.py\", line 1389, in wrapper\n",
      "    return fit_method(estimator, *args, **kwargs)\n",
      "           ^^^^^^^^^^^^^^^^^^^^^^^^^^^^^^^^^^^^^^\n",
      "  File \"/usr/local/lib/python3.12/site-packages/sklearn/feature_extraction/text.py\", line 1389, in fit_transform\n",
      "    X = self._limit_features(\n",
      "        ^^^^^^^^^^^^^^^^^^^^^\n",
      "  File \"/usr/local/lib/python3.12/site-packages/sklearn/feature_extraction/text.py\", line 1241, in _limit_features\n",
      "    raise ValueError(\n",
      "ValueError: After pruning, no terms remain. Try a lower min_df or a higher max_df.\n",
      "\n",
      "  warnings.warn(some_fits_failed_message, FitFailedWarning)\n",
      "/usr/local/lib/python3.12/site-packages/sklearn/model_selection/_search.py:1108: UserWarning: One or more of the test scores are non-finite: [nan nan nan nan nan nan nan nan nan nan nan nan nan nan nan nan nan nan\n",
      " nan nan nan nan nan nan nan nan nan nan nan nan nan nan nan nan nan nan\n",
      " nan nan nan nan]\n",
      "  warnings.warn(\n",
      "/usr/local/lib/python3.12/site-packages/sklearn/model_selection/_search.py:1108: UserWarning: One or more of the train scores are non-finite: [nan nan nan nan nan nan nan nan nan nan nan nan nan nan nan nan nan nan\n",
      " nan nan nan nan nan nan nan nan nan nan nan nan nan nan nan nan nan nan\n",
      " nan nan nan nan]\n",
      "  warnings.warn(\n"
     ]
    },
    {
     "name": "stderr",
     "output_type": "stream",
     "text": [
      "/usr/local/lib/python3.12/site-packages/sklearn/model_selection/_search.py:1108: UserWarning: One or more of the test scores are non-finite: [       nan        nan        nan        nan        nan        nan\n",
      "        nan        nan        nan        nan        nan        nan\n",
      "        nan        nan        nan        nan        nan        nan\n",
      "        nan        nan        nan        nan        nan        nan\n",
      "        nan        nan        nan        nan        nan        nan\n",
      "        nan        nan        nan        nan        nan        nan\n",
      "        nan        nan        nan        nan 0.51723182 0.54830579\n",
      " 0.51723182 0.50188731 0.52422933 0.52654845 0.50360544 0.51391357\n",
      " 0.53304505 0.52601299 0.52831836 0.51959702 0.52444902 0.52114578]\n",
      "  warnings.warn(\n",
      "/usr/local/lib/python3.12/site-packages/sklearn/model_selection/_search.py:1108: UserWarning: One or more of the train scores are non-finite: [       nan        nan        nan        nan        nan        nan\n",
      "        nan        nan        nan        nan        nan        nan\n",
      "        nan        nan        nan        nan        nan        nan\n",
      "        nan        nan        nan        nan        nan        nan\n",
      "        nan        nan        nan        nan        nan        nan\n",
      "        nan        nan        nan        nan        nan        nan\n",
      "        nan        nan        nan        nan 1.         1.\n",
      " 0.49194477 0.97909195 0.68833134 1.         0.83018252 0.67952852\n",
      " 0.85322989 0.99481149 0.96371885 1.         0.64705128 0.99828991]\n",
      "  warnings.warn(\n"
     ]
    },
    {
     "name": "stderr",
     "output_type": "stream",
     "text": [
      "/usr/local/lib/python3.12/site-packages/sklearn/model_selection/_search.py:1108: UserWarning: One or more of the test scores are non-finite: [       nan        nan        nan        nan        nan        nan\n",
      "        nan        nan        nan        nan        nan        nan\n",
      "        nan        nan        nan        nan        nan        nan\n",
      "        nan        nan        nan        nan        nan        nan\n",
      "        nan        nan        nan        nan        nan        nan\n",
      "        nan        nan        nan        nan        nan        nan\n",
      "        nan        nan        nan        nan 0.51723182 0.54830579\n",
      " 0.51723182 0.50188731 0.52422933 0.52654845 0.50360544 0.51391357\n",
      " 0.53304505 0.52601299 0.52831836 0.51959702 0.52444902 0.52114578\n",
      " 0.50509668 0.51187645 0.53580641 0.47790022 0.52697896]\n",
      "  warnings.warn(\n",
      "/usr/local/lib/python3.12/site-packages/sklearn/model_selection/_search.py:1108: UserWarning: One or more of the train scores are non-finite: [       nan        nan        nan        nan        nan        nan\n",
      "        nan        nan        nan        nan        nan        nan\n",
      "        nan        nan        nan        nan        nan        nan\n",
      "        nan        nan        nan        nan        nan        nan\n",
      "        nan        nan        nan        nan        nan        nan\n",
      "        nan        nan        nan        nan        nan        nan\n",
      "        nan        nan        nan        nan 1.         1.\n",
      " 0.49194477 0.97909195 0.68833134 1.         0.83018252 0.67952852\n",
      " 0.85322989 0.99481149 0.96371885 1.         0.64705128 0.99828991\n",
      " 0.99776215 0.99328753 0.89859479 0.62655724 1.        ]\n",
      "  warnings.warn(\n"
     ]
    },
    {
     "name": "stderr",
     "output_type": "stream",
     "text": [
      "/usr/local/lib/python3.12/site-packages/sklearn/model_selection/_search.py:1108: UserWarning: One or more of the test scores are non-finite: [       nan        nan        nan        nan        nan        nan\n",
      "        nan        nan        nan        nan        nan        nan\n",
      "        nan        nan        nan        nan        nan        nan\n",
      "        nan        nan        nan        nan        nan        nan\n",
      "        nan        nan        nan        nan        nan        nan\n",
      "        nan        nan        nan        nan        nan        nan\n",
      "        nan        nan        nan        nan 0.51723182 0.54830579\n",
      " 0.51723182 0.50188731 0.52422933 0.52654845 0.50360544 0.51391357\n",
      " 0.53304505 0.52601299 0.52831836 0.51959702 0.52444902 0.52114578\n",
      " 0.50509668 0.51187645 0.53580641 0.47790022 0.52697896 0.52513202\n",
      " 0.52353985]\n",
      "  warnings.warn(\n",
      "/usr/local/lib/python3.12/site-packages/sklearn/model_selection/_search.py:1108: UserWarning: One or more of the train scores are non-finite: [       nan        nan        nan        nan        nan        nan\n",
      "        nan        nan        nan        nan        nan        nan\n",
      "        nan        nan        nan        nan        nan        nan\n",
      "        nan        nan        nan        nan        nan        nan\n",
      "        nan        nan        nan        nan        nan        nan\n",
      "        nan        nan        nan        nan        nan        nan\n",
      "        nan        nan        nan        nan 1.         1.\n",
      " 0.49194477 0.97909195 0.68833134 1.         0.83018252 0.67952852\n",
      " 0.85322989 0.99481149 0.96371885 1.         0.64705128 0.99828991\n",
      " 0.99776215 0.99328753 0.89859479 0.62655724 1.         1.\n",
      " 0.76674703]\n",
      "  warnings.warn(\n"
     ]
    },
    {
     "name": "stdout",
     "output_type": "stream",
     "text": [
      "Predict...\n"
     ]
    }
   ],
   "source": [
    "clf = HalvingRandomSearchCV(\n",
    "    rf_pipeline,\n",
    "    rf_param_grid,\n",
    "    return_train_score=True,\n",
    "    scoring=\"f1_weighted\",\n",
    "    n_jobs=-1,\n",
    "    n_candidates=40,\n",
    ")\n",
    "_, rf_halv_rand_grid_results = run_search(\n",
    "    \"HalvingRandomSearchCV\", clf, X_train, X_val, y_train, y_val\n",
    ")"
   ]
  },
  {
   "cell_type": "code",
   "execution_count": 18,
   "id": "c405c6ad",
   "metadata": {
    "execution": {
     "iopub.execute_input": "2025-04-13T20:36:25.326440Z",
     "iopub.status.busy": "2025-04-13T20:36:25.325494Z",
     "iopub.status.idle": "2025-04-13T20:36:46.595696Z",
     "shell.execute_reply": "2025-04-13T20:36:46.594475Z"
    },
    "papermill": {
     "duration": 21.284872,
     "end_time": "2025-04-13T20:36:46.597349",
     "exception": false,
     "start_time": "2025-04-13T20:36:25.312477",
     "status": "completed"
    },
    "tags": []
   },
   "outputs": [
    {
     "name": "stdout",
     "output_type": "stream",
     "text": [
      "Fit...\n"
     ]
    },
    {
     "name": "stderr",
     "output_type": "stream",
     "text": [
      "/usr/local/lib/python3.12/site-packages/sklearn/model_selection/_search.py:317: UserWarning: The total space of parameters 36 is smaller than n_iter=40. Running 36 iterations. For exhaustive searches, use GridSearchCV.\n",
      "  warnings.warn(\n"
     ]
    },
    {
     "name": "stdout",
     "output_type": "stream",
     "text": [
      "Predict...\n"
     ]
    }
   ],
   "source": [
    "clf = HalvingRandomSearchCV(\n",
    "    svm_pipeline,\n",
    "    svm_param_grid,\n",
    "    return_train_score=True,\n",
    "    scoring=\"f1_weighted\",\n",
    "    n_jobs=-1,\n",
    "    n_candidates=40,\n",
    ")\n",
    "_, svm_halv_rand_grid_results = run_search(\n",
    "    \"HalvingRandomSearchCV\", clf, X_train, X_val, y_train, y_val\n",
    ")"
   ]
  },
  {
   "cell_type": "markdown",
   "id": "82b4d4f4",
   "metadata": {
    "papermill": {
     "duration": 0.01283,
     "end_time": "2025-04-13T20:36:46.624573",
     "exception": false,
     "start_time": "2025-04-13T20:36:46.611743",
     "status": "completed"
    },
    "tags": []
   },
   "source": [
    "#### 4.3 Liczba iteracji metody"
   ]
  },
  {
   "cell_type": "code",
   "execution_count": 19,
   "id": "30a54631",
   "metadata": {
    "execution": {
     "iopub.execute_input": "2025-04-13T20:36:46.656508Z",
     "iopub.status.busy": "2025-04-13T20:36:46.655835Z",
     "iopub.status.idle": "2025-04-13T20:36:46.660649Z",
     "shell.execute_reply": "2025-04-13T20:36:46.659646Z"
    },
    "papermill": {
     "duration": 0.022111,
     "end_time": "2025-04-13T20:36:46.662087",
     "exception": false,
     "start_time": "2025-04-13T20:36:46.639976",
     "status": "completed"
    },
    "tags": []
   },
   "outputs": [
    {
     "name": "stdout",
     "output_type": "stream",
     "text": [
      "GridSearchCV wykonał 61 pomiarów\n"
     ]
    }
   ],
   "source": [
    "print(f\"GridSearchCV wykonał {rf_halv_rand_grid_results['Models Tried']} pomiarów\")"
   ]
  },
  {
   "cell_type": "markdown",
   "id": "e9fe3633",
   "metadata": {
    "papermill": {
     "duration": 0.015388,
     "end_time": "2025-04-13T20:36:46.691428",
     "exception": false,
     "start_time": "2025-04-13T20:36:46.676040",
     "status": "completed"
    },
    "tags": []
   },
   "source": [
    "## 5. Podsumowanie"
   ]
  },
  {
   "cell_type": "markdown",
   "id": "3d13b508",
   "metadata": {
    "papermill": {
     "duration": 0.016077,
     "end_time": "2025-04-13T20:36:46.722542",
     "exception": false,
     "start_time": "2025-04-13T20:36:46.706465",
     "status": "completed"
    },
    "tags": []
   },
   "source": [
    "#### 5.1 Porównanie modeli"
   ]
  },
  {
   "cell_type": "code",
   "execution_count": 20,
   "id": "db7ffdad",
   "metadata": {
    "execution": {
     "iopub.execute_input": "2025-04-13T20:36:46.756568Z",
     "iopub.status.busy": "2025-04-13T20:36:46.755010Z",
     "iopub.status.idle": "2025-04-13T20:36:46.765340Z",
     "shell.execute_reply": "2025-04-13T20:36:46.764219Z"
    },
    "papermill": {
     "duration": 0.028475,
     "end_time": "2025-04-13T20:36:46.766822",
     "exception": false,
     "start_time": "2025-04-13T20:36:46.738347",
     "status": "completed"
    },
    "tags": []
   },
   "outputs": [],
   "source": [
    "rf_results = [\n",
    "    rf_randomized_results,\n",
    "    rf_grid_results,\n",
    "    rf_halv_grid_results,\n",
    "    rf_halv_rand_grid_results,\n",
    "]\n",
    "df_rf_results = pd.DataFrame(rf_results)"
   ]
  },
  {
   "cell_type": "code",
   "execution_count": 21,
   "id": "b476ca9d",
   "metadata": {
    "execution": {
     "iopub.execute_input": "2025-04-13T20:36:46.802170Z",
     "iopub.status.busy": "2025-04-13T20:36:46.800755Z",
     "iopub.status.idle": "2025-04-13T20:36:46.810614Z",
     "shell.execute_reply": "2025-04-13T20:36:46.809219Z"
    },
    "papermill": {
     "duration": 0.031219,
     "end_time": "2025-04-13T20:36:46.812754",
     "exception": false,
     "start_time": "2025-04-13T20:36:46.781535",
     "status": "completed"
    },
    "tags": []
   },
   "outputs": [],
   "source": [
    "svm_results = [\n",
    "    svm_randomized_results,\n",
    "    svm_grid_results,\n",
    "    svm_halv_grid_results,\n",
    "    svm_halv_rand_grid_results,\n",
    "]\n",
    "df_svm_results = pd.DataFrame(svm_results)"
   ]
  },
  {
   "cell_type": "code",
   "execution_count": 22,
   "id": "6236559b",
   "metadata": {
    "execution": {
     "iopub.execute_input": "2025-04-13T20:36:46.853249Z",
     "iopub.status.busy": "2025-04-13T20:36:46.851830Z",
     "iopub.status.idle": "2025-04-13T20:36:47.727765Z",
     "shell.execute_reply": "2025-04-13T20:36:47.726590Z"
    },
    "papermill": {
     "duration": 0.895518,
     "end_time": "2025-04-13T20:36:47.729519",
     "exception": false,
     "start_time": "2025-04-13T20:36:46.834001",
     "status": "completed"
    },
    "tags": []
   },
   "outputs": [
    {
     "name": "stderr",
     "output_type": "stream",
     "text": [
      "/usr/local/lib/python3.12/site-packages/seaborn/_base.py:949: FutureWarning: When grouping with a length-1 list-like, you will need to pass a length-1 tuple to get_group in a future version of pandas. Pass `(name,)` instead of `name` to silence this warning.\n",
      "  data_subset = grouped_data.get_group(pd_key)\n",
      "/usr/local/lib/python3.12/site-packages/seaborn/_base.py:949: FutureWarning: When grouping with a length-1 list-like, you will need to pass a length-1 tuple to get_group in a future version of pandas. Pass `(name,)` instead of `name` to silence this warning.\n",
      "  data_subset = grouped_data.get_group(pd_key)\n",
      "/usr/local/lib/python3.12/site-packages/seaborn/_base.py:949: FutureWarning: When grouping with a length-1 list-like, you will need to pass a length-1 tuple to get_group in a future version of pandas. Pass `(name,)` instead of `name` to silence this warning.\n",
      "  data_subset = grouped_data.get_group(pd_key)\n",
      "/usr/local/lib/python3.12/site-packages/seaborn/_base.py:949: FutureWarning: When grouping with a length-1 list-like, you will need to pass a length-1 tuple to get_group in a future version of pandas. Pass `(name,)` instead of `name` to silence this warning.\n",
      "  data_subset = grouped_data.get_group(pd_key)\n"
     ]
    },
    {
     "data": {
      "image/png": "[encoded data removed]",
      "text/plain": [
       "<Figure size 1500x800 with 1 Axes>"
      ]
     },
     "metadata": {},
     "output_type": "display_data"
    }
   ],
   "source": [
    "plt.figure(figsize=(15, 8))\n",
    "metrics_to_plot = [\n",
    "    \"Best f1_weighted (CV)\",\n",
    "    \"Accuracy\",\n",
    "    \"Precision\",\n",
    "    \"Recall\",\n",
    "    \"F1 (weighted)\",\n",
    "]\n",
    "df_melted = df_rf_results.melt(\n",
    "    id_vars=\"Method\", value_vars=metrics_to_plot, var_name=\"Metric\", value_name=\"Score\"\n",
    ")\n",
    "\n",
    "sns.barplot(data=df_melted, x=\"Metric\", y=\"Score\", hue=\"Method\")\n",
    "plt.title(\"Porównanie metryk jakości modeli\")\n",
    "plt.xticks(rotation=45)\n",
    "plt.legend(title=\"Metoda\")\n",
    "plt.tight_layout()\n",
    "plt.show()"
   ]
  },
  {
   "cell_type": "code",
   "execution_count": 23,
   "id": "c1afaa7c",
   "metadata": {
    "execution": {
     "iopub.execute_input": "2025-04-13T20:36:47.765189Z",
     "iopub.status.busy": "2025-04-13T20:36:47.764791Z",
     "iopub.status.idle": "2025-04-13T20:36:48.027419Z",
     "shell.execute_reply": "2025-04-13T20:36:48.026122Z"
    },
    "papermill": {
     "duration": 0.281495,
     "end_time": "2025-04-13T20:36:48.029378",
     "exception": false,
     "start_time": "2025-04-13T20:36:47.747883",
     "status": "completed"
    },
    "tags": []
   },
   "outputs": [
    {
     "name": "stderr",
     "output_type": "stream",
     "text": [
      "/usr/local/lib/python3.12/site-packages/seaborn/_base.py:949: FutureWarning: When grouping with a length-1 list-like, you will need to pass a length-1 tuple to get_group in a future version of pandas. Pass `(name,)` instead of `name` to silence this warning.\n",
      "  data_subset = grouped_data.get_group(pd_key)\n",
      "/usr/local/lib/python3.12/site-packages/seaborn/_base.py:949: FutureWarning: When grouping with a length-1 list-like, you will need to pass a length-1 tuple to get_group in a future version of pandas. Pass `(name,)` instead of `name` to silence this warning.\n",
      "  data_subset = grouped_data.get_group(pd_key)\n",
      "/usr/local/lib/python3.12/site-packages/seaborn/_base.py:949: FutureWarning: When grouping with a length-1 list-like, you will need to pass a length-1 tuple to get_group in a future version of pandas. Pass `(name,)` instead of `name` to silence this warning.\n",
      "  data_subset = grouped_data.get_group(pd_key)\n",
      "/usr/local/lib/python3.12/site-packages/seaborn/_base.py:949: FutureWarning: When grouping with a length-1 list-like, you will need to pass a length-1 tuple to get_group in a future version of pandas. Pass `(name,)` instead of `name` to silence this warning.\n",
      "  data_subset = grouped_data.get_group(pd_key)\n"
     ]
    },
    {
     "data": {
      "image/png": "[encoded data removed]",
      "text/plain": [
       "<Figure size 1000x600 with 1 Axes>"
      ]
     },
     "metadata": {},
     "output_type": "display_data"
    }
   ],
   "source": [
    "plt.figure(figsize=(10, 6))\n",
    "sns.barplot(data=df_rf_results, x=\"Method\", y=\"Time (s)\", palette=\"muted\", hue=\"Method\")\n",
    "plt.title(\"Czas działania dla każdej metody\")\n",
    "plt.ylabel(\"Czas (s)\")\n",
    "plt.xticks(rotation=15)\n",
    "plt.tight_layout()\n",
    "plt.show()"
   ]
  },
  {
   "cell_type": "code",
   "execution_count": 24,
   "id": "4dd3df5e",
   "metadata": {
    "execution": {
     "iopub.execute_input": "2025-04-13T20:36:48.064671Z",
     "iopub.status.busy": "2025-04-13T20:36:48.063220Z",
     "iopub.status.idle": "2025-04-13T20:36:48.070850Z",
     "shell.execute_reply": "2025-04-13T20:36:48.069005Z"
    },
    "papermill": {
     "duration": 0.026223,
     "end_time": "2025-04-13T20:36:48.072649",
     "exception": false,
     "start_time": "2025-04-13T20:36:48.046426",
     "status": "completed"
    },
    "tags": []
   },
   "outputs": [],
   "source": [
    "df_rf_results[\"Time per Model\"] = (\n",
    "    df_rf_results[\"Time (s)\"] / df_rf_results[\"Models Tried\"]\n",
    ")"
   ]
  },
  {
   "cell_type": "code",
   "execution_count": 25,
   "id": "ae0a682a",
   "metadata": {
    "execution": {
     "iopub.execute_input": "2025-04-13T20:36:48.105516Z",
     "iopub.status.busy": "2025-04-13T20:36:48.104495Z",
     "iopub.status.idle": "2025-04-13T20:36:48.454598Z",
     "shell.execute_reply": "2025-04-13T20:36:48.451142Z"
    },
    "papermill": {
     "duration": 0.369726,
     "end_time": "2025-04-13T20:36:48.457959",
     "exception": false,
     "start_time": "2025-04-13T20:36:48.088233",
     "status": "completed"
    },
    "tags": []
   },
   "outputs": [
    {
     "name": "stderr",
     "output_type": "stream",
     "text": [
      "/usr/local/lib/python3.12/site-packages/seaborn/_base.py:949: FutureWarning: When grouping with a length-1 list-like, you will need to pass a length-1 tuple to get_group in a future version of pandas. Pass `(name,)` instead of `name` to silence this warning.\n",
      "  data_subset = grouped_data.get_group(pd_key)\n",
      "/usr/local/lib/python3.12/site-packages/seaborn/_base.py:949: FutureWarning: When grouping with a length-1 list-like, you will need to pass a length-1 tuple to get_group in a future version of pandas. Pass `(name,)` instead of `name` to silence this warning.\n",
      "  data_subset = grouped_data.get_group(pd_key)\n",
      "/usr/local/lib/python3.12/site-packages/seaborn/_base.py:949: FutureWarning: When grouping with a length-1 list-like, you will need to pass a length-1 tuple to get_group in a future version of pandas. Pass `(name,)` instead of `name` to silence this warning.\n",
      "  data_subset = grouped_data.get_group(pd_key)\n",
      "/usr/local/lib/python3.12/site-packages/seaborn/_base.py:949: FutureWarning: When grouping with a length-1 list-like, you will need to pass a length-1 tuple to get_group in a future version of pandas. Pass `(name,)` instead of `name` to silence this warning.\n",
      "  data_subset = grouped_data.get_group(pd_key)\n"
     ]
    },
    {
     "data": {
      "image/png": "[encoded data removed]",
      "text/plain": [
       "<Figure size 1000x600 with 1 Axes>"
      ]
     },
     "metadata": {},
     "output_type": "display_data"
    }
   ],
   "source": [
    "plt.figure(figsize=(10, 6))\n",
    "sns.barplot(\n",
    "    data=df_rf_results,\n",
    "    x=\"Method\",\n",
    "    y=\"Time per Model\",\n",
    "    hue=\"Method\",\n",
    "    palette=\"viridis\",\n",
    "    legend=False,\n",
    ")\n",
    "plt.title(\"Średni czas trenowania pojedynczego modelu\")\n",
    "plt.ylabel(\"Czas (s) na model\")\n",
    "plt.xticks(rotation=15)\n",
    "plt.tight_layout()\n",
    "plt.show()"
   ]
  },
  {
   "cell_type": "code",
   "execution_count": 26,
   "id": "7f3bbc11",
   "metadata": {
    "execution": {
     "iopub.execute_input": "2025-04-13T20:36:48.515088Z",
     "iopub.status.busy": "2025-04-13T20:36:48.513454Z",
     "iopub.status.idle": "2025-04-13T20:36:48.533338Z",
     "shell.execute_reply": "2025-04-13T20:36:48.531807Z"
    },
    "papermill": {
     "duration": 0.052287,
     "end_time": "2025-04-13T20:36:48.535528",
     "exception": false,
     "start_time": "2025-04-13T20:36:48.483241",
     "status": "completed"
    },
    "tags": []
   },
   "outputs": [],
   "source": [
    "rf_max_index = df_rf_results[\"Best f1_weighted (CV)\"].idxmax()\n",
    "svm_max_index = df_svm_results[\"Best f1_weighted (CV)\"].idxmax()\n",
    "rf_best_params = df_rf_results[\"Best Params\"][rf_max_index]\n",
    "svm_best_params = df_svm_results[\"Best Params\"][svm_max_index]\n",
    "best_params = {\n",
    "    \"RandomForest\": rf_best_params,\n",
    "    \"SVM\": svm_best_params,\n",
    "}\n",
    "\n",
    "with open(\"data/models/best_params.json\", \"w\") as f:\n",
    "    json.dump(best_params, f)"
   ]
  },
  {
   "cell_type": "markdown",
   "id": "e40539ea",
   "metadata": {
    "papermill": {
     "duration": 0.02446,
     "end_time": "2025-04-13T20:36:48.591389",
     "exception": false,
     "start_time": "2025-04-13T20:36:48.566929",
     "status": "completed"
    },
    "tags": []
   },
   "source": [
    "#### 5.2 Porównanie wyników\n",
    "\n",
    "Najlepsze wyniki osiągnął model Randomized Search\n",
    "\n",
    "Model trenował się najwięcej czasu oraz posiada najgorszą metrykę względem czasu/model\n",
    "\n",
    "Pozostałe metody osiągnęły bardzo podobne wyniki, lecz różniły je czasy wykonywania.\n",
    "\n",
    "Zakładająć, iż wyniki bybły nieznacznie podobne kolejny model z najlepszymi wynikami posiada HalvingRandomSearch ze względu na definitywnie najkrótszy czas działania."
   ]
  },
  {
   "cell_type": "markdown",
   "id": "2d565a21",
   "metadata": {
    "papermill": {
     "duration": 0.020778,
     "end_time": "2025-04-13T20:36:48.632768",
     "exception": false,
     "start_time": "2025-04-13T20:36:48.611990",
     "status": "completed"
    },
    "tags": []
   },
   "source": [
    "#### 5.3 Wybrów i uzasadnienie"
   ]
  },
  {
   "cell_type": "markdown",
   "id": "d4c17b35",
   "metadata": {
    "papermill": {
     "duration": 0.020641,
     "end_time": "2025-04-13T20:36:48.670119",
     "exception": false,
     "start_time": "2025-04-13T20:36:48.649478",
     "status": "completed"
    },
    "tags": []
   },
   "source": [
    "Nie ma jednego dobrego wyjścia, są one bardzo zależne od naszych potrzeb i kompetencji.\n",
    "\n",
    "Najlepszą opcją, gdy potrzebujemy szybko znaleźć \"dobry\" model jest zdecydowanie HalvingRandomSearch ze względu na akceptowalne wyniki w zaskakująco krótkim czasie. (Dobre wyniki, szybkie działanie).\n",
    "\n",
    "Najlepszym wyborem, gdy znamy dokładnie model, dane oraz posiadamy dużą wiedzę dziedzinową i intuicję jest GridSearch ze względu na możliwość dokładnego zbadania wielu hiperparametrów dla naszej hipotezy. (Najlepszy wynik, najdłużej się wykonuje).\n",
    "\n",
    "Najlepszym wyborem, gdy nie do końca znamy potencjalne hiperparametry oraz nie zależy nam na czasie jest RandomizedSearch dzięki któremu w sposób losowy możemy osiąganąć dobre wyniki dla modelu oraz samemu zdecydować ilu iteracji potrzebujemy.\n",
    "\n",
    "Dla mnie, jako studenta bez silnej intuicji odnośnie nieznanych klasyfikatorów i dla nieznanyc zbiorów danych najlepszą opcją byłby HalvingRandomSearch, ponieważ umożliwiłby mi w szybki sposób zrozumieć dla jakich mniej więcej parametrów model działałby dobrze."
   ]
  }
 ],
 "metadata": {
  "kernelspec": {
   "display_name": ".venv",
   "language": "python",
   "name": "python3"
  },
  "language_info": {
   "codemirror_mode": {
    "name": "ipython",
    "version": 3
   },
   "file_extension": ".py",
   "mimetype": "text/x-python",
   "name": "python",
   "nbconvert_exporter": "python",
   "pygments_lexer": "ipython3",
   "version": "3.12.10"
  },
  "papermill": {
   "default_parameters": {},
   "duration": 2482.737936,
   "end_time": "2025-04-13T20:36:51.331950",
   "environment_variables": {},
   "exception": null,
   "input_path": "notebooks/Lab6.1.ipynb",
   "output_path": "data/notebooks/Lab6.1.ipynb",
   "parameters": {},
   "start_time": "2025-04-13T19:55:28.594014",
   "version": "2.6.0"
  }
 },
 "nbformat": 4,
 "nbformat_minor": 5
}