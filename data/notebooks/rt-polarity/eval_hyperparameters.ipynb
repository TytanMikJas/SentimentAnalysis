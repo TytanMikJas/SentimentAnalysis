{
 "cells": [
  {
   "cell_type": "markdown",
   "id": "91a70fe3",
   "metadata": {
    "papermill": {
     "duration": 0.023541,
     "end_time": "2025-04-14T20:59:55.887871",
     "exception": false,
     "start_time": "2025-04-14T20:59:55.864330",
     "status": "completed"
    },
    "tags": []
   },
   "source": [
    "## 0. Inicjalizacja"
   ]
  },
  {
   "cell_type": "markdown",
   "id": "b7d37191",
   "metadata": {
    "papermill": {
     "duration": 0.017427,
     "end_time": "2025-04-14T20:59:55.923647",
     "exception": false,
     "start_time": "2025-04-14T20:59:55.906220",
     "status": "completed"
    },
    "tags": []
   },
   "source": [
    "#### 0.1 Import"
   ]
  },
  {
   "cell_type": "code",
   "execution_count": 1,
   "id": "b8f7c39b",
   "metadata": {
    "execution": {
     "iopub.execute_input": "2025-04-14T20:59:55.957344Z",
     "iopub.status.busy": "2025-04-14T20:59:55.956634Z",
     "iopub.status.idle": "2025-04-14T21:00:00.483407Z",
     "shell.execute_reply": "2025-04-14T21:00:00.481826Z"
    },
    "papermill": {
     "duration": 4.545918,
     "end_time": "2025-04-14T21:00:00.485272",
     "exception": false,
     "start_time": "2025-04-14T20:59:55.939354",
     "status": "completed"
    },
    "tags": []
   },
   "outputs": [],
   "source": [
    "import pandas as pd\n",
    "import os\n",
    "import sys\n",
    "import yaml\n",
    "import matplotlib.pyplot as plt\n",
    "import seaborn as sns\n",
    "from sklearn.ensemble import RandomForestClassifier\n",
    "from sklearn.svm import SVC\n",
    "from sklearn.experimental import enable_halving_search_cv\n",
    "from scipy.stats import uniform\n",
    "from sklearn.model_selection import (\n",
    "    GridSearchCV,\n",
    "    RandomizedSearchCV,\n",
    "    HalvingGridSearchCV,\n",
    "    HalvingRandomSearchCV,\n",
    "    train_test_split,\n",
    ")\n",
    "from time import time\n",
    "from scipy.stats import randint\n",
    "from sklearn.metrics import f1_score\n",
    "from sklearn.metrics import accuracy_score, precision_score, recall_score, f1_score\n",
    "import json\n",
    "\n",
    "sys.path.append(os.path.abspath(\"../../\"))\n",
    "from src.utils import load_train_test_data, get_params, SEPHORA_DATASET\n",
    "from src.pipeline import build_pipeline"
   ]
  },
  {
   "cell_type": "markdown",
   "id": "9b0f6b29",
   "metadata": {
    "papermill": {
     "duration": 0.013687,
     "end_time": "2025-04-14T21:00:00.513454",
     "exception": false,
     "start_time": "2025-04-14T21:00:00.499767",
     "status": "completed"
    },
    "tags": []
   },
   "source": [
    "#### 0.2 Parametry oraz Dataset"
   ]
  },
  {
   "cell_type": "code",
   "execution_count": 2,
   "id": "77630f1f",
   "metadata": {
    "execution": {
     "iopub.execute_input": "2025-04-14T21:00:00.541836Z",
     "iopub.status.busy": "2025-04-14T21:00:00.540962Z",
     "iopub.status.idle": "2025-04-14T21:00:00.547116Z",
     "shell.execute_reply": "2025-04-14T21:00:00.545775Z"
    },
    "papermill": {
     "duration": 0.021071,
     "end_time": "2025-04-14T21:00:00.548545",
     "exception": false,
     "start_time": "2025-04-14T21:00:00.527474",
     "status": "completed"
    },
    "tags": [
     "parameters"
    ]
   },
   "outputs": [],
   "source": [
    "dataset_name = \"sephora\""
   ]
  },
  {
   "cell_type": "code",
   "execution_count": 3,
   "id": "00818386",
   "metadata": {
    "execution": {
     "iopub.execute_input": "2025-04-14T21:00:00.575967Z",
     "iopub.status.busy": "2025-04-14T21:00:00.575309Z",
     "iopub.status.idle": "2025-04-14T21:00:00.581075Z",
     "shell.execute_reply": "2025-04-14T21:00:00.580120Z"
    },
    "papermill": {
     "duration": 0.02079,
     "end_time": "2025-04-14T21:00:00.582546",
     "exception": false,
     "start_time": "2025-04-14T21:00:00.561756",
     "status": "completed"
    },
    "tags": [
     "injected-parameters"
    ]
   },
   "outputs": [],
   "source": [
    "# Parameters\n",
    "dataset_name = \"rt-polarity\"\n"
   ]
  },
  {
   "cell_type": "code",
   "execution_count": 4,
   "id": "28477f4f",
   "metadata": {
    "execution": {
     "iopub.execute_input": "2025-04-14T21:00:00.613076Z",
     "iopub.status.busy": "2025-04-14T21:00:00.612456Z",
     "iopub.status.idle": "2025-04-14T21:00:00.627217Z",
     "shell.execute_reply": "2025-04-14T21:00:00.625329Z"
    },
    "papermill": {
     "duration": 0.033609,
     "end_time": "2025-04-14T21:00:00.629758",
     "exception": false,
     "start_time": "2025-04-14T21:00:00.596149",
     "status": "completed"
    },
    "tags": []
   },
   "outputs": [],
   "source": [
    "common_params, custom_params = get_params(dataset_name)"
   ]
  },
  {
   "cell_type": "code",
   "execution_count": 5,
   "id": "61661d76",
   "metadata": {
    "execution": {
     "iopub.execute_input": "2025-04-14T21:00:00.665868Z",
     "iopub.status.busy": "2025-04-14T21:00:00.665113Z",
     "iopub.status.idle": "2025-04-14T21:00:00.715008Z",
     "shell.execute_reply": "2025-04-14T21:00:00.713778Z"
    },
    "papermill": {
     "duration": 0.068656,
     "end_time": "2025-04-14T21:00:00.716644",
     "exception": false,
     "start_time": "2025-04-14T21:00:00.647988",
     "status": "completed"
    },
    "tags": []
   },
   "outputs": [
    {
     "name": "stderr",
     "output_type": "stream",
     "text": [
      "2025-04-14 21:00:00 - INFO - Loading train and test data\n"
     ]
    }
   ],
   "source": [
    "training_data, _ = load_train_test_data(\"data/train_test_data\", dataset_name)\n",
    "training_data = training_data[custom_params[\"pipeline\"][\"selected\"]]\n",
    "training_data = training_data[0:1_000]\n",
    "X_train, X_val, y_train, y_val = train_test_split(\n",
    "    training_data.drop(columns=[custom_params[\"features\"][\"label\"]], axis=1),\n",
    "    training_data[custom_params[\"features\"][\"label\"]],\n",
    "    test_size=0.2,\n",
    "    random_state=1\n",
    ")"
   ]
  },
  {
   "cell_type": "markdown",
   "id": "ab11c55c",
   "metadata": {
    "papermill": {
     "duration": 0.018109,
     "end_time": "2025-04-14T21:00:00.752106",
     "exception": false,
     "start_time": "2025-04-14T21:00:00.733997",
     "status": "completed"
    },
    "tags": []
   },
   "source": [
    "#### 0.3 Pipeline"
   ]
  },
  {
   "cell_type": "code",
   "execution_count": 6,
   "id": "8c195d58",
   "metadata": {
    "execution": {
     "iopub.execute_input": "2025-04-14T21:00:00.791539Z",
     "iopub.status.busy": "2025-04-14T21:00:00.791061Z",
     "iopub.status.idle": "2025-04-14T21:00:00.800136Z",
     "shell.execute_reply": "2025-04-14T21:00:00.797990Z"
    },
    "papermill": {
     "duration": 0.033209,
     "end_time": "2025-04-14T21:00:00.802877",
     "exception": false,
     "start_time": "2025-04-14T21:00:00.769668",
     "status": "completed"
    },
    "tags": []
   },
   "outputs": [],
   "source": [
    "rf_pipeline = build_pipeline(\n",
    "    custom_params, dataset_name, \"all\", RandomForestClassifier(n_jobs=-1, random_state=1)\n",
    ")\n",
    "svm_pipeline = build_pipeline(custom_params, dataset_name, \"all\", SVC(random_state=1))"
   ]
  },
  {
   "cell_type": "markdown",
   "id": "46b6b6c5",
   "metadata": {
    "papermill": {
     "duration": 0.015081,
     "end_time": "2025-04-14T21:00:00.834010",
     "exception": false,
     "start_time": "2025-04-14T21:00:00.818929",
     "status": "completed"
    },
    "tags": []
   },
   "source": [
    "#### 0.4 Funkcja do eksperymentów"
   ]
  },
  {
   "cell_type": "code",
   "execution_count": 7,
   "id": "571dd937",
   "metadata": {
    "execution": {
     "iopub.execute_input": "2025-04-14T21:00:00.871712Z",
     "iopub.status.busy": "2025-04-14T21:00:00.870907Z",
     "iopub.status.idle": "2025-04-14T21:00:00.880256Z",
     "shell.execute_reply": "2025-04-14T21:00:00.878282Z"
    },
    "papermill": {
     "duration": 0.030673,
     "end_time": "2025-04-14T21:00:00.882666",
     "exception": false,
     "start_time": "2025-04-14T21:00:00.851993",
     "status": "completed"
    },
    "tags": []
   },
   "outputs": [],
   "source": [
    "def run_search(name, searcher, X_train, X_val, y_train, y_val):\n",
    "    print(\"Fit...\")\n",
    "    start = time()\n",
    "    searcher.fit(X_train, y_train)\n",
    "    end = time()\n",
    "\n",
    "    elapsed = end - start\n",
    "    best_model = searcher.best_estimator_\n",
    "    n_models = len(searcher.cv_results_[\"mean_test_score\"])\n",
    "    best_params = searcher.best_params_\n",
    "    best_score = searcher.best_score_\n",
    "\n",
    "    print(\"Predict...\")\n",
    "    y_pred = best_model.predict(X_val)\n",
    "\n",
    "    results = {\n",
    "        \"Method\": name,\n",
    "        \"Best f1_weighted (CV)\": best_score,\n",
    "        \"Accuracy\": accuracy_score(y_val, y_pred),\n",
    "        \"Precision\": precision_score(\n",
    "            y_val, y_pred, average=\"weighted\", zero_division=0\n",
    "        ),\n",
    "        \"Recall\": recall_score(y_val, y_pred, average=\"weighted\", zero_division=0),\n",
    "        \"F1 (weighted)\": f1_score(y_val, y_pred, average=\"weighted\", zero_division=0),\n",
    "        \"Time (s)\": elapsed,\n",
    "        \"Models Tried\": n_models,\n",
    "        \"Best Params\": best_params,\n",
    "        \"Best Estimator\": best_model,\n",
    "    }\n",
    "\n",
    "    return searcher, results"
   ]
  },
  {
   "cell_type": "markdown",
   "id": "384e9f9a",
   "metadata": {
    "papermill": {
     "duration": 0.019584,
     "end_time": "2025-04-14T21:00:00.918769",
     "exception": false,
     "start_time": "2025-04-14T21:00:00.899185",
     "status": "completed"
    },
    "tags": []
   },
   "source": [
    "#### 0.5 Parametry do eksperymentów"
   ]
  },
  {
   "cell_type": "code",
   "execution_count": 8,
   "id": "0091c4ea",
   "metadata": {
    "execution": {
     "iopub.execute_input": "2025-04-14T21:00:00.954297Z",
     "iopub.status.busy": "2025-04-14T21:00:00.953268Z",
     "iopub.status.idle": "2025-04-14T21:00:00.975810Z",
     "shell.execute_reply": "2025-04-14T21:00:00.973825Z"
    },
    "papermill": {
     "duration": 0.043425,
     "end_time": "2025-04-14T21:00:00.978624",
     "exception": false,
     "start_time": "2025-04-14T21:00:00.935199",
     "status": "completed"
    },
    "tags": []
   },
   "outputs": [],
   "source": [
    "rf_distributions = {\n",
    "    \"classifier__n_estimators\": randint(30, 60),\n",
    "    \"classifier__max_depth\": randint(10, 50),\n",
    "    \"classifier__criterion\": [\"gini\", \"entropy\"],\n",
    "    \"classifier__min_samples_leaf\": randint(1, 7),\n",
    "    \"classifier__max_features\": [\"sqrt\", None],\n",
    "}\n",
    "\n",
    "svm_distributions = {\n",
    "    \"classifier__C\": uniform(0.5, 1.5),\n",
    "    \"classifier__kernel\": [\"linear\", \"rbf\", \"poly\"],\n",
    "    \"classifier__degree\": [2, 3],\n",
    "    \"classifier__gamma\": [\"scale\", \"auto\"],\n",
    "}"
   ]
  },
  {
   "cell_type": "code",
   "execution_count": 9,
   "id": "57607047",
   "metadata": {
    "execution": {
     "iopub.execute_input": "2025-04-14T21:00:01.080158Z",
     "iopub.status.busy": "2025-04-14T21:00:01.078916Z",
     "iopub.status.idle": "2025-04-14T21:00:01.085653Z",
     "shell.execute_reply": "2025-04-14T21:00:01.084287Z"
    },
    "papermill": {
     "duration": 0.031192,
     "end_time": "2025-04-14T21:00:01.087288",
     "exception": false,
     "start_time": "2025-04-14T21:00:01.056096",
     "status": "completed"
    },
    "tags": []
   },
   "outputs": [],
   "source": [
    "rf_param_grid = {\n",
    "    \"classifier__n_estimators\": [30, 60],\n",
    "    \"classifier__max_depth\": [10, 30, 50],\n",
    "    \"classifier__criterion\": [\"gini\", \"entropy\"],\n",
    "    \"classifier__min_samples_leaf\": [1, 5],\n",
    "    \"classifier__max_features\": [\"sqrt\", None],\n",
    "}\n",
    "\n",
    "svm_param_grid = {\n",
    "    \"classifier__C\": [0.8, 1, 1.5],\n",
    "    \"classifier__kernel\": [\"linear\", \"rbf\", \"poly\"],\n",
    "    \"classifier__degree\": [2, 3],\n",
    "    \"classifier__gamma\": [\"scale\", \"auto\"],\n",
    "}"
   ]
  },
  {
   "cell_type": "markdown",
   "id": "79d47d9d",
   "metadata": {
    "papermill": {
     "duration": 0.015796,
     "end_time": "2025-04-14T21:00:01.122319",
     "exception": false,
     "start_time": "2025-04-14T21:00:01.106523",
     "status": "completed"
    },
    "tags": []
   },
   "source": [
    "## 1. RandomSearch"
   ]
  },
  {
   "cell_type": "markdown",
   "id": "a2b6f128",
   "metadata": {
    "papermill": {
     "duration": 0.015913,
     "end_time": "2025-04-14T21:00:01.153635",
     "exception": false,
     "start_time": "2025-04-14T21:00:01.137722",
     "status": "completed"
    },
    "tags": []
   },
   "source": [
    "#### 1.1 Opis działania, możliwości, ograniczenia"
   ]
  },
  {
   "cell_type": "markdown",
   "id": "545ec683",
   "metadata": {
    "papermill": {
     "duration": 0.016055,
     "end_time": "2025-04-14T21:00:01.183994",
     "exception": false,
     "start_time": "2025-04-14T21:00:01.167939",
     "status": "completed"
    },
    "tags": []
   },
   "source": [
    "**[RandomizedSearch](https://scikit-learn.org/stable/modules/generated/sklearn.model_selection.RandomizedSearchCV.html)** losowo wybiera kombinacje hiperparametrów z podanego rozkładu lub listy wartości. Można ustawić liczbę iteracji, co pozwala kontrolować czas trwania wyszukiwania.\n",
    "\n",
    "- Dzięki losowości jest szybszy od GridSearch, lecz przeszukuje mniejszą przestrzeń hiperparametrów.\n",
    "Może wciąż znaleźć bardzo dobre parametry przy mniejszej złożoności obliczeniowej\n",
    "\n",
    "- Wynik zależy od losowości, ponieważ może pominąć najlepsze hiperparametry.\n",
    "- Wyniki mogą się różnić przy wielu próbach uruchomienia przez losowość"
   ]
  },
  {
   "cell_type": "markdown",
   "id": "98a489b3",
   "metadata": {
    "papermill": {
     "duration": 0.015481,
     "end_time": "2025-04-14T21:00:01.214012",
     "exception": false,
     "start_time": "2025-04-14T21:00:01.198531",
     "status": "completed"
    },
    "tags": []
   },
   "source": [
    "#### 1.2 Jakość najlepszego modelu oraz czas działania"
   ]
  },
  {
   "cell_type": "code",
   "execution_count": 10,
   "id": "164e1688",
   "metadata": {
    "execution": {
     "iopub.execute_input": "2025-04-14T21:00:01.245917Z",
     "iopub.status.busy": "2025-04-14T21:00:01.245513Z",
     "iopub.status.idle": "2025-04-14T21:00:28.258303Z",
     "shell.execute_reply": "2025-04-14T21:00:28.257311Z"
    },
    "papermill": {
     "duration": 27.029362,
     "end_time": "2025-04-14T21:00:28.260130",
     "exception": false,
     "start_time": "2025-04-14T21:00:01.230768",
     "status": "completed"
    },
    "tags": []
   },
   "outputs": [
    {
     "name": "stdout",
     "output_type": "stream",
     "text": [
      "Fit...\n"
     ]
    },
    {
     "name": "stdout",
     "output_type": "stream",
     "text": [
      "Predict...\n"
     ]
    }
   ],
   "source": [
    "clf = RandomizedSearchCV(\n",
    "    rf_pipeline,\n",
    "    rf_distributions,\n",
    "    return_train_score=True,\n",
    "    scoring=\"f1_weighted\",\n",
    "    n_jobs=-1,\n",
    "    n_iter=40,\n",
    ")\n",
    "_, rf_randomized_results = run_search(\n",
    "    \"RandomizedSearchCV\", clf, X_train, X_val, y_train, y_val\n",
    ")"
   ]
  },
  {
   "cell_type": "code",
   "execution_count": 11,
   "id": "898b5dbb",
   "metadata": {
    "execution": {
     "iopub.execute_input": "2025-04-14T21:00:28.287294Z",
     "iopub.status.busy": "2025-04-14T21:00:28.286957Z",
     "iopub.status.idle": "2025-04-14T21:00:32.613409Z",
     "shell.execute_reply": "2025-04-14T21:00:32.612102Z"
    },
    "papermill": {
     "duration": 4.341397,
     "end_time": "2025-04-14T21:00:32.614730",
     "exception": false,
     "start_time": "2025-04-14T21:00:28.273333",
     "status": "completed"
    },
    "tags": []
   },
   "outputs": [
    {
     "name": "stdout",
     "output_type": "stream",
     "text": [
      "Fit...\n"
     ]
    },
    {
     "name": "stdout",
     "output_type": "stream",
     "text": [
      "Predict...\n"
     ]
    }
   ],
   "source": [
    "clf = RandomizedSearchCV(\n",
    "    svm_pipeline,\n",
    "    svm_distributions,\n",
    "    return_train_score=True,\n",
    "    scoring=\"f1_weighted\",\n",
    "    n_jobs=-1,\n",
    "    n_iter=40,\n",
    ")\n",
    "_, svm_randomized_results = run_search(\n",
    "    \"RandomizedSearchCV\", clf, X_train, X_val, y_train, y_val\n",
    ")"
   ]
  },
  {
   "cell_type": "markdown",
   "id": "bb8dbeb3",
   "metadata": {
    "papermill": {
     "duration": 0.012753,
     "end_time": "2025-04-14T21:00:32.642039",
     "exception": false,
     "start_time": "2025-04-14T21:00:32.629286",
     "status": "completed"
    },
    "tags": []
   },
   "source": [
    "#### 1.3 Liczba iteracji metody\n",
    "\n",
    "Liczba iteracji jest równa parametrowi n_iter."
   ]
  },
  {
   "cell_type": "code",
   "execution_count": 12,
   "id": "669c23cc",
   "metadata": {
    "execution": {
     "iopub.execute_input": "2025-04-14T21:00:32.668677Z",
     "iopub.status.busy": "2025-04-14T21:00:32.668063Z",
     "iopub.status.idle": "2025-04-14T21:00:32.672668Z",
     "shell.execute_reply": "2025-04-14T21:00:32.671844Z"
    },
    "papermill": {
     "duration": 0.019333,
     "end_time": "2025-04-14T21:00:32.674427",
     "exception": false,
     "start_time": "2025-04-14T21:00:32.655094",
     "status": "completed"
    },
    "tags": []
   },
   "outputs": [
    {
     "name": "stdout",
     "output_type": "stream",
     "text": [
      "RandomizedSearchCV wykonał 40 pomiarów\n"
     ]
    }
   ],
   "source": [
    "print(f\"RandomizedSearchCV wykonał {rf_randomized_results['Models Tried']} pomiarów\")"
   ]
  },
  {
   "cell_type": "markdown",
   "id": "83fce60f",
   "metadata": {
    "papermill": {
     "duration": 0.012053,
     "end_time": "2025-04-14T21:00:32.700778",
     "exception": false,
     "start_time": "2025-04-14T21:00:32.688725",
     "status": "completed"
    },
    "tags": []
   },
   "source": [
    "## 2. GridSearch"
   ]
  },
  {
   "cell_type": "markdown",
   "id": "1b57a66c",
   "metadata": {
    "papermill": {
     "duration": 0.015389,
     "end_time": "2025-04-14T21:00:32.730347",
     "exception": false,
     "start_time": "2025-04-14T21:00:32.714958",
     "status": "completed"
    },
    "tags": []
   },
   "source": [
    "#### 2.1 Opis działania, możliwości, ograniczenia"
   ]
  },
  {
   "cell_type": "markdown",
   "id": "363db614",
   "metadata": {
    "papermill": {
     "duration": 0.018155,
     "end_time": "2025-04-14T21:00:32.801897",
     "exception": false,
     "start_time": "2025-04-14T21:00:32.783742",
     "status": "completed"
    },
    "tags": []
   },
   "source": [
    "[GridSearch](https://scikit-learn.org/stable/modules/generated/sklearn.model_selection.GridSearchCV.html) przeszukuje wybrane przestrzenie hiperparametrów tworząc iloczyn kartezjański na podanych wartościach hiperparametrów. \n",
    "\n",
    "- Dzięki temu bardzo precyzyjnie możemy oszacować, które wartości nas potencjalnie najbardziej interesują oraz możemy bardzo dokładnie przeszukać przestrzeń hiperaparametrów.\n",
    "- Deterministyczny oraz bardzo dokładny\n",
    "\n",
    "- Bardzo wymagający obliczeniowo, dokonanie tylu eksperymentów ile podano wartości oraz list wartości.\n",
    "- Bardzo wymgający czasowo."
   ]
  },
  {
   "cell_type": "markdown",
   "id": "0b1a5c55",
   "metadata": {
    "papermill": {
     "duration": 0.017173,
     "end_time": "2025-04-14T21:00:32.838530",
     "exception": false,
     "start_time": "2025-04-14T21:00:32.821357",
     "status": "completed"
    },
    "tags": []
   },
   "source": [
    "#### 2.2 Jakość najlepszego modelu oraz czas działania"
   ]
  },
  {
   "cell_type": "code",
   "execution_count": 13,
   "id": "45341d9d",
   "metadata": {
    "execution": {
     "iopub.execute_input": "2025-04-14T21:00:32.876693Z",
     "iopub.status.busy": "2025-04-14T21:00:32.875310Z",
     "iopub.status.idle": "2025-04-14T21:01:02.450526Z",
     "shell.execute_reply": "2025-04-14T21:01:02.449485Z"
    },
    "papermill": {
     "duration": 29.596163,
     "end_time": "2025-04-14T21:01:02.452551",
     "exception": false,
     "start_time": "2025-04-14T21:00:32.856388",
     "status": "completed"
    },
    "tags": []
   },
   "outputs": [
    {
     "name": "stdout",
     "output_type": "stream",
     "text": [
      "Fit...\n"
     ]
    },
    {
     "name": "stdout",
     "output_type": "stream",
     "text": [
      "Predict...\n"
     ]
    }
   ],
   "source": [
    "clf = GridSearchCV(\n",
    "    rf_pipeline,\n",
    "    rf_param_grid,\n",
    "    return_train_score=True,\n",
    "    scoring=\"f1_weighted\",\n",
    "    n_jobs=-1,\n",
    ")\n",
    "_, rf_grid_results = run_search(\"GridSearchCV\", clf, X_train, X_val, y_train, y_val)"
   ]
  },
  {
   "cell_type": "code",
   "execution_count": 14,
   "id": "de66f59c",
   "metadata": {
    "execution": {
     "iopub.execute_input": "2025-04-14T21:01:02.482323Z",
     "iopub.status.busy": "2025-04-14T21:01:02.481712Z",
     "iopub.status.idle": "2025-04-14T21:01:06.273222Z",
     "shell.execute_reply": "2025-04-14T21:01:06.271986Z"
    },
    "papermill": {
     "duration": 3.808008,
     "end_time": "2025-04-14T21:01:06.274803",
     "exception": false,
     "start_time": "2025-04-14T21:01:02.466795",
     "status": "completed"
    },
    "tags": []
   },
   "outputs": [
    {
     "name": "stdout",
     "output_type": "stream",
     "text": [
      "Fit...\n"
     ]
    },
    {
     "name": "stdout",
     "output_type": "stream",
     "text": [
      "Predict...\n"
     ]
    }
   ],
   "source": [
    "clf = GridSearchCV(\n",
    "    svm_pipeline,\n",
    "    svm_param_grid,\n",
    "    return_train_score=True,\n",
    "    scoring=\"f1_weighted\",\n",
    "    n_jobs=-1,\n",
    ")\n",
    "_, svm_grid_results = run_search(\"GridSearchCV\", clf, X_train, X_val, y_train, y_val)"
   ]
  },
  {
   "cell_type": "markdown",
   "id": "1b837bf4",
   "metadata": {
    "papermill": {
     "duration": 0.015324,
     "end_time": "2025-04-14T21:01:06.305452",
     "exception": false,
     "start_time": "2025-04-14T21:01:06.290128",
     "status": "completed"
    },
    "tags": []
   },
   "source": [
    "#### 2.3 Liczba iteracji metody\n",
    "\n",
    "Liczba pomiarów jest równa iloczynowi liczebności każdej z list hiperparametrów"
   ]
  },
  {
   "cell_type": "code",
   "execution_count": 15,
   "id": "98aafdec",
   "metadata": {
    "execution": {
     "iopub.execute_input": "2025-04-14T21:01:06.339148Z",
     "iopub.status.busy": "2025-04-14T21:01:06.338813Z",
     "iopub.status.idle": "2025-04-14T21:01:06.344537Z",
     "shell.execute_reply": "2025-04-14T21:01:06.343207Z"
    },
    "papermill": {
     "duration": 0.025089,
     "end_time": "2025-04-14T21:01:06.347029",
     "exception": false,
     "start_time": "2025-04-14T21:01:06.321940",
     "status": "completed"
    },
    "tags": []
   },
   "outputs": [
    {
     "name": "stdout",
     "output_type": "stream",
     "text": [
      "GridSearchCV wykonał 48 pomiarów\n"
     ]
    }
   ],
   "source": [
    "print(f\"GridSearchCV wykonał {rf_grid_results['Models Tried']} pomiarów\")"
   ]
  },
  {
   "cell_type": "markdown",
   "id": "b04c724c",
   "metadata": {
    "papermill": {
     "duration": 0.013202,
     "end_time": "2025-04-14T21:01:06.374874",
     "exception": false,
     "start_time": "2025-04-14T21:01:06.361672",
     "status": "completed"
    },
    "tags": []
   },
   "source": [
    "## 3. HalvingGridSearch"
   ]
  },
  {
   "cell_type": "markdown",
   "id": "1036cc9f",
   "metadata": {
    "papermill": {
     "duration": 0.013794,
     "end_time": "2025-04-14T21:01:06.402015",
     "exception": false,
     "start_time": "2025-04-14T21:01:06.388221",
     "status": "completed"
    },
    "tags": []
   },
   "source": [
    "#### 3.1 Opis działania, możliwości, ograniczenia"
   ]
  },
  {
   "cell_type": "markdown",
   "id": "3937e55e",
   "metadata": {
    "papermill": {
     "duration": 0.015553,
     "end_time": "2025-04-14T21:01:06.433503",
     "exception": false,
     "start_time": "2025-04-14T21:01:06.417950",
     "status": "completed"
    },
    "tags": []
   },
   "source": [
    "[HalvingGridSearch](https://scikit-learn.org/stable/modules/generated/sklearn.model_selection.HalvingGridSearchCV.html) działa analogicznie do GridSearch'a, lecz optymalizuje swoje działanie poprzez wykonywanie eksperymentów na części danych. Na początku testuje wiele kombinacji na małych próbkach danych, a w kolejnych iteracjach zwiększa ilość danych tylko dla najlepszych kandydatów.\n",
    "\n",
    "- Posida zalety grid searcha dokładnego przeszukania przestrzeni hiperparametrów przy mniejszym nakładzie mocy obliczeniowej oraz krótszym czasie wykonywania.\n",
    "- Utrzymuje dokładność GridSearch przy mniejszych kosztach.\n",
    "\n",
    "- Wadą jest fakt, iż jest to eksperymentalna funkcja sklearn, czyli nie jest ustabilizowana/może się zmieniać.\n",
    "- Wciąż przeszukujemy ogromną liczbę zbiorów hiperparametrów"
   ]
  },
  {
   "cell_type": "markdown",
   "id": "1eb2b9ea",
   "metadata": {
    "papermill": {
     "duration": 0.01505,
     "end_time": "2025-04-14T21:01:06.465017",
     "exception": false,
     "start_time": "2025-04-14T21:01:06.449967",
     "status": "completed"
    },
    "tags": []
   },
   "source": [
    "#### 3.2 Jakość najlepszego modelu oraz czas działania"
   ]
  },
  {
   "cell_type": "code",
   "execution_count": 16,
   "id": "d659bfc5",
   "metadata": {
    "execution": {
     "iopub.execute_input": "2025-04-14T21:01:06.503840Z",
     "iopub.status.busy": "2025-04-14T21:01:06.503293Z",
     "iopub.status.idle": "2025-04-14T21:01:30.186760Z",
     "shell.execute_reply": "2025-04-14T21:01:30.185608Z"
    },
    "papermill": {
     "duration": 23.70554,
     "end_time": "2025-04-14T21:01:30.188255",
     "exception": false,
     "start_time": "2025-04-14T21:01:06.482715",
     "status": "completed"
    },
    "tags": []
   },
   "outputs": [
    {
     "name": "stdout",
     "output_type": "stream",
     "text": [
      "Fit...\n"
     ]
    },
    {
     "name": "stdout",
     "output_type": "stream",
     "text": [
      "Predict...\n"
     ]
    }
   ],
   "source": [
    "clf = HalvingGridSearchCV(\n",
    "    rf_pipeline,\n",
    "    rf_param_grid,\n",
    "    return_train_score=True,\n",
    "    scoring=\"f1_weighted\",\n",
    "    n_jobs=-1,\n",
    ")\n",
    "_, rf_halv_grid_results = run_search(\n",
    "    \"HalvingGridSearchCV\", clf, X_train, X_val, y_train, y_val\n",
    ")"
   ]
  },
  {
   "cell_type": "code",
   "execution_count": 17,
   "id": "4cd508ed",
   "metadata": {
    "execution": {
     "iopub.execute_input": "2025-04-14T21:01:30.217970Z",
     "iopub.status.busy": "2025-04-14T21:01:30.217268Z",
     "iopub.status.idle": "2025-04-14T21:01:33.323066Z",
     "shell.execute_reply": "2025-04-14T21:01:33.320946Z"
    },
    "papermill": {
     "duration": 3.122267,
     "end_time": "2025-04-14T21:01:33.325284",
     "exception": false,
     "start_time": "2025-04-14T21:01:30.203017",
     "status": "completed"
    },
    "tags": []
   },
   "outputs": [
    {
     "name": "stdout",
     "output_type": "stream",
     "text": [
      "Fit...\n"
     ]
    },
    {
     "name": "stdout",
     "output_type": "stream",
     "text": [
      "Predict...\n"
     ]
    }
   ],
   "source": [
    "clf = HalvingGridSearchCV(\n",
    "    svm_pipeline,\n",
    "    svm_param_grid,\n",
    "    return_train_score=True,\n",
    "    scoring=\"f1_weighted\",\n",
    "    n_jobs=-1,\n",
    ")\n",
    "_, svm_halv_grid_results = run_search(\n",
    "    \"HalvingGridSearchCV\", clf, X_train, X_val, y_train, y_val\n",
    ")"
   ]
  },
  {
   "cell_type": "markdown",
   "id": "f3099319",
   "metadata": {
    "papermill": {
     "duration": 0.017084,
     "end_time": "2025-04-14T21:01:33.357094",
     "exception": false,
     "start_time": "2025-04-14T21:01:33.340010",
     "status": "completed"
    },
    "tags": []
   },
   "source": [
    "#### 3.3 Liczba iteracji metody"
   ]
  },
  {
   "cell_type": "code",
   "execution_count": 18,
   "id": "b21a1c9e",
   "metadata": {
    "execution": {
     "iopub.execute_input": "2025-04-14T21:01:33.391968Z",
     "iopub.status.busy": "2025-04-14T21:01:33.391230Z",
     "iopub.status.idle": "2025-04-14T21:01:33.398360Z",
     "shell.execute_reply": "2025-04-14T21:01:33.397388Z"
    },
    "papermill": {
     "duration": 0.025406,
     "end_time": "2025-04-14T21:01:33.399905",
     "exception": false,
     "start_time": "2025-04-14T21:01:33.374499",
     "status": "completed"
    },
    "tags": []
   },
   "outputs": [
    {
     "name": "stdout",
     "output_type": "stream",
     "text": [
      "GridSearchCV wykonał 72 pomiarów\n"
     ]
    }
   ],
   "source": [
    "print(f\"GridSearchCV wykonał {rf_halv_grid_results['Models Tried']} pomiarów\")"
   ]
  },
  {
   "cell_type": "markdown",
   "id": "88e04723",
   "metadata": {
    "papermill": {
     "duration": 0.015854,
     "end_time": "2025-04-14T21:01:33.432296",
     "exception": false,
     "start_time": "2025-04-14T21:01:33.416442",
     "status": "completed"
    },
    "tags": []
   },
   "source": [
    "## 4. HalvingRandomSearch"
   ]
  },
  {
   "cell_type": "markdown",
   "id": "cc8983fb",
   "metadata": {
    "papermill": {
     "duration": 0.018802,
     "end_time": "2025-04-14T21:01:33.466133",
     "exception": false,
     "start_time": "2025-04-14T21:01:33.447331",
     "status": "completed"
    },
    "tags": []
   },
   "source": [
    "#### 4.1 Opis działania, możliwości, ograniczenia"
   ]
  },
  {
   "cell_type": "markdown",
   "id": "1ac784ef",
   "metadata": {
    "papermill": {
     "duration": 0.018256,
     "end_time": "2025-04-14T21:01:33.503489",
     "exception": false,
     "start_time": "2025-04-14T21:01:33.485233",
     "status": "completed"
    },
    "tags": []
   },
   "source": [
    "[HalvingRandomSearch](https://scikit-learn.org/stable/modules/generated/sklearn.model_selection.HalvingRandomSearchCV.html) jest połączeniem HalvingGridSearch oraz RandomSeach. Działa z mechanizmem losowego wyboru hiperparametrów z aspektem odsiewania słabszych i trenowania pozostałych na większej liczbie danych.\n",
    "\n",
    "Najbardziej efektywny czasowo i najmniej wymagający obliczeniowo\n",
    "\n",
    "Ponownie jest eksperymentalną funkcja sklearn oraz tak jak RandomSearch może pominąć najlepsze wartości hiperparametrów"
   ]
  },
  {
   "cell_type": "markdown",
   "id": "38643c5b",
   "metadata": {
    "papermill": {
     "duration": 0.017624,
     "end_time": "2025-04-14T21:01:33.537540",
     "exception": false,
     "start_time": "2025-04-14T21:01:33.519916",
     "status": "completed"
    },
    "tags": []
   },
   "source": [
    "#### 4.2 Jakość najlepszego modelu oraz czas działania"
   ]
  },
  {
   "cell_type": "code",
   "execution_count": 19,
   "id": "7990ece5",
   "metadata": {
    "execution": {
     "iopub.execute_input": "2025-04-14T21:01:33.583195Z",
     "iopub.status.busy": "2025-04-14T21:01:33.581774Z",
     "iopub.status.idle": "2025-04-14T21:01:53.174577Z",
     "shell.execute_reply": "2025-04-14T21:01:53.173433Z"
    },
    "papermill": {
     "duration": 19.61892,
     "end_time": "2025-04-14T21:01:53.176602",
     "exception": false,
     "start_time": "2025-04-14T21:01:33.557682",
     "status": "completed"
    },
    "tags": []
   },
   "outputs": [
    {
     "name": "stdout",
     "output_type": "stream",
     "text": [
      "Fit...\n"
     ]
    },
    {
     "name": "stdout",
     "output_type": "stream",
     "text": [
      "Predict...\n"
     ]
    }
   ],
   "source": [
    "clf = HalvingRandomSearchCV(\n",
    "    rf_pipeline,\n",
    "    rf_param_grid,\n",
    "    return_train_score=True,\n",
    "    scoring=\"f1_weighted\",\n",
    "    n_jobs=-1,\n",
    "    n_candidates=40,\n",
    ")\n",
    "_, rf_halv_rand_grid_results = run_search(\n",
    "    \"HalvingRandomSearchCV\", clf, X_train, X_val, y_train, y_val\n",
    ")"
   ]
  },
  {
   "cell_type": "code",
   "execution_count": 20,
   "id": "c405c6ad",
   "metadata": {
    "execution": {
     "iopub.execute_input": "2025-04-14T21:01:53.207322Z",
     "iopub.status.busy": "2025-04-14T21:01:53.206608Z",
     "iopub.status.idle": "2025-04-14T21:01:56.192874Z",
     "shell.execute_reply": "2025-04-14T21:01:56.191118Z"
    },
    "papermill": {
     "duration": 3.003759,
     "end_time": "2025-04-14T21:01:56.194683",
     "exception": false,
     "start_time": "2025-04-14T21:01:53.190924",
     "status": "completed"
    },
    "tags": []
   },
   "outputs": [
    {
     "name": "stdout",
     "output_type": "stream",
     "text": [
      "Fit...\n"
     ]
    },
    {
     "name": "stderr",
     "output_type": "stream",
     "text": [
      "/usr/local/lib/python3.12/site-packages/sklearn/model_selection/_search.py:317: UserWarning: The total space of parameters 36 is smaller than n_iter=40. Running 36 iterations. For exhaustive searches, use GridSearchCV.\n",
      "  warnings.warn(\n"
     ]
    },
    {
     "name": "stdout",
     "output_type": "stream",
     "text": [
      "Predict...\n"
     ]
    }
   ],
   "source": [
    "clf = HalvingRandomSearchCV(\n",
    "    svm_pipeline,\n",
    "    svm_param_grid,\n",
    "    return_train_score=True,\n",
    "    scoring=\"f1_weighted\",\n",
    "    n_jobs=-1,\n",
    "    n_candidates=40,\n",
    ")\n",
    "_, svm_halv_rand_grid_results = run_search(\n",
    "    \"HalvingRandomSearchCV\", clf, X_train, X_val, y_train, y_val\n",
    ")"
   ]
  },
  {
   "cell_type": "markdown",
   "id": "82b4d4f4",
   "metadata": {
    "papermill": {
     "duration": 0.01365,
     "end_time": "2025-04-14T21:01:56.223727",
     "exception": false,
     "start_time": "2025-04-14T21:01:56.210077",
     "status": "completed"
    },
    "tags": []
   },
   "source": [
    "#### 4.3 Liczba iteracji metody"
   ]
  },
  {
   "cell_type": "code",
   "execution_count": 21,
   "id": "30a54631",
   "metadata": {
    "execution": {
     "iopub.execute_input": "2025-04-14T21:01:56.251914Z",
     "iopub.status.busy": "2025-04-14T21:01:56.250901Z",
     "iopub.status.idle": "2025-04-14T21:01:56.256572Z",
     "shell.execute_reply": "2025-04-14T21:01:56.255506Z"
    },
    "papermill": {
     "duration": 0.020138,
     "end_time": "2025-04-14T21:01:56.257727",
     "exception": false,
     "start_time": "2025-04-14T21:01:56.237589",
     "status": "completed"
    },
    "tags": []
   },
   "outputs": [
    {
     "name": "stdout",
     "output_type": "stream",
     "text": [
      "GridSearchCV wykonał 61 pomiarów\n"
     ]
    }
   ],
   "source": [
    "print(f\"GridSearchCV wykonał {rf_halv_rand_grid_results['Models Tried']} pomiarów\")"
   ]
  },
  {
   "cell_type": "markdown",
   "id": "e9fe3633",
   "metadata": {
    "papermill": {
     "duration": 0.016507,
     "end_time": "2025-04-14T21:01:56.288119",
     "exception": false,
     "start_time": "2025-04-14T21:01:56.271612",
     "status": "completed"
    },
    "tags": []
   },
   "source": [
    "## 5. Podsumowanie"
   ]
  },
  {
   "cell_type": "markdown",
   "id": "3d13b508",
   "metadata": {
    "papermill": {
     "duration": 0.013745,
     "end_time": "2025-04-14T21:01:56.314626",
     "exception": false,
     "start_time": "2025-04-14T21:01:56.300881",
     "status": "completed"
    },
    "tags": []
   },
   "source": [
    "#### 5.1 Porównanie modeli"
   ]
  },
  {
   "cell_type": "code",
   "execution_count": 22,
   "id": "db7ffdad",
   "metadata": {
    "execution": {
     "iopub.execute_input": "2025-04-14T21:01:56.345363Z",
     "iopub.status.busy": "2025-04-14T21:01:56.344702Z",
     "iopub.status.idle": "2025-04-14T21:01:56.350558Z",
     "shell.execute_reply": "2025-04-14T21:01:56.349652Z"
    },
    "papermill": {
     "duration": 0.022883,
     "end_time": "2025-04-14T21:01:56.352563",
     "exception": false,
     "start_time": "2025-04-14T21:01:56.329680",
     "status": "completed"
    },
    "tags": []
   },
   "outputs": [],
   "source": [
    "rf_results = [\n",
    "    rf_randomized_results,\n",
    "    rf_grid_results,\n",
    "    rf_halv_grid_results,\n",
    "    rf_halv_rand_grid_results,\n",
    "]\n",
    "df_rf_results = pd.DataFrame(rf_results)"
   ]
  },
  {
   "cell_type": "code",
   "execution_count": 23,
   "id": "b476ca9d",
   "metadata": {
    "execution": {
     "iopub.execute_input": "2025-04-14T21:01:56.383596Z",
     "iopub.status.busy": "2025-04-14T21:01:56.382968Z",
     "iopub.status.idle": "2025-04-14T21:01:56.388236Z",
     "shell.execute_reply": "2025-04-14T21:01:56.387346Z"
    },
    "papermill": {
     "duration": 0.023927,
     "end_time": "2025-04-14T21:01:56.390183",
     "exception": false,
     "start_time": "2025-04-14T21:01:56.366256",
     "status": "completed"
    },
    "tags": []
   },
   "outputs": [],
   "source": [
    "svm_results = [\n",
    "    svm_randomized_results,\n",
    "    svm_grid_results,\n",
    "    svm_halv_grid_results,\n",
    "    svm_halv_rand_grid_results,\n",
    "]\n",
    "df_svm_results = pd.DataFrame(svm_results)"
   ]
  },
  {
   "cell_type": "code",
   "execution_count": 24,
   "id": "6236559b",
   "metadata": {
    "execution": {
     "iopub.execute_input": "2025-04-14T21:01:56.421729Z",
     "iopub.status.busy": "2025-04-14T21:01:56.421050Z",
     "iopub.status.idle": "2025-04-14T21:01:56.838812Z",
     "shell.execute_reply": "2025-04-14T21:01:56.837480Z"
    },
    "papermill": {
     "duration": 0.436745,
     "end_time": "2025-04-14T21:01:56.841242",
     "exception": false,
     "start_time": "2025-04-14T21:01:56.404497",
     "status": "completed"
    },
    "tags": []
   },
   "outputs": [
    {
     "name": "stderr",
     "output_type": "stream",
     "text": [
      "/usr/local/lib/python3.12/site-packages/seaborn/_base.py:949: FutureWarning: When grouping with a length-1 list-like, you will need to pass a length-1 tuple to get_group in a future version of pandas. Pass `(name,)` instead of `name` to silence this warning.\n",
      "  data_subset = grouped_data.get_group(pd_key)\n",
      "/usr/local/lib/python3.12/site-packages/seaborn/_base.py:949: FutureWarning: When grouping with a length-1 list-like, you will need to pass a length-1 tuple to get_group in a future version of pandas. Pass `(name,)` instead of `name` to silence this warning.\n",
      "  data_subset = grouped_data.get_group(pd_key)\n",
      "/usr/local/lib/python3.12/site-packages/seaborn/_base.py:949: FutureWarning: When grouping with a length-1 list-like, you will need to pass a length-1 tuple to get_group in a future version of pandas. Pass `(name,)` instead of `name` to silence this warning.\n",
      "  data_subset = grouped_data.get_group(pd_key)\n",
      "/usr/local/lib/python3.12/site-packages/seaborn/_base.py:949: FutureWarning: When grouping with a length-1 list-like, you will need to pass a length-1 tuple to get_group in a future version of pandas. Pass `(name,)` instead of `name` to silence this warning.\n",
      "  data_subset = grouped_data.get_group(pd_key)\n"
     ]
    },
    {
     "data": {
      "image/png": "[encoded data removed]",
      "text/plain": [
       "<Figure size 1500x800 with 1 Axes>"
      ]
     },
     "metadata": {},
     "output_type": "display_data"
    }
   ],
   "source": [
    "plt.figure(figsize=(15, 8))\n",
    "metrics_to_plot = [\n",
    "    \"Best f1_weighted (CV)\",\n",
    "    \"Accuracy\",\n",
    "    \"Precision\",\n",
    "    \"Recall\",\n",
    "    \"F1 (weighted)\",\n",
    "]\n",
    "df_melted = df_rf_results.melt(\n",
    "    id_vars=\"Method\", value_vars=metrics_to_plot, var_name=\"Metric\", value_name=\"Score\"\n",
    ")\n",
    "\n",
    "sns.barplot(data=df_melted, x=\"Metric\", y=\"Score\", hue=\"Method\")\n",
    "plt.title(\"Porównanie metryk jakości modeli\")\n",
    "plt.xticks(rotation=45)\n",
    "plt.legend(title=\"Metoda\")\n",
    "plt.tight_layout()\n",
    "plt.show()"
   ]
  },
  {
   "cell_type": "code",
   "execution_count": 25,
   "id": "c1afaa7c",
   "metadata": {
    "execution": {
     "iopub.execute_input": "2025-04-14T21:01:56.885142Z",
     "iopub.status.busy": "2025-04-14T21:01:56.884012Z",
     "iopub.status.idle": "2025-04-14T21:01:57.181712Z",
     "shell.execute_reply": "2025-04-14T21:01:57.180483Z"
    },
    "papermill": {
     "duration": 0.317396,
     "end_time": "2025-04-14T21:01:57.183386",
     "exception": false,
     "start_time": "2025-04-14T21:01:56.865990",
     "status": "completed"
    },
    "tags": []
   },
   "outputs": [
    {
     "name": "stderr",
     "output_type": "stream",
     "text": [
      "/usr/local/lib/python3.12/site-packages/seaborn/_base.py:949: FutureWarning: When grouping with a length-1 list-like, you will need to pass a length-1 tuple to get_group in a future version of pandas. Pass `(name,)` instead of `name` to silence this warning.\n",
      "  data_subset = grouped_data.get_group(pd_key)\n",
      "/usr/local/lib/python3.12/site-packages/seaborn/_base.py:949: FutureWarning: When grouping with a length-1 list-like, you will need to pass a length-1 tuple to get_group in a future version of pandas. Pass `(name,)` instead of `name` to silence this warning.\n",
      "  data_subset = grouped_data.get_group(pd_key)\n",
      "/usr/local/lib/python3.12/site-packages/seaborn/_base.py:949: FutureWarning: When grouping with a length-1 list-like, you will need to pass a length-1 tuple to get_group in a future version of pandas. Pass `(name,)` instead of `name` to silence this warning.\n",
      "  data_subset = grouped_data.get_group(pd_key)\n",
      "/usr/local/lib/python3.12/site-packages/seaborn/_base.py:949: FutureWarning: When grouping with a length-1 list-like, you will need to pass a length-1 tuple to get_group in a future version of pandas. Pass `(name,)` instead of `name` to silence this warning.\n",
      "  data_subset = grouped_data.get_group(pd_key)\n"
     ]
    },
    {
     "data": {
      "image/png": "[encoded data removed]",
      "text/plain": [
       "<Figure size 1000x600 with 1 Axes>"
      ]
     },
     "metadata": {},
     "output_type": "display_data"
    }
   ],
   "source": [
    "plt.figure(figsize=(10, 6))\n",
    "sns.barplot(data=df_rf_results, x=\"Method\", y=\"Time (s)\", palette=\"muted\", hue=\"Method\")\n",
    "plt.title(\"Czas działania dla każdej metody\")\n",
    "plt.ylabel(\"Czas (s)\")\n",
    "plt.xticks(rotation=15)\n",
    "plt.tight_layout()\n",
    "plt.show()"
   ]
  },
  {
   "cell_type": "code",
   "execution_count": 26,
   "id": "4dd3df5e",
   "metadata": {
    "execution": {
     "iopub.execute_input": "2025-04-14T21:01:57.221482Z",
     "iopub.status.busy": "2025-04-14T21:01:57.220930Z",
     "iopub.status.idle": "2025-04-14T21:01:57.228620Z",
     "shell.execute_reply": "2025-04-14T21:01:57.227263Z"
    },
    "papermill": {
     "duration": 0.027955,
     "end_time": "2025-04-14T21:01:57.230281",
     "exception": false,
     "start_time": "2025-04-14T21:01:57.202326",
     "status": "completed"
    },
    "tags": []
   },
   "outputs": [],
   "source": [
    "df_rf_results[\"Time per Model\"] = (\n",
    "    df_rf_results[\"Time (s)\"] / df_rf_results[\"Models Tried\"]\n",
    ")"
   ]
  },
  {
   "cell_type": "code",
   "execution_count": 27,
   "id": "ae0a682a",
   "metadata": {
    "execution": {
     "iopub.execute_input": "2025-04-14T21:01:57.272127Z",
     "iopub.status.busy": "2025-04-14T21:01:57.270905Z",
     "iopub.status.idle": "2025-04-14T21:01:57.548841Z",
     "shell.execute_reply": "2025-04-14T21:01:57.547490Z"
    },
    "papermill": {
     "duration": 0.300371,
     "end_time": "2025-04-14T21:01:57.550443",
     "exception": false,
     "start_time": "2025-04-14T21:01:57.250072",
     "status": "completed"
    },
    "tags": []
   },
   "outputs": [
    {
     "name": "stderr",
     "output_type": "stream",
     "text": [
      "/usr/local/lib/python3.12/site-packages/seaborn/_base.py:949: FutureWarning: When grouping with a length-1 list-like, you will need to pass a length-1 tuple to get_group in a future version of pandas. Pass `(name,)` instead of `name` to silence this warning.\n",
      "  data_subset = grouped_data.get_group(pd_key)\n",
      "/usr/local/lib/python3.12/site-packages/seaborn/_base.py:949: FutureWarning: When grouping with a length-1 list-like, you will need to pass a length-1 tuple to get_group in a future version of pandas. Pass `(name,)` instead of `name` to silence this warning.\n",
      "  data_subset = grouped_data.get_group(pd_key)\n",
      "/usr/local/lib/python3.12/site-packages/seaborn/_base.py:949: FutureWarning: When grouping with a length-1 list-like, you will need to pass a length-1 tuple to get_group in a future version of pandas. Pass `(name,)` instead of `name` to silence this warning.\n",
      "  data_subset = grouped_data.get_group(pd_key)\n",
      "/usr/local/lib/python3.12/site-packages/seaborn/_base.py:949: FutureWarning: When grouping with a length-1 list-like, you will need to pass a length-1 tuple to get_group in a future version of pandas. Pass `(name,)` instead of `name` to silence this warning.\n",
      "  data_subset = grouped_data.get_group(pd_key)\n"
     ]
    },
    {
     "data": {
      "image/png": "[encoded data removed]",
      "text/plain": [
       "<Figure size 1000x600 with 1 Axes>"
      ]
     },
     "metadata": {},
     "output_type": "display_data"
    }
   ],
   "source": [
    "plt.figure(figsize=(10, 6))\n",
    "sns.barplot(\n",
    "    data=df_rf_results,\n",
    "    x=\"Method\",\n",
    "    y=\"Time per Model\",\n",
    "    hue=\"Method\",\n",
    "    palette=\"viridis\",\n",
    "    legend=False,\n",
    ")\n",
    "plt.title(\"Średni czas trenowania pojedynczego modelu\")\n",
    "plt.ylabel(\"Czas (s) na model\")\n",
    "plt.xticks(rotation=15)\n",
    "plt.tight_layout()\n",
    "plt.show()"
   ]
  },
  {
   "cell_type": "code",
   "execution_count": 28,
   "id": "7f3bbc11",
   "metadata": {
    "execution": {
     "iopub.execute_input": "2025-04-14T21:01:57.591065Z",
     "iopub.status.busy": "2025-04-14T21:01:57.590630Z",
     "iopub.status.idle": "2025-04-14T21:01:57.602135Z",
     "shell.execute_reply": "2025-04-14T21:01:57.601016Z"
    },
    "papermill": {
     "duration": 0.033487,
     "end_time": "2025-04-14T21:01:57.604065",
     "exception": false,
     "start_time": "2025-04-14T21:01:57.570578",
     "status": "completed"
    },
    "tags": []
   },
   "outputs": [],
   "source": [
    "rf_max_index = df_rf_results[\"Best f1_weighted (CV)\"].idxmax()\n",
    "svm_max_index = df_svm_results[\"Best f1_weighted (CV)\"].idxmax()\n",
    "rf_best_params = df_rf_results[\"Best Params\"][rf_max_index]\n",
    "svm_best_params = df_svm_results[\"Best Params\"][svm_max_index]\n",
    "best_params = {\n",
    "    \"RandomForest\": rf_best_params,\n",
    "    \"SVM\": svm_best_params,\n",
    "}\n",
    "\n",
    "with open(f\"data/models/{dataset_name}/best_params.json\", \"w\") as f:\n",
    "    json.dump(best_params, f)"
   ]
  },
  {
   "cell_type": "markdown",
   "id": "e40539ea",
   "metadata": {
    "papermill": {
     "duration": 0.016441,
     "end_time": "2025-04-14T21:01:57.637020",
     "exception": false,
     "start_time": "2025-04-14T21:01:57.620579",
     "status": "completed"
    },
    "tags": []
   },
   "source": [
    "#### 5.2 Porównanie wyników\n",
    "\n",
    "Najlepsze wyniki osiągnął model Randomized Search\n",
    "\n",
    "Model trenował się najwięcej czasu oraz posiada najgorszą metrykę względem czasu/model\n",
    "\n",
    "Pozostałe metody osiągnęły bardzo podobne wyniki, lecz różniły je czasy wykonywania.\n",
    "\n",
    "Zakładająć, iż wyniki bybły nieznacznie podobne kolejny model z najlepszymi wynikami posiada HalvingRandomSearch ze względu na definitywnie najkrótszy czas działania."
   ]
  },
  {
   "cell_type": "markdown",
   "id": "2d565a21",
   "metadata": {
    "papermill": {
     "duration": 0.017968,
     "end_time": "2025-04-14T21:01:57.672193",
     "exception": false,
     "start_time": "2025-04-14T21:01:57.654225",
     "status": "completed"
    },
    "tags": []
   },
   "source": [
    "#### 5.3 Wybrów i uzasadnienie"
   ]
  },
  {
   "cell_type": "markdown",
   "id": "d4c17b35",
   "metadata": {
    "papermill": {
     "duration": 0.019001,
     "end_time": "2025-04-14T21:01:57.711194",
     "exception": false,
     "start_time": "2025-04-14T21:01:57.692193",
     "status": "completed"
    },
    "tags": []
   },
   "source": [
    "Nie ma jednego dobrego wyjścia, są one bardzo zależne od naszych potrzeb i kompetencji.\n",
    "\n",
    "Najlepszą opcją, gdy potrzebujemy szybko znaleźć \"dobry\" model jest zdecydowanie HalvingRandomSearch ze względu na akceptowalne wyniki w zaskakująco krótkim czasie. (Dobre wyniki, szybkie działanie).\n",
    "\n",
    "Najlepszym wyborem, gdy znamy dokładnie model, dane oraz posiadamy dużą wiedzę dziedzinową i intuicję jest GridSearch ze względu na możliwość dokładnego zbadania wielu hiperparametrów dla naszej hipotezy. (Najlepszy wynik, najdłużej się wykonuje).\n",
    "\n",
    "Najlepszym wyborem, gdy nie do końca znamy potencjalne hiperparametry oraz nie zależy nam na czasie jest RandomizedSearch dzięki któremu w sposób losowy możemy osiąganąć dobre wyniki dla modelu oraz samemu zdecydować ilu iteracji potrzebujemy.\n",
    "\n",
    "Dla mnie, jako studenta bez silnej intuicji odnośnie nieznanych klasyfikatorów i dla nieznanyc zbiorów danych najlepszą opcją byłby HalvingRandomSearch, ponieważ umożliwiłby mi w szybki sposób zrozumieć dla jakich mniej więcej parametrów model działałby dobrze."
   ]
  }
 ],
 "metadata": {
  "kernelspec": {
   "display_name": ".venv",
   "language": "python",
   "name": "python3"
  },
  "language_info": {
   "codemirror_mode": {
    "name": "ipython",
    "version": 3
   },
   "file_extension": ".py",
   "mimetype": "text/x-python",
   "name": "python",
   "nbconvert_exporter": "python",
   "pygments_lexer": "ipython3",
   "version": "3.12.10"
  },
  "papermill": {
   "default_parameters": {},
   "duration": 126.009538,
   "end_time": "2025-04-14T21:02:00.354166",
   "environment_variables": {},
   "exception": null,
   "input_path": "notebooks/eval_hyperparameters.ipynb",
   "output_path": "data/notebooks/rt-polarity/eval_hyperparameters.ipynb",
   "parameters": {
    "dataset_name": "rt-polarity"
   },
   "start_time": "2025-04-14T20:59:54.344628",
   "version": "2.6.0"
  }
 },
 "nbformat": 4,
 "nbformat_minor": 5
}