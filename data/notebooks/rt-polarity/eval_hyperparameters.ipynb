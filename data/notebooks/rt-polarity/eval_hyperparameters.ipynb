{
 "cells": [
  {
   "cell_type": "markdown",
   "id": "91a70fe3",
   "metadata": {
    "papermill": {
     "duration": 0.019936,
     "end_time": "2025-04-14T18:02:33.159519",
     "exception": false,
     "start_time": "2025-04-14T18:02:33.139583",
     "status": "completed"
    },
    "tags": []
   },
   "source": [
    "## 0. Inicjalizacja"
   ]
  },
  {
   "cell_type": "markdown",
   "id": "b7d37191",
   "metadata": {
    "papermill": {
     "duration": 0.015315,
     "end_time": "2025-04-14T18:02:33.191731",
     "exception": false,
     "start_time": "2025-04-14T18:02:33.176416",
     "status": "completed"
    },
    "tags": []
   },
   "source": [
    "#### 0.1 Import"
   ]
  },
  {
   "cell_type": "code",
   "execution_count": 1,
   "id": "b8f7c39b",
   "metadata": {
    "execution": {
     "iopub.execute_input": "2025-04-14T18:02:33.229820Z",
     "iopub.status.busy": "2025-04-14T18:02:33.229428Z",
     "iopub.status.idle": "2025-04-14T18:02:37.195575Z",
     "shell.execute_reply": "2025-04-14T18:02:37.194445Z"
    },
    "papermill": {
     "duration": 3.989037,
     "end_time": "2025-04-14T18:02:37.197107",
     "exception": false,
     "start_time": "2025-04-14T18:02:33.208070",
     "status": "completed"
    },
    "tags": []
   },
   "outputs": [],
   "source": [
    "import pandas as pd\n",
    "import os\n",
    "import sys\n",
    "import yaml\n",
    "import matplotlib.pyplot as plt\n",
    "import seaborn as sns\n",
    "from sklearn.ensemble import RandomForestClassifier\n",
    "from sklearn.svm import SVC\n",
    "from sklearn.experimental import enable_halving_search_cv\n",
    "from scipy.stats import uniform\n",
    "from sklearn.model_selection import (\n",
    "    GridSearchCV,\n",
    "    RandomizedSearchCV,\n",
    "    HalvingGridSearchCV,\n",
    "    HalvingRandomSearchCV,\n",
    "    train_test_split,\n",
    ")\n",
    "from time import time\n",
    "from scipy.stats import randint\n",
    "from sklearn.metrics import f1_score\n",
    "from sklearn.metrics import accuracy_score, precision_score, recall_score, f1_score\n",
    "import json\n",
    "\n",
    "sys.path.append(os.path.abspath(\"../../\"))\n",
    "from src.utils import load_train_test_data, get_params, SEPHORA_DATASET\n",
    "from src.pipeline import build_pipeline"
   ]
  },
  {
   "cell_type": "markdown",
   "id": "9b0f6b29",
   "metadata": {
    "papermill": {
     "duration": 0.012146,
     "end_time": "2025-04-14T18:02:37.222768",
     "exception": false,
     "start_time": "2025-04-14T18:02:37.210622",
     "status": "completed"
    },
    "tags": []
   },
   "source": [
    "#### 0.2 Parametry oraz Dataset"
   ]
  },
  {
   "cell_type": "code",
   "execution_count": 2,
   "id": "77630f1f",
   "metadata": {
    "execution": {
     "iopub.execute_input": "2025-04-14T18:02:37.252984Z",
     "iopub.status.busy": "2025-04-14T18:02:37.251665Z",
     "iopub.status.idle": "2025-04-14T18:02:37.257711Z",
     "shell.execute_reply": "2025-04-14T18:02:37.256666Z"
    },
    "papermill": {
     "duration": 0.021813,
     "end_time": "2025-04-14T18:02:37.259047",
     "exception": false,
     "start_time": "2025-04-14T18:02:37.237234",
     "status": "completed"
    },
    "tags": [
     "parameters"
    ]
   },
   "outputs": [],
   "source": [
    "dataset_name = \"sephora\""
   ]
  },
  {
   "cell_type": "code",
   "execution_count": 3,
   "id": "6f9a463b",
   "metadata": {
    "execution": {
     "iopub.execute_input": "2025-04-14T18:02:37.290755Z",
     "iopub.status.busy": "2025-04-14T18:02:37.290438Z",
     "iopub.status.idle": "2025-04-14T18:02:37.295136Z",
     "shell.execute_reply": "2025-04-14T18:02:37.294013Z"
    },
    "papermill": {
     "duration": 0.021852,
     "end_time": "2025-04-14T18:02:37.296507",
     "exception": false,
     "start_time": "2025-04-14T18:02:37.274655",
     "status": "completed"
    },
    "tags": [
     "injected-parameters"
    ]
   },
   "outputs": [],
   "source": [
    "# Parameters\n",
    "dataset_name = \"rt-polarity\"\n"
   ]
  },
  {
   "cell_type": "code",
   "execution_count": 4,
   "id": "28477f4f",
   "metadata": {
    "execution": {
     "iopub.execute_input": "2025-04-14T18:02:37.324469Z",
     "iopub.status.busy": "2025-04-14T18:02:37.324082Z",
     "iopub.status.idle": "2025-04-14T18:02:37.335916Z",
     "shell.execute_reply": "2025-04-14T18:02:37.334371Z"
    },
    "papermill": {
     "duration": 0.026257,
     "end_time": "2025-04-14T18:02:37.337240",
     "exception": false,
     "start_time": "2025-04-14T18:02:37.310983",
     "status": "completed"
    },
    "tags": []
   },
   "outputs": [],
   "source": [
    "common_params, custom_params = get_params(dataset_name)"
   ]
  },
  {
   "cell_type": "code",
   "execution_count": 5,
   "id": "61661d76",
   "metadata": {
    "execution": {
     "iopub.execute_input": "2025-04-14T18:02:37.377498Z",
     "iopub.status.busy": "2025-04-14T18:02:37.376733Z",
     "iopub.status.idle": "2025-04-14T18:02:37.406057Z",
     "shell.execute_reply": "2025-04-14T18:02:37.404974Z"
    },
    "papermill": {
     "duration": 0.047007,
     "end_time": "2025-04-14T18:02:37.407956",
     "exception": false,
     "start_time": "2025-04-14T18:02:37.360949",
     "status": "completed"
    },
    "tags": []
   },
   "outputs": [
    {
     "name": "stderr",
     "output_type": "stream",
     "text": [
      "2025-04-14 18:02:37 - INFO - Loading train and test data\n"
     ]
    }
   ],
   "source": [
    "training_data, _ = load_train_test_data(\"data/train_test_data\", dataset_name)\n",
    "training_data = training_data[custom_params[\"pipeline\"][\"selected\"]]\n",
    "training_data = training_data[0:1_000]\n",
    "X_train, X_val, y_train, y_val = train_test_split(\n",
    "    training_data.drop(columns=[custom_params[\"features\"][\"label\"]], axis=1),\n",
    "    training_data[custom_params[\"features\"][\"label\"]],\n",
    "    test_size=0.2,\n",
    ")"
   ]
  },
  {
   "cell_type": "markdown",
   "id": "ab11c55c",
   "metadata": {
    "papermill": {
     "duration": 0.013008,
     "end_time": "2025-04-14T18:02:37.435422",
     "exception": false,
     "start_time": "2025-04-14T18:02:37.422414",
     "status": "completed"
    },
    "tags": []
   },
   "source": [
    "#### 0.3 Pipeline"
   ]
  },
  {
   "cell_type": "code",
   "execution_count": 6,
   "id": "8c195d58",
   "metadata": {
    "execution": {
     "iopub.execute_input": "2025-04-14T18:02:37.464224Z",
     "iopub.status.busy": "2025-04-14T18:02:37.463091Z",
     "iopub.status.idle": "2025-04-14T18:02:37.469503Z",
     "shell.execute_reply": "2025-04-14T18:02:37.468037Z"
    },
    "papermill": {
     "duration": 0.023573,
     "end_time": "2025-04-14T18:02:37.471687",
     "exception": false,
     "start_time": "2025-04-14T18:02:37.448114",
     "status": "completed"
    },
    "tags": []
   },
   "outputs": [],
   "source": [
    "rf_pipeline = build_pipeline(\n",
    "    custom_params, dataset_name, \"all\", RandomForestClassifier(n_jobs=-1)\n",
    ")\n",
    "svm_pipeline = build_pipeline(custom_params, dataset_name, \"all\", SVC())"
   ]
  },
  {
   "cell_type": "markdown",
   "id": "46b6b6c5",
   "metadata": {
    "papermill": {
     "duration": 0.013602,
     "end_time": "2025-04-14T18:02:37.500842",
     "exception": false,
     "start_time": "2025-04-14T18:02:37.487240",
     "status": "completed"
    },
    "tags": []
   },
   "source": [
    "#### 0.4 Funkcja do eksperymentów"
   ]
  },
  {
   "cell_type": "code",
   "execution_count": 7,
   "id": "571dd937",
   "metadata": {
    "execution": {
     "iopub.execute_input": "2025-04-14T18:02:37.529692Z",
     "iopub.status.busy": "2025-04-14T18:02:37.528941Z",
     "iopub.status.idle": "2025-04-14T18:02:37.536870Z",
     "shell.execute_reply": "2025-04-14T18:02:37.535656Z"
    },
    "papermill": {
     "duration": 0.02402,
     "end_time": "2025-04-14T18:02:37.538339",
     "exception": false,
     "start_time": "2025-04-14T18:02:37.514319",
     "status": "completed"
    },
    "tags": []
   },
   "outputs": [],
   "source": [
    "def run_search(name, searcher, X_train, X_val, y_train, y_val):\n",
    "    print(\"Fit...\")\n",
    "    start = time()\n",
    "    searcher.fit(X_train, y_train)\n",
    "    end = time()\n",
    "\n",
    "    elapsed = end - start\n",
    "    best_model = searcher.best_estimator_\n",
    "    n_models = len(searcher.cv_results_[\"mean_test_score\"])\n",
    "    best_params = searcher.best_params_\n",
    "    best_score = searcher.best_score_\n",
    "\n",
    "    print(\"Predict...\")\n",
    "    y_pred = best_model.predict(X_val)\n",
    "\n",
    "    results = {\n",
    "        \"Method\": name,\n",
    "        \"Best f1_weighted (CV)\": best_score,\n",
    "        \"Accuracy\": accuracy_score(y_val, y_pred),\n",
    "        \"Precision\": precision_score(\n",
    "            y_val, y_pred, average=\"weighted\", zero_division=0\n",
    "        ),\n",
    "        \"Recall\": recall_score(y_val, y_pred, average=\"weighted\", zero_division=0),\n",
    "        \"F1 (weighted)\": f1_score(y_val, y_pred, average=\"weighted\", zero_division=0),\n",
    "        \"Time (s)\": elapsed,\n",
    "        \"Models Tried\": n_models,\n",
    "        \"Best Params\": best_params,\n",
    "        \"Best Estimator\": best_model,\n",
    "    }\n",
    "\n",
    "    return searcher, results"
   ]
  },
  {
   "cell_type": "markdown",
   "id": "384e9f9a",
   "metadata": {
    "papermill": {
     "duration": 0.015915,
     "end_time": "2025-04-14T18:02:37.570193",
     "exception": false,
     "start_time": "2025-04-14T18:02:37.554278",
     "status": "completed"
    },
    "tags": []
   },
   "source": [
    "#### 0.5 Parametry do eksperymentów"
   ]
  },
  {
   "cell_type": "code",
   "execution_count": 8,
   "id": "0091c4ea",
   "metadata": {
    "execution": {
     "iopub.execute_input": "2025-04-14T18:02:37.606290Z",
     "iopub.status.busy": "2025-04-14T18:02:37.605375Z",
     "iopub.status.idle": "2025-04-14T18:02:37.613024Z",
     "shell.execute_reply": "2025-04-14T18:02:37.611566Z"
    },
    "papermill": {
     "duration": 0.03107,
     "end_time": "2025-04-14T18:02:37.615323",
     "exception": false,
     "start_time": "2025-04-14T18:02:37.584253",
     "status": "completed"
    },
    "tags": []
   },
   "outputs": [],
   "source": [
    "rf_distributions = {\n",
    "    \"classifier__n_estimators\": randint(30, 60),\n",
    "    \"classifier__max_depth\": randint(10, 50),\n",
    "    \"classifier__criterion\": [\"gini\", \"entropy\"],\n",
    "    \"classifier__min_samples_leaf\": randint(1, 7),\n",
    "    \"classifier__max_features\": [\"sqrt\", None],\n",
    "}\n",
    "\n",
    "svm_distributions = {\n",
    "    \"classifier__C\": uniform(0.5, 1.5),\n",
    "    \"classifier__kernel\": [\"linear\", \"rbf\", \"poly\"],\n",
    "    \"classifier__degree\": [2, 3],\n",
    "    \"classifier__gamma\": [\"scale\", \"auto\"],\n",
    "}"
   ]
  },
  {
   "cell_type": "code",
   "execution_count": 9,
   "id": "57607047",
   "metadata": {
    "execution": {
     "iopub.execute_input": "2025-04-14T18:02:37.655586Z",
     "iopub.status.busy": "2025-04-14T18:02:37.654878Z",
     "iopub.status.idle": "2025-04-14T18:02:37.661277Z",
     "shell.execute_reply": "2025-04-14T18:02:37.660094Z"
    },
    "papermill": {
     "duration": 0.02801,
     "end_time": "2025-04-14T18:02:37.662991",
     "exception": false,
     "start_time": "2025-04-14T18:02:37.634981",
     "status": "completed"
    },
    "tags": []
   },
   "outputs": [],
   "source": [
    "rf_param_grid = {\n",
    "    \"classifier__n_estimators\": [30, 60],\n",
    "    \"classifier__max_depth\": [10, 30, 50],\n",
    "    \"classifier__criterion\": [\"gini\", \"entropy\"],\n",
    "    \"classifier__min_samples_leaf\": [1, 5],\n",
    "    \"classifier__max_features\": [\"sqrt\", None],\n",
    "}\n",
    "\n",
    "svm_param_grid = {\n",
    "    \"classifier__C\": [0.8, 1, 1.5],\n",
    "    \"classifier__kernel\": [\"linear\", \"rbf\", \"poly\"],\n",
    "    \"classifier__degree\": [2, 3],\n",
    "    \"classifier__gamma\": [\"scale\", \"auto\"],\n",
    "}"
   ]
  },
  {
   "cell_type": "markdown",
   "id": "79d47d9d",
   "metadata": {
    "papermill": {
     "duration": 0.018605,
     "end_time": "2025-04-14T18:02:37.700171",
     "exception": false,
     "start_time": "2025-04-14T18:02:37.681566",
     "status": "completed"
    },
    "tags": []
   },
   "source": [
    "## 1. RandomSearch"
   ]
  },
  {
   "cell_type": "markdown",
   "id": "a2b6f128",
   "metadata": {
    "papermill": {
     "duration": 0.018105,
     "end_time": "2025-04-14T18:02:37.732797",
     "exception": false,
     "start_time": "2025-04-14T18:02:37.714692",
     "status": "completed"
    },
    "tags": []
   },
   "source": [
    "#### 1.1 Opis działania, możliwości, ograniczenia"
   ]
  },
  {
   "cell_type": "markdown",
   "id": "545ec683",
   "metadata": {
    "papermill": {
     "duration": 0.017764,
     "end_time": "2025-04-14T18:02:37.772362",
     "exception": false,
     "start_time": "2025-04-14T18:02:37.754598",
     "status": "completed"
    },
    "tags": []
   },
   "source": [
    "**[RandomizedSearch](https://scikit-learn.org/stable/modules/generated/sklearn.model_selection.RandomizedSearchCV.html)** losowo wybiera kombinacje hiperparametrów z podanego rozkładu lub listy wartości. Można ustawić liczbę iteracji, co pozwala kontrolować czas trwania wyszukiwania.\n",
    "\n",
    "- Dzięki losowości jest szybszy od GridSearch, lecz przeszukuje mniejszą przestrzeń hiperparametrów.\n",
    "Może wciąż znaleźć bardzo dobre parametry przy mniejszej złożoności obliczeniowej\n",
    "\n",
    "- Wynik zależy od losowości, ponieważ może pominąć najlepsze hiperparametry.\n",
    "- Wyniki mogą się różnić przy wielu próbach uruchomienia przez losowość"
   ]
  },
  {
   "cell_type": "markdown",
   "id": "98a489b3",
   "metadata": {
    "papermill": {
     "duration": 0.018442,
     "end_time": "2025-04-14T18:02:37.807530",
     "exception": false,
     "start_time": "2025-04-14T18:02:37.789088",
     "status": "completed"
    },
    "tags": []
   },
   "source": [
    "#### 1.2 Jakość najlepszego modelu oraz czas działania"
   ]
  },
  {
   "cell_type": "code",
   "execution_count": 10,
   "id": "164e1688",
   "metadata": {
    "execution": {
     "iopub.execute_input": "2025-04-14T18:02:37.845239Z",
     "iopub.status.busy": "2025-04-14T18:02:37.844244Z",
     "iopub.status.idle": "2025-04-14T18:03:05.259550Z",
     "shell.execute_reply": "2025-04-14T18:03:05.258216Z"
    },
    "papermill": {
     "duration": 27.436532,
     "end_time": "2025-04-14T18:03:05.261431",
     "exception": false,
     "start_time": "2025-04-14T18:02:37.824899",
     "status": "completed"
    },
    "tags": []
   },
   "outputs": [
    {
     "name": "stdout",
     "output_type": "stream",
     "text": [
      "Fit...\n"
     ]
    },
    {
     "name": "stdout",
     "output_type": "stream",
     "text": [
      "Predict...\n"
     ]
    }
   ],
   "source": [
    "clf = RandomizedSearchCV(\n",
    "    rf_pipeline,\n",
    "    rf_distributions,\n",
    "    return_train_score=True,\n",
    "    scoring=\"f1_weighted\",\n",
    "    n_jobs=-1,\n",
    "    n_iter=40,\n",
    ")\n",
    "_, rf_randomized_results = run_search(\n",
    "    \"RandomizedSearchCV\", clf, X_train, X_val, y_train, y_val\n",
    ")"
   ]
  },
  {
   "cell_type": "code",
   "execution_count": 11,
   "id": "898b5dbb",
   "metadata": {
    "execution": {
     "iopub.execute_input": "2025-04-14T18:03:05.290893Z",
     "iopub.status.busy": "2025-04-14T18:03:05.290331Z",
     "iopub.status.idle": "2025-04-14T18:03:09.544180Z",
     "shell.execute_reply": "2025-04-14T18:03:09.543264Z"
    },
    "papermill": {
     "duration": 4.269758,
     "end_time": "2025-04-14T18:03:09.545628",
     "exception": false,
     "start_time": "2025-04-14T18:03:05.275870",
     "status": "completed"
    },
    "tags": []
   },
   "outputs": [
    {
     "name": "stdout",
     "output_type": "stream",
     "text": [
      "Fit...\n"
     ]
    },
    {
     "name": "stdout",
     "output_type": "stream",
     "text": [
      "Predict...\n"
     ]
    }
   ],
   "source": [
    "clf = RandomizedSearchCV(\n",
    "    svm_pipeline,\n",
    "    svm_distributions,\n",
    "    return_train_score=True,\n",
    "    scoring=\"f1_weighted\",\n",
    "    n_jobs=-1,\n",
    "    n_iter=40,\n",
    ")\n",
    "_, svm_randomized_results = run_search(\n",
    "    \"RandomizedSearchCV\", clf, X_train, X_val, y_train, y_val\n",
    ")"
   ]
  },
  {
   "cell_type": "markdown",
   "id": "bb8dbeb3",
   "metadata": {
    "papermill": {
     "duration": 0.012846,
     "end_time": "2025-04-14T18:03:09.572023",
     "exception": false,
     "start_time": "2025-04-14T18:03:09.559177",
     "status": "completed"
    },
    "tags": []
   },
   "source": [
    "#### 1.3 Liczba iteracji metody\n",
    "\n",
    "Liczba iteracji jest równa parametrowi n_iter."
   ]
  },
  {
   "cell_type": "code",
   "execution_count": 12,
   "id": "669c23cc",
   "metadata": {
    "execution": {
     "iopub.execute_input": "2025-04-14T18:03:09.601365Z",
     "iopub.status.busy": "2025-04-14T18:03:09.600318Z",
     "iopub.status.idle": "2025-04-14T18:03:09.606905Z",
     "shell.execute_reply": "2025-04-14T18:03:09.605824Z"
    },
    "papermill": {
     "duration": 0.022484,
     "end_time": "2025-04-14T18:03:09.608408",
     "exception": false,
     "start_time": "2025-04-14T18:03:09.585924",
     "status": "completed"
    },
    "tags": []
   },
   "outputs": [
    {
     "name": "stdout",
     "output_type": "stream",
     "text": [
      "RandomizedSearchCV wykonał 40 pomiarów\n"
     ]
    }
   ],
   "source": [
    "print(f\"RandomizedSearchCV wykonał {rf_randomized_results['Models Tried']} pomiarów\")"
   ]
  },
  {
   "cell_type": "markdown",
   "id": "83fce60f",
   "metadata": {
    "papermill": {
     "duration": 0.013849,
     "end_time": "2025-04-14T18:03:09.636945",
     "exception": false,
     "start_time": "2025-04-14T18:03:09.623096",
     "status": "completed"
    },
    "tags": []
   },
   "source": [
    "## 2. GridSearch"
   ]
  },
  {
   "cell_type": "markdown",
   "id": "1b57a66c",
   "metadata": {
    "papermill": {
     "duration": 0.012547,
     "end_time": "2025-04-14T18:03:09.662628",
     "exception": false,
     "start_time": "2025-04-14T18:03:09.650081",
     "status": "completed"
    },
    "tags": []
   },
   "source": [
    "#### 2.1 Opis działania, możliwości, ograniczenia"
   ]
  },
  {
   "cell_type": "markdown",
   "id": "363db614",
   "metadata": {
    "papermill": {
     "duration": 0.019545,
     "end_time": "2025-04-14T18:03:09.745852",
     "exception": false,
     "start_time": "2025-04-14T18:03:09.726307",
     "status": "completed"
    },
    "tags": []
   },
   "source": [
    "[GridSearch](https://scikit-learn.org/stable/modules/generated/sklearn.model_selection.GridSearchCV.html) przeszukuje wybrane przestrzenie hiperparametrów tworząc iloczyn kartezjański na podanych wartościach hiperparametrów. \n",
    "\n",
    "- Dzięki temu bardzo precyzyjnie możemy oszacować, które wartości nas potencjalnie najbardziej interesują oraz możemy bardzo dokładnie przeszukać przestrzeń hiperaparametrów.\n",
    "- Deterministyczny oraz bardzo dokładny\n",
    "\n",
    "- Bardzo wymagający obliczeniowo, dokonanie tylu eksperymentów ile podano wartości oraz list wartości.\n",
    "- Bardzo wymgający czasowo."
   ]
  },
  {
   "cell_type": "markdown",
   "id": "0b1a5c55",
   "metadata": {
    "papermill": {
     "duration": 0.016054,
     "end_time": "2025-04-14T18:03:09.778684",
     "exception": false,
     "start_time": "2025-04-14T18:03:09.762630",
     "status": "completed"
    },
    "tags": []
   },
   "source": [
    "#### 2.2 Jakość najlepszego modelu oraz czas działania"
   ]
  },
  {
   "cell_type": "code",
   "execution_count": 13,
   "id": "45341d9d",
   "metadata": {
    "execution": {
     "iopub.execute_input": "2025-04-14T18:03:09.817828Z",
     "iopub.status.busy": "2025-04-14T18:03:09.816974Z",
     "iopub.status.idle": "2025-04-14T18:03:40.194204Z",
     "shell.execute_reply": "2025-04-14T18:03:40.193222Z"
    },
    "papermill": {
     "duration": 30.41331,
     "end_time": "2025-04-14T18:03:40.209326",
     "exception": false,
     "start_time": "2025-04-14T18:03:09.796016",
     "status": "completed"
    },
    "tags": []
   },
   "outputs": [
    {
     "name": "stdout",
     "output_type": "stream",
     "text": [
      "Fit...\n"
     ]
    },
    {
     "name": "stdout",
     "output_type": "stream",
     "text": [
      "Predict...\n"
     ]
    }
   ],
   "source": [
    "clf = GridSearchCV(\n",
    "    rf_pipeline,\n",
    "    rf_param_grid,\n",
    "    return_train_score=True,\n",
    "    scoring=\"f1_weighted\",\n",
    "    n_jobs=-1,\n",
    ")\n",
    "_, rf_grid_results = run_search(\"GridSearchCV\", clf, X_train, X_val, y_train, y_val)"
   ]
  },
  {
   "cell_type": "code",
   "execution_count": 14,
   "id": "de66f59c",
   "metadata": {
    "execution": {
     "iopub.execute_input": "2025-04-14T18:03:40.241260Z",
     "iopub.status.busy": "2025-04-14T18:03:40.240403Z",
     "iopub.status.idle": "2025-04-14T18:03:44.745949Z",
     "shell.execute_reply": "2025-04-14T18:03:44.743796Z"
    },
    "papermill": {
     "duration": 4.524417,
     "end_time": "2025-04-14T18:03:44.749029",
     "exception": false,
     "start_time": "2025-04-14T18:03:40.224612",
     "status": "completed"
    },
    "tags": []
   },
   "outputs": [
    {
     "name": "stdout",
     "output_type": "stream",
     "text": [
      "Fit...\n"
     ]
    },
    {
     "name": "stdout",
     "output_type": "stream",
     "text": [
      "Predict...\n"
     ]
    }
   ],
   "source": [
    "clf = GridSearchCV(\n",
    "    svm_pipeline,\n",
    "    svm_param_grid,\n",
    "    return_train_score=True,\n",
    "    scoring=\"f1_weighted\",\n",
    "    n_jobs=-1,\n",
    ")\n",
    "_, svm_grid_results = run_search(\"GridSearchCV\", clf, X_train, X_val, y_train, y_val)"
   ]
  },
  {
   "cell_type": "markdown",
   "id": "1b837bf4",
   "metadata": {
    "papermill": {
     "duration": 0.015622,
     "end_time": "2025-04-14T18:03:44.780324",
     "exception": false,
     "start_time": "2025-04-14T18:03:44.764702",
     "status": "completed"
    },
    "tags": []
   },
   "source": [
    "#### 2.3 Liczba iteracji metody\n",
    "\n",
    "Liczba pomiarów jest równa iloczynowi liczebności każdej z list hiperparametrów"
   ]
  },
  {
   "cell_type": "code",
   "execution_count": 15,
   "id": "98aafdec",
   "metadata": {
    "execution": {
     "iopub.execute_input": "2025-04-14T18:03:44.816096Z",
     "iopub.status.busy": "2025-04-14T18:03:44.815753Z",
     "iopub.status.idle": "2025-04-14T18:03:44.822940Z",
     "shell.execute_reply": "2025-04-14T18:03:44.821321Z"
    },
    "papermill": {
     "duration": 0.026339,
     "end_time": "2025-04-14T18:03:44.825278",
     "exception": false,
     "start_time": "2025-04-14T18:03:44.798939",
     "status": "completed"
    },
    "tags": []
   },
   "outputs": [
    {
     "name": "stdout",
     "output_type": "stream",
     "text": [
      "GridSearchCV wykonał 48 pomiarów\n"
     ]
    }
   ],
   "source": [
    "print(f\"GridSearchCV wykonał {rf_grid_results['Models Tried']} pomiarów\")"
   ]
  },
  {
   "cell_type": "markdown",
   "id": "b04c724c",
   "metadata": {
    "papermill": {
     "duration": 0.027962,
     "end_time": "2025-04-14T18:03:44.876797",
     "exception": false,
     "start_time": "2025-04-14T18:03:44.848835",
     "status": "completed"
    },
    "tags": []
   },
   "source": [
    "## 3. HalvingGridSearch"
   ]
  },
  {
   "cell_type": "markdown",
   "id": "1036cc9f",
   "metadata": {
    "papermill": {
     "duration": 0.041178,
     "end_time": "2025-04-14T18:03:44.948747",
     "exception": false,
     "start_time": "2025-04-14T18:03:44.907569",
     "status": "completed"
    },
    "tags": []
   },
   "source": [
    "#### 3.1 Opis działania, możliwości, ograniczenia"
   ]
  },
  {
   "cell_type": "markdown",
   "id": "3937e55e",
   "metadata": {
    "papermill": {
     "duration": 0.022431,
     "end_time": "2025-04-14T18:03:44.995432",
     "exception": false,
     "start_time": "2025-04-14T18:03:44.973001",
     "status": "completed"
    },
    "tags": []
   },
   "source": [
    "[HalvingGridSearch](https://scikit-learn.org/stable/modules/generated/sklearn.model_selection.HalvingGridSearchCV.html) działa analogicznie do GridSearch'a, lecz optymalizuje swoje działanie poprzez wykonywanie eksperymentów na części danych. Na początku testuje wiele kombinacji na małych próbkach danych, a w kolejnych iteracjach zwiększa ilość danych tylko dla najlepszych kandydatów.\n",
    "\n",
    "- Posida zalety grid searcha dokładnego przeszukania przestrzeni hiperparametrów przy mniejszym nakładzie mocy obliczeniowej oraz krótszym czasie wykonywania.\n",
    "- Utrzymuje dokładność GridSearch przy mniejszych kosztach.\n",
    "\n",
    "- Wadą jest fakt, iż jest to eksperymentalna funkcja sklearn, czyli nie jest ustabilizowana/może się zmieniać.\n",
    "- Wciąż przeszukujemy ogromną liczbę zbiorów hiperparametrów"
   ]
  },
  {
   "cell_type": "markdown",
   "id": "1eb2b9ea",
   "metadata": {
    "papermill": {
     "duration": 0.025219,
     "end_time": "2025-04-14T18:03:45.054536",
     "exception": false,
     "start_time": "2025-04-14T18:03:45.029317",
     "status": "completed"
    },
    "tags": []
   },
   "source": [
    "#### 3.2 Jakość najlepszego modelu oraz czas działania"
   ]
  },
  {
   "cell_type": "code",
   "execution_count": 16,
   "id": "d659bfc5",
   "metadata": {
    "execution": {
     "iopub.execute_input": "2025-04-14T18:03:45.117000Z",
     "iopub.status.busy": "2025-04-14T18:03:45.115773Z",
     "iopub.status.idle": "2025-04-14T18:04:08.788140Z",
     "shell.execute_reply": "2025-04-14T18:04:08.786173Z"
    },
    "papermill": {
     "duration": 23.70536,
     "end_time": "2025-04-14T18:04:08.789713",
     "exception": false,
     "start_time": "2025-04-14T18:03:45.084353",
     "status": "completed"
    },
    "tags": []
   },
   "outputs": [
    {
     "name": "stdout",
     "output_type": "stream",
     "text": [
      "Fit...\n"
     ]
    },
    {
     "name": "stdout",
     "output_type": "stream",
     "text": [
      "Predict...\n"
     ]
    }
   ],
   "source": [
    "clf = HalvingGridSearchCV(\n",
    "    rf_pipeline,\n",
    "    rf_param_grid,\n",
    "    return_train_score=True,\n",
    "    scoring=\"f1_weighted\",\n",
    "    n_jobs=-1,\n",
    ")\n",
    "_, rf_halv_grid_results = run_search(\n",
    "    \"HalvingGridSearchCV\", clf, X_train, X_val, y_train, y_val\n",
    ")"
   ]
  },
  {
   "cell_type": "code",
   "execution_count": 17,
   "id": "4cd508ed",
   "metadata": {
    "execution": {
     "iopub.execute_input": "2025-04-14T18:04:08.820943Z",
     "iopub.status.busy": "2025-04-14T18:04:08.820262Z",
     "iopub.status.idle": "2025-04-14T18:04:12.173607Z",
     "shell.execute_reply": "2025-04-14T18:04:12.172487Z"
    },
    "papermill": {
     "duration": 3.369857,
     "end_time": "2025-04-14T18:04:12.175307",
     "exception": false,
     "start_time": "2025-04-14T18:04:08.805450",
     "status": "completed"
    },
    "tags": []
   },
   "outputs": [
    {
     "name": "stdout",
     "output_type": "stream",
     "text": [
      "Fit...\n"
     ]
    },
    {
     "name": "stdout",
     "output_type": "stream",
     "text": [
      "Predict...\n"
     ]
    }
   ],
   "source": [
    "clf = HalvingGridSearchCV(\n",
    "    svm_pipeline,\n",
    "    svm_param_grid,\n",
    "    return_train_score=True,\n",
    "    scoring=\"f1_weighted\",\n",
    "    n_jobs=-1,\n",
    ")\n",
    "_, svm_halv_grid_results = run_search(\n",
    "    \"HalvingGridSearchCV\", clf, X_train, X_val, y_train, y_val\n",
    ")"
   ]
  },
  {
   "cell_type": "markdown",
   "id": "f3099319",
   "metadata": {
    "papermill": {
     "duration": 0.013046,
     "end_time": "2025-04-14T18:04:12.203737",
     "exception": false,
     "start_time": "2025-04-14T18:04:12.190691",
     "status": "completed"
    },
    "tags": []
   },
   "source": [
    "#### 3.3 Liczba iteracji metody"
   ]
  },
  {
   "cell_type": "code",
   "execution_count": 18,
   "id": "b21a1c9e",
   "metadata": {
    "execution": {
     "iopub.execute_input": "2025-04-14T18:04:12.232253Z",
     "iopub.status.busy": "2025-04-14T18:04:12.231888Z",
     "iopub.status.idle": "2025-04-14T18:04:12.237117Z",
     "shell.execute_reply": "2025-04-14T18:04:12.235794Z"
    },
    "papermill": {
     "duration": 0.021807,
     "end_time": "2025-04-14T18:04:12.238900",
     "exception": false,
     "start_time": "2025-04-14T18:04:12.217093",
     "status": "completed"
    },
    "tags": []
   },
   "outputs": [
    {
     "name": "stdout",
     "output_type": "stream",
     "text": [
      "GridSearchCV wykonał 72 pomiarów\n"
     ]
    }
   ],
   "source": [
    "print(f\"GridSearchCV wykonał {rf_halv_grid_results['Models Tried']} pomiarów\")"
   ]
  },
  {
   "cell_type": "markdown",
   "id": "88e04723",
   "metadata": {
    "papermill": {
     "duration": 0.01396,
     "end_time": "2025-04-14T18:04:12.266689",
     "exception": false,
     "start_time": "2025-04-14T18:04:12.252729",
     "status": "completed"
    },
    "tags": []
   },
   "source": [
    "## 4. HalvingRandomSearch"
   ]
  },
  {
   "cell_type": "markdown",
   "id": "cc8983fb",
   "metadata": {
    "papermill": {
     "duration": 0.014662,
     "end_time": "2025-04-14T18:04:12.293668",
     "exception": false,
     "start_time": "2025-04-14T18:04:12.279006",
     "status": "completed"
    },
    "tags": []
   },
   "source": [
    "#### 4.1 Opis działania, możliwości, ograniczenia"
   ]
  },
  {
   "cell_type": "markdown",
   "id": "1ac784ef",
   "metadata": {
    "papermill": {
     "duration": 0.014909,
     "end_time": "2025-04-14T18:04:12.323974",
     "exception": false,
     "start_time": "2025-04-14T18:04:12.309065",
     "status": "completed"
    },
    "tags": []
   },
   "source": [
    "[HalvingRandomSearch](https://scikit-learn.org/stable/modules/generated/sklearn.model_selection.HalvingRandomSearchCV.html) jest połączeniem HalvingGridSearch oraz RandomSeach. Działa z mechanizmem losowego wyboru hiperparametrów z aspektem odsiewania słabszych i trenowania pozostałych na większej liczbie danych.\n",
    "\n",
    "Najbardziej efektywny czasowo i najmniej wymagający obliczeniowo\n",
    "\n",
    "Ponownie jest eksperymentalną funkcja sklearn oraz tak jak RandomSearch może pominąć najlepsze wartości hiperparametrów"
   ]
  },
  {
   "cell_type": "markdown",
   "id": "38643c5b",
   "metadata": {
    "papermill": {
     "duration": 0.015109,
     "end_time": "2025-04-14T18:04:12.354412",
     "exception": false,
     "start_time": "2025-04-14T18:04:12.339303",
     "status": "completed"
    },
    "tags": []
   },
   "source": [
    "#### 4.2 Jakość najlepszego modelu oraz czas działania"
   ]
  },
  {
   "cell_type": "code",
   "execution_count": 19,
   "id": "7990ece5",
   "metadata": {
    "execution": {
     "iopub.execute_input": "2025-04-14T18:04:12.392531Z",
     "iopub.status.busy": "2025-04-14T18:04:12.391242Z",
     "iopub.status.idle": "2025-04-14T18:04:32.089726Z",
     "shell.execute_reply": "2025-04-14T18:04:32.088575Z"
    },
    "papermill": {
     "duration": 19.717719,
     "end_time": "2025-04-14T18:04:32.091496",
     "exception": false,
     "start_time": "2025-04-14T18:04:12.373777",
     "status": "completed"
    },
    "tags": []
   },
   "outputs": [
    {
     "name": "stdout",
     "output_type": "stream",
     "text": [
      "Fit...\n"
     ]
    },
    {
     "name": "stdout",
     "output_type": "stream",
     "text": [
      "Predict...\n"
     ]
    }
   ],
   "source": [
    "clf = HalvingRandomSearchCV(\n",
    "    rf_pipeline,\n",
    "    rf_param_grid,\n",
    "    return_train_score=True,\n",
    "    scoring=\"f1_weighted\",\n",
    "    n_jobs=-1,\n",
    "    n_candidates=40,\n",
    ")\n",
    "_, rf_halv_rand_grid_results = run_search(\n",
    "    \"HalvingRandomSearchCV\", clf, X_train, X_val, y_train, y_val\n",
    ")"
   ]
  },
  {
   "cell_type": "code",
   "execution_count": 20,
   "id": "c405c6ad",
   "metadata": {
    "execution": {
     "iopub.execute_input": "2025-04-14T18:04:32.122816Z",
     "iopub.status.busy": "2025-04-14T18:04:32.121992Z",
     "iopub.status.idle": "2025-04-14T18:04:35.150286Z",
     "shell.execute_reply": "2025-04-14T18:04:35.148726Z"
    },
    "papermill": {
     "duration": 3.045486,
     "end_time": "2025-04-14T18:04:35.151673",
     "exception": false,
     "start_time": "2025-04-14T18:04:32.106187",
     "status": "completed"
    },
    "tags": []
   },
   "outputs": [
    {
     "name": "stdout",
     "output_type": "stream",
     "text": [
      "Fit...\n"
     ]
    },
    {
     "name": "stderr",
     "output_type": "stream",
     "text": [
      "/usr/local/lib/python3.12/site-packages/sklearn/model_selection/_search.py:317: UserWarning: The total space of parameters 36 is smaller than n_iter=40. Running 36 iterations. For exhaustive searches, use GridSearchCV.\n",
      "  warnings.warn(\n"
     ]
    },
    {
     "name": "stdout",
     "output_type": "stream",
     "text": [
      "Predict...\n"
     ]
    }
   ],
   "source": [
    "clf = HalvingRandomSearchCV(\n",
    "    svm_pipeline,\n",
    "    svm_param_grid,\n",
    "    return_train_score=True,\n",
    "    scoring=\"f1_weighted\",\n",
    "    n_jobs=-1,\n",
    "    n_candidates=40,\n",
    ")\n",
    "_, svm_halv_rand_grid_results = run_search(\n",
    "    \"HalvingRandomSearchCV\", clf, X_train, X_val, y_train, y_val\n",
    ")"
   ]
  },
  {
   "cell_type": "markdown",
   "id": "82b4d4f4",
   "metadata": {
    "papermill": {
     "duration": 0.018137,
     "end_time": "2025-04-14T18:04:35.187086",
     "exception": false,
     "start_time": "2025-04-14T18:04:35.168949",
     "status": "completed"
    },
    "tags": []
   },
   "source": [
    "#### 4.3 Liczba iteracji metody"
   ]
  },
  {
   "cell_type": "code",
   "execution_count": 21,
   "id": "30a54631",
   "metadata": {
    "execution": {
     "iopub.execute_input": "2025-04-14T18:04:35.225841Z",
     "iopub.status.busy": "2025-04-14T18:04:35.224961Z",
     "iopub.status.idle": "2025-04-14T18:04:35.230417Z",
     "shell.execute_reply": "2025-04-14T18:04:35.229353Z"
    },
    "papermill": {
     "duration": 0.024507,
     "end_time": "2025-04-14T18:04:35.231898",
     "exception": false,
     "start_time": "2025-04-14T18:04:35.207391",
     "status": "completed"
    },
    "tags": []
   },
   "outputs": [
    {
     "name": "stdout",
     "output_type": "stream",
     "text": [
      "GridSearchCV wykonał 61 pomiarów\n"
     ]
    }
   ],
   "source": [
    "print(f\"GridSearchCV wykonał {rf_halv_rand_grid_results['Models Tried']} pomiarów\")"
   ]
  },
  {
   "cell_type": "markdown",
   "id": "e9fe3633",
   "metadata": {
    "papermill": {
     "duration": 0.016245,
     "end_time": "2025-04-14T18:04:35.262740",
     "exception": false,
     "start_time": "2025-04-14T18:04:35.246495",
     "status": "completed"
    },
    "tags": []
   },
   "source": [
    "## 5. Podsumowanie"
   ]
  },
  {
   "cell_type": "markdown",
   "id": "3d13b508",
   "metadata": {
    "papermill": {
     "duration": 0.02267,
     "end_time": "2025-04-14T18:04:35.303914",
     "exception": false,
     "start_time": "2025-04-14T18:04:35.281244",
     "status": "completed"
    },
    "tags": []
   },
   "source": [
    "#### 5.1 Porównanie modeli"
   ]
  },
  {
   "cell_type": "code",
   "execution_count": 22,
   "id": "db7ffdad",
   "metadata": {
    "execution": {
     "iopub.execute_input": "2025-04-14T18:04:35.351349Z",
     "iopub.status.busy": "2025-04-14T18:04:35.350484Z",
     "iopub.status.idle": "2025-04-14T18:04:35.359836Z",
     "shell.execute_reply": "2025-04-14T18:04:35.358184Z"
    },
    "papermill": {
     "duration": 0.034024,
     "end_time": "2025-04-14T18:04:35.361952",
     "exception": false,
     "start_time": "2025-04-14T18:04:35.327928",
     "status": "completed"
    },
    "tags": []
   },
   "outputs": [],
   "source": [
    "rf_results = [\n",
    "    rf_randomized_results,\n",
    "    rf_grid_results,\n",
    "    rf_halv_grid_results,\n",
    "    rf_halv_rand_grid_results,\n",
    "]\n",
    "df_rf_results = pd.DataFrame(rf_results)"
   ]
  },
  {
   "cell_type": "code",
   "execution_count": 23,
   "id": "b476ca9d",
   "metadata": {
    "execution": {
     "iopub.execute_input": "2025-04-14T18:04:35.406392Z",
     "iopub.status.busy": "2025-04-14T18:04:35.405808Z",
     "iopub.status.idle": "2025-04-14T18:04:35.413538Z",
     "shell.execute_reply": "2025-04-14T18:04:35.411793Z"
    },
    "papermill": {
     "duration": 0.033519,
     "end_time": "2025-04-14T18:04:35.415666",
     "exception": false,
     "start_time": "2025-04-14T18:04:35.382147",
     "status": "completed"
    },
    "tags": []
   },
   "outputs": [],
   "source": [
    "svm_results = [\n",
    "    svm_randomized_results,\n",
    "    svm_grid_results,\n",
    "    svm_halv_grid_results,\n",
    "    svm_halv_rand_grid_results,\n",
    "]\n",
    "df_svm_results = pd.DataFrame(svm_results)"
   ]
  },
  {
   "cell_type": "code",
   "execution_count": 24,
   "id": "6236559b",
   "metadata": {
    "execution": {
     "iopub.execute_input": "2025-04-14T18:04:35.451361Z",
     "iopub.status.busy": "2025-04-14T18:04:35.450396Z",
     "iopub.status.idle": "2025-04-14T18:04:35.906878Z",
     "shell.execute_reply": "2025-04-14T18:04:35.905222Z"
    },
    "papermill": {
     "duration": 0.474911,
     "end_time": "2025-04-14T18:04:35.909091",
     "exception": false,
     "start_time": "2025-04-14T18:04:35.434180",
     "status": "completed"
    },
    "tags": []
   },
   "outputs": [
    {
     "name": "stderr",
     "output_type": "stream",
     "text": [
      "/usr/local/lib/python3.12/site-packages/seaborn/_base.py:949: FutureWarning: When grouping with a length-1 list-like, you will need to pass a length-1 tuple to get_group in a future version of pandas. Pass `(name,)` instead of `name` to silence this warning.\n",
      "  data_subset = grouped_data.get_group(pd_key)\n",
      "/usr/local/lib/python3.12/site-packages/seaborn/_base.py:949: FutureWarning: When grouping with a length-1 list-like, you will need to pass a length-1 tuple to get_group in a future version of pandas. Pass `(name,)` instead of `name` to silence this warning.\n",
      "  data_subset = grouped_data.get_group(pd_key)\n",
      "/usr/local/lib/python3.12/site-packages/seaborn/_base.py:949: FutureWarning: When grouping with a length-1 list-like, you will need to pass a length-1 tuple to get_group in a future version of pandas. Pass `(name,)` instead of `name` to silence this warning.\n",
      "  data_subset = grouped_data.get_group(pd_key)\n",
      "/usr/local/lib/python3.12/site-packages/seaborn/_base.py:949: FutureWarning: When grouping with a length-1 list-like, you will need to pass a length-1 tuple to get_group in a future version of pandas. Pass `(name,)` instead of `name` to silence this warning.\n",
      "  data_subset = grouped_data.get_group(pd_key)\n"
     ]
    },
    {
     "data": {
      "image/png": "[encoded data removed]",
      "text/plain": [
       "<Figure size 1500x800 with 1 Axes>"
      ]
     },
     "metadata": {},
     "output_type": "display_data"
    }
   ],
   "source": [
    "plt.figure(figsize=(15, 8))\n",
    "metrics_to_plot = [\n",
    "    \"Best f1_weighted (CV)\",\n",
    "    \"Accuracy\",\n",
    "    \"Precision\",\n",
    "    \"Recall\",\n",
    "    \"F1 (weighted)\",\n",
    "]\n",
    "df_melted = df_rf_results.melt(\n",
    "    id_vars=\"Method\", value_vars=metrics_to_plot, var_name=\"Metric\", value_name=\"Score\"\n",
    ")\n",
    "\n",
    "sns.barplot(data=df_melted, x=\"Metric\", y=\"Score\", hue=\"Method\")\n",
    "plt.title(\"Porównanie metryk jakości modeli\")\n",
    "plt.xticks(rotation=45)\n",
    "plt.legend(title=\"Metoda\")\n",
    "plt.tight_layout()\n",
    "plt.show()"
   ]
  },
  {
   "cell_type": "code",
   "execution_count": 25,
   "id": "c1afaa7c",
   "metadata": {
    "execution": {
     "iopub.execute_input": "2025-04-14T18:04:35.947765Z",
     "iopub.status.busy": "2025-04-14T18:04:35.947173Z",
     "iopub.status.idle": "2025-04-14T18:04:36.282910Z",
     "shell.execute_reply": "2025-04-14T18:04:36.281393Z"
    },
    "papermill": {
     "duration": 0.355803,
     "end_time": "2025-04-14T18:04:36.284754",
     "exception": false,
     "start_time": "2025-04-14T18:04:35.928951",
     "status": "completed"
    },
    "tags": []
   },
   "outputs": [
    {
     "name": "stderr",
     "output_type": "stream",
     "text": [
      "/usr/local/lib/python3.12/site-packages/seaborn/_base.py:949: FutureWarning: When grouping with a length-1 list-like, you will need to pass a length-1 tuple to get_group in a future version of pandas. Pass `(name,)` instead of `name` to silence this warning.\n",
      "  data_subset = grouped_data.get_group(pd_key)\n",
      "/usr/local/lib/python3.12/site-packages/seaborn/_base.py:949: FutureWarning: When grouping with a length-1 list-like, you will need to pass a length-1 tuple to get_group in a future version of pandas. Pass `(name,)` instead of `name` to silence this warning.\n",
      "  data_subset = grouped_data.get_group(pd_key)\n",
      "/usr/local/lib/python3.12/site-packages/seaborn/_base.py:949: FutureWarning: When grouping with a length-1 list-like, you will need to pass a length-1 tuple to get_group in a future version of pandas. Pass `(name,)` instead of `name` to silence this warning.\n",
      "  data_subset = grouped_data.get_group(pd_key)\n",
      "/usr/local/lib/python3.12/site-packages/seaborn/_base.py:949: FutureWarning: When grouping with a length-1 list-like, you will need to pass a length-1 tuple to get_group in a future version of pandas. Pass `(name,)` instead of `name` to silence this warning.\n",
      "  data_subset = grouped_data.get_group(pd_key)\n"
     ]
    },
    {
     "data": {
      "image/png": "[encoded data removed]",
      "text/plain": [
       "<Figure size 1000x600 with 1 Axes>"
      ]
     },
     "metadata": {},
     "output_type": "display_data"
    }
   ],
   "source": [
    "plt.figure(figsize=(10, 6))\n",
    "sns.barplot(data=df_rf_results, x=\"Method\", y=\"Time (s)\", palette=\"muted\", hue=\"Method\")\n",
    "plt.title(\"Czas działania dla każdej metody\")\n",
    "plt.ylabel(\"Czas (s)\")\n",
    "plt.xticks(rotation=15)\n",
    "plt.tight_layout()\n",
    "plt.show()"
   ]
  },
  {
   "cell_type": "code",
   "execution_count": 26,
   "id": "4dd3df5e",
   "metadata": {
    "execution": {
     "iopub.execute_input": "2025-04-14T18:04:36.330280Z",
     "iopub.status.busy": "2025-04-14T18:04:36.329562Z",
     "iopub.status.idle": "2025-04-14T18:04:36.336365Z",
     "shell.execute_reply": "2025-04-14T18:04:36.334833Z"
    },
    "papermill": {
     "duration": 0.034142,
     "end_time": "2025-04-14T18:04:36.338823",
     "exception": false,
     "start_time": "2025-04-14T18:04:36.304681",
     "status": "completed"
    },
    "tags": []
   },
   "outputs": [],
   "source": [
    "df_rf_results[\"Time per Model\"] = (\n",
    "    df_rf_results[\"Time (s)\"] / df_rf_results[\"Models Tried\"]\n",
    ")"
   ]
  },
  {
   "cell_type": "code",
   "execution_count": 27,
   "id": "ae0a682a",
   "metadata": {
    "execution": {
     "iopub.execute_input": "2025-04-14T18:04:36.383330Z",
     "iopub.status.busy": "2025-04-14T18:04:36.382856Z",
     "iopub.status.idle": "2025-04-14T18:04:36.615112Z",
     "shell.execute_reply": "2025-04-14T18:04:36.614175Z"
    },
    "papermill": {
     "duration": 0.254671,
     "end_time": "2025-04-14T18:04:36.616601",
     "exception": false,
     "start_time": "2025-04-14T18:04:36.361930",
     "status": "completed"
    },
    "tags": []
   },
   "outputs": [
    {
     "name": "stderr",
     "output_type": "stream",
     "text": [
      "/usr/local/lib/python3.12/site-packages/seaborn/_base.py:949: FutureWarning: When grouping with a length-1 list-like, you will need to pass a length-1 tuple to get_group in a future version of pandas. Pass `(name,)` instead of `name` to silence this warning.\n",
      "  data_subset = grouped_data.get_group(pd_key)\n",
      "/usr/local/lib/python3.12/site-packages/seaborn/_base.py:949: FutureWarning: When grouping with a length-1 list-like, you will need to pass a length-1 tuple to get_group in a future version of pandas. Pass `(name,)` instead of `name` to silence this warning.\n",
      "  data_subset = grouped_data.get_group(pd_key)\n",
      "/usr/local/lib/python3.12/site-packages/seaborn/_base.py:949: FutureWarning: When grouping with a length-1 list-like, you will need to pass a length-1 tuple to get_group in a future version of pandas. Pass `(name,)` instead of `name` to silence this warning.\n",
      "  data_subset = grouped_data.get_group(pd_key)\n",
      "/usr/local/lib/python3.12/site-packages/seaborn/_base.py:949: FutureWarning: When grouping with a length-1 list-like, you will need to pass a length-1 tuple to get_group in a future version of pandas. Pass `(name,)` instead of `name` to silence this warning.\n",
      "  data_subset = grouped_data.get_group(pd_key)\n"
     ]
    },
    {
     "data": {
      "image/png": "[encoded data removed]",
      "text/plain": [
       "<Figure size 1000x600 with 1 Axes>"
      ]
     },
     "metadata": {},
     "output_type": "display_data"
    }
   ],
   "source": [
    "plt.figure(figsize=(10, 6))\n",
    "sns.barplot(\n",
    "    data=df_rf_results,\n",
    "    x=\"Method\",\n",
    "    y=\"Time per Model\",\n",
    "    hue=\"Method\",\n",
    "    palette=\"viridis\",\n",
    "    legend=False,\n",
    ")\n",
    "plt.title(\"Średni czas trenowania pojedynczego modelu\")\n",
    "plt.ylabel(\"Czas (s) na model\")\n",
    "plt.xticks(rotation=15)\n",
    "plt.tight_layout()\n",
    "plt.show()"
   ]
  },
  {
   "cell_type": "code",
   "execution_count": 28,
   "id": "7f3bbc11",
   "metadata": {
    "execution": {
     "iopub.execute_input": "2025-04-14T18:04:36.658985Z",
     "iopub.status.busy": "2025-04-14T18:04:36.658023Z",
     "iopub.status.idle": "2025-04-14T18:04:36.670257Z",
     "shell.execute_reply": "2025-04-14T18:04:36.668253Z"
    },
    "papermill": {
     "duration": 0.035178,
     "end_time": "2025-04-14T18:04:36.672291",
     "exception": false,
     "start_time": "2025-04-14T18:04:36.637113",
     "status": "completed"
    },
    "tags": []
   },
   "outputs": [],
   "source": [
    "rf_max_index = df_rf_results[\"Best f1_weighted (CV)\"].idxmax()\n",
    "svm_max_index = df_svm_results[\"Best f1_weighted (CV)\"].idxmax()\n",
    "rf_best_params = df_rf_results[\"Best Params\"][rf_max_index]\n",
    "svm_best_params = df_svm_results[\"Best Params\"][svm_max_index]\n",
    "best_params = {\n",
    "    \"RandomForest\": rf_best_params,\n",
    "    \"SVM\": svm_best_params,\n",
    "}\n",
    "\n",
    "with open(f\"data/models/{dataset_name}/best_params.json\", \"w\") as f:\n",
    "    json.dump(best_params, f)"
   ]
  },
  {
   "cell_type": "markdown",
   "id": "e40539ea",
   "metadata": {
    "papermill": {
     "duration": 0.018065,
     "end_time": "2025-04-14T18:04:36.708688",
     "exception": false,
     "start_time": "2025-04-14T18:04:36.690623",
     "status": "completed"
    },
    "tags": []
   },
   "source": [
    "#### 5.2 Porównanie wyników\n",
    "\n",
    "Najlepsze wyniki osiągnął model Randomized Search\n",
    "\n",
    "Model trenował się najwięcej czasu oraz posiada najgorszą metrykę względem czasu/model\n",
    "\n",
    "Pozostałe metody osiągnęły bardzo podobne wyniki, lecz różniły je czasy wykonywania.\n",
    "\n",
    "Zakładająć, iż wyniki bybły nieznacznie podobne kolejny model z najlepszymi wynikami posiada HalvingRandomSearch ze względu na definitywnie najkrótszy czas działania."
   ]
  },
  {
   "cell_type": "markdown",
   "id": "2d565a21",
   "metadata": {
    "papermill": {
     "duration": 0.019096,
     "end_time": "2025-04-14T18:04:36.746875",
     "exception": false,
     "start_time": "2025-04-14T18:04:36.727779",
     "status": "completed"
    },
    "tags": []
   },
   "source": [
    "#### 5.3 Wybrów i uzasadnienie"
   ]
  },
  {
   "cell_type": "markdown",
   "id": "d4c17b35",
   "metadata": {
    "papermill": {
     "duration": 0.021994,
     "end_time": "2025-04-14T18:04:36.788314",
     "exception": false,
     "start_time": "2025-04-14T18:04:36.766320",
     "status": "completed"
    },
    "tags": []
   },
   "source": [
    "Nie ma jednego dobrego wyjścia, są one bardzo zależne od naszych potrzeb i kompetencji.\n",
    "\n",
    "Najlepszą opcją, gdy potrzebujemy szybko znaleźć \"dobry\" model jest zdecydowanie HalvingRandomSearch ze względu na akceptowalne wyniki w zaskakująco krótkim czasie. (Dobre wyniki, szybkie działanie).\n",
    "\n",
    "Najlepszym wyborem, gdy znamy dokładnie model, dane oraz posiadamy dużą wiedzę dziedzinową i intuicję jest GridSearch ze względu na możliwość dokładnego zbadania wielu hiperparametrów dla naszej hipotezy. (Najlepszy wynik, najdłużej się wykonuje).\n",
    "\n",
    "Najlepszym wyborem, gdy nie do końca znamy potencjalne hiperparametry oraz nie zależy nam na czasie jest RandomizedSearch dzięki któremu w sposób losowy możemy osiąganąć dobre wyniki dla modelu oraz samemu zdecydować ilu iteracji potrzebujemy.\n",
    "\n",
    "Dla mnie, jako studenta bez silnej intuicji odnośnie nieznanych klasyfikatorów i dla nieznanyc zbiorów danych najlepszą opcją byłby HalvingRandomSearch, ponieważ umożliwiłby mi w szybki sposób zrozumieć dla jakich mniej więcej parametrów model działałby dobrze."
   ]
  }
 ],
 "metadata": {
  "kernelspec": {
   "display_name": ".venv",
   "language": "python",
   "name": "python3"
  },
  "language_info": {
   "codemirror_mode": {
    "name": "ipython",
    "version": 3
   },
   "file_extension": ".py",
   "mimetype": "text/x-python",
   "name": "python",
   "nbconvert_exporter": "python",
   "pygments_lexer": "ipython3",
   "version": "3.12.10"
  },
  "papermill": {
   "default_parameters": {},
   "duration": 127.748971,
   "end_time": "2025-04-14T18:04:39.436326",
   "environment_variables": {},
   "exception": null,
   "input_path": "notebooks/eval_hyperparameters.ipynb",
   "output_path": "data/notebooks/rt-polarity/eval_hyperparameters.ipynb",
   "parameters": {
    "dataset_name": "rt-polarity"
   },
   "start_time": "2025-04-14T18:02:31.687355",
   "version": "2.6.0"
  }
 },
 "nbformat": 4,
 "nbformat_minor": 5
}