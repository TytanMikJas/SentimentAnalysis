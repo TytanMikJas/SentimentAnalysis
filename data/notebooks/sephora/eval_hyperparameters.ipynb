{
 "cells": [
  {
   "cell_type": "markdown",
   "id": "91a70fe3",
   "metadata": {
    "papermill": {
     "duration": 0.02422,
     "end_time": "2025-04-14T18:04:44.173772",
     "exception": false,
     "start_time": "2025-04-14T18:04:44.149552",
     "status": "completed"
    },
    "tags": []
   },
   "source": [
    "## 0. Inicjalizacja"
   ]
  },
  {
   "cell_type": "markdown",
   "id": "b7d37191",
   "metadata": {
    "papermill": {
     "duration": 0.019355,
     "end_time": "2025-04-14T18:04:44.213359",
     "exception": false,
     "start_time": "2025-04-14T18:04:44.194004",
     "status": "completed"
    },
    "tags": []
   },
   "source": [
    "#### 0.1 Import"
   ]
  },
  {
   "cell_type": "code",
   "execution_count": 1,
   "id": "b8f7c39b",
   "metadata": {
    "execution": {
     "iopub.execute_input": "2025-04-14T18:04:44.246761Z",
     "iopub.status.busy": "2025-04-14T18:04:44.245038Z",
     "iopub.status.idle": "2025-04-14T18:04:48.403115Z",
     "shell.execute_reply": "2025-04-14T18:04:48.401494Z"
    },
    "papermill": {
     "duration": 4.178197,
     "end_time": "2025-04-14T18:04:48.405205",
     "exception": false,
     "start_time": "2025-04-14T18:04:44.227008",
     "status": "completed"
    },
    "tags": []
   },
   "outputs": [],
   "source": [
    "import pandas as pd\n",
    "import os\n",
    "import sys\n",
    "import yaml\n",
    "import matplotlib.pyplot as plt\n",
    "import seaborn as sns\n",
    "from sklearn.ensemble import RandomForestClassifier\n",
    "from sklearn.svm import SVC\n",
    "from sklearn.experimental import enable_halving_search_cv\n",
    "from scipy.stats import uniform\n",
    "from sklearn.model_selection import (\n",
    "    GridSearchCV,\n",
    "    RandomizedSearchCV,\n",
    "    HalvingGridSearchCV,\n",
    "    HalvingRandomSearchCV,\n",
    "    train_test_split,\n",
    ")\n",
    "from time import time\n",
    "from scipy.stats import randint\n",
    "from sklearn.metrics import f1_score\n",
    "from sklearn.metrics import accuracy_score, precision_score, recall_score, f1_score\n",
    "import json\n",
    "\n",
    "sys.path.append(os.path.abspath(\"../../\"))\n",
    "from src.utils import load_train_test_data, get_params, SEPHORA_DATASET\n",
    "from src.pipeline import build_pipeline"
   ]
  },
  {
   "cell_type": "markdown",
   "id": "9b0f6b29",
   "metadata": {
    "papermill": {
     "duration": 0.01891,
     "end_time": "2025-04-14T18:04:48.438405",
     "exception": false,
     "start_time": "2025-04-14T18:04:48.419495",
     "status": "completed"
    },
    "tags": []
   },
   "source": [
    "#### 0.2 Parametry oraz Dataset"
   ]
  },
  {
   "cell_type": "code",
   "execution_count": 2,
   "id": "77630f1f",
   "metadata": {
    "execution": {
     "iopub.execute_input": "2025-04-14T18:04:48.470006Z",
     "iopub.status.busy": "2025-04-14T18:04:48.468945Z",
     "iopub.status.idle": "2025-04-14T18:04:48.474782Z",
     "shell.execute_reply": "2025-04-14T18:04:48.473811Z"
    },
    "papermill": {
     "duration": 0.02307,
     "end_time": "2025-04-14T18:04:48.476291",
     "exception": false,
     "start_time": "2025-04-14T18:04:48.453221",
     "status": "completed"
    },
    "tags": [
     "parameters"
    ]
   },
   "outputs": [],
   "source": [
    "dataset_name = \"sephora\""
   ]
  },
  {
   "cell_type": "code",
   "execution_count": 3,
   "id": "bcb56bf5",
   "metadata": {
    "execution": {
     "iopub.execute_input": "2025-04-14T18:04:48.505192Z",
     "iopub.status.busy": "2025-04-14T18:04:48.504732Z",
     "iopub.status.idle": "2025-04-14T18:04:48.510581Z",
     "shell.execute_reply": "2025-04-14T18:04:48.508872Z"
    },
    "papermill": {
     "duration": 0.021795,
     "end_time": "2025-04-14T18:04:48.512304",
     "exception": false,
     "start_time": "2025-04-14T18:04:48.490509",
     "status": "completed"
    },
    "tags": [
     "injected-parameters"
    ]
   },
   "outputs": [],
   "source": [
    "# Parameters\n",
    "dataset_name = \"sephora\"\n"
   ]
  },
  {
   "cell_type": "code",
   "execution_count": 4,
   "id": "28477f4f",
   "metadata": {
    "execution": {
     "iopub.execute_input": "2025-04-14T18:04:48.545113Z",
     "iopub.status.busy": "2025-04-14T18:04:48.544630Z",
     "iopub.status.idle": "2025-04-14T18:04:48.563185Z",
     "shell.execute_reply": "2025-04-14T18:04:48.562066Z"
    },
    "papermill": {
     "duration": 0.03611,
     "end_time": "2025-04-14T18:04:48.564760",
     "exception": false,
     "start_time": "2025-04-14T18:04:48.528650",
     "status": "completed"
    },
    "tags": []
   },
   "outputs": [],
   "source": [
    "common_params, custom_params = get_params(dataset_name)"
   ]
  },
  {
   "cell_type": "code",
   "execution_count": 5,
   "id": "61661d76",
   "metadata": {
    "execution": {
     "iopub.execute_input": "2025-04-14T18:04:48.602692Z",
     "iopub.status.busy": "2025-04-14T18:04:48.601893Z",
     "iopub.status.idle": "2025-04-14T18:04:49.344658Z",
     "shell.execute_reply": "2025-04-14T18:04:49.343281Z"
    },
    "papermill": {
     "duration": 0.764699,
     "end_time": "2025-04-14T18:04:49.347048",
     "exception": false,
     "start_time": "2025-04-14T18:04:48.582349",
     "status": "completed"
    },
    "tags": []
   },
   "outputs": [
    {
     "name": "stderr",
     "output_type": "stream",
     "text": [
      "2025-04-14 18:04:48 - INFO - Loading train and test data\n"
     ]
    }
   ],
   "source": [
    "training_data, _ = load_train_test_data(\"data/train_test_data\", dataset_name)\n",
    "training_data = training_data[custom_params[\"pipeline\"][\"selected\"]]\n",
    "training_data = training_data[0:1_000]\n",
    "X_train, X_val, y_train, y_val = train_test_split(\n",
    "    training_data.drop(columns=[custom_params[\"features\"][\"label\"]], axis=1),\n",
    "    training_data[custom_params[\"features\"][\"label\"]],\n",
    "    test_size=0.2,\n",
    ")"
   ]
  },
  {
   "cell_type": "markdown",
   "id": "ab11c55c",
   "metadata": {
    "papermill": {
     "duration": 0.017143,
     "end_time": "2025-04-14T18:04:49.385031",
     "exception": false,
     "start_time": "2025-04-14T18:04:49.367888",
     "status": "completed"
    },
    "tags": []
   },
   "source": [
    "#### 0.3 Pipeline"
   ]
  },
  {
   "cell_type": "code",
   "execution_count": 6,
   "id": "8c195d58",
   "metadata": {
    "execution": {
     "iopub.execute_input": "2025-04-14T18:04:49.416363Z",
     "iopub.status.busy": "2025-04-14T18:04:49.415829Z",
     "iopub.status.idle": "2025-04-14T18:04:49.422559Z",
     "shell.execute_reply": "2025-04-14T18:04:49.420490Z"
    },
    "papermill": {
     "duration": 0.025302,
     "end_time": "2025-04-14T18:04:49.424525",
     "exception": false,
     "start_time": "2025-04-14T18:04:49.399223",
     "status": "completed"
    },
    "tags": []
   },
   "outputs": [],
   "source": [
    "rf_pipeline = build_pipeline(\n",
    "    custom_params, dataset_name, \"all\", RandomForestClassifier(n_jobs=-1)\n",
    ")\n",
    "svm_pipeline = build_pipeline(custom_params, dataset_name, \"all\", SVC())"
   ]
  },
  {
   "cell_type": "markdown",
   "id": "46b6b6c5",
   "metadata": {
    "papermill": {
     "duration": 0.01567,
     "end_time": "2025-04-14T18:04:49.455525",
     "exception": false,
     "start_time": "2025-04-14T18:04:49.439855",
     "status": "completed"
    },
    "tags": []
   },
   "source": [
    "#### 0.4 Funkcja do eksperymentów"
   ]
  },
  {
   "cell_type": "code",
   "execution_count": 7,
   "id": "571dd937",
   "metadata": {
    "execution": {
     "iopub.execute_input": "2025-04-14T18:04:49.498851Z",
     "iopub.status.busy": "2025-04-14T18:04:49.497128Z",
     "iopub.status.idle": "2025-04-14T18:04:49.508678Z",
     "shell.execute_reply": "2025-04-14T18:04:49.506399Z"
    },
    "papermill": {
     "duration": 0.037059,
     "end_time": "2025-04-14T18:04:49.511569",
     "exception": false,
     "start_time": "2025-04-14T18:04:49.474510",
     "status": "completed"
    },
    "tags": []
   },
   "outputs": [],
   "source": [
    "def run_search(name, searcher, X_train, X_val, y_train, y_val):\n",
    "    print(\"Fit...\")\n",
    "    start = time()\n",
    "    searcher.fit(X_train, y_train)\n",
    "    end = time()\n",
    "\n",
    "    elapsed = end - start\n",
    "    best_model = searcher.best_estimator_\n",
    "    n_models = len(searcher.cv_results_[\"mean_test_score\"])\n",
    "    best_params = searcher.best_params_\n",
    "    best_score = searcher.best_score_\n",
    "\n",
    "    print(\"Predict...\")\n",
    "    y_pred = best_model.predict(X_val)\n",
    "\n",
    "    results = {\n",
    "        \"Method\": name,\n",
    "        \"Best f1_weighted (CV)\": best_score,\n",
    "        \"Accuracy\": accuracy_score(y_val, y_pred),\n",
    "        \"Precision\": precision_score(\n",
    "            y_val, y_pred, average=\"weighted\", zero_division=0\n",
    "        ),\n",
    "        \"Recall\": recall_score(y_val, y_pred, average=\"weighted\", zero_division=0),\n",
    "        \"F1 (weighted)\": f1_score(y_val, y_pred, average=\"weighted\", zero_division=0),\n",
    "        \"Time (s)\": elapsed,\n",
    "        \"Models Tried\": n_models,\n",
    "        \"Best Params\": best_params,\n",
    "        \"Best Estimator\": best_model,\n",
    "    }\n",
    "\n",
    "    return searcher, results"
   ]
  },
  {
   "cell_type": "markdown",
   "id": "384e9f9a",
   "metadata": {
    "papermill": {
     "duration": 0.016437,
     "end_time": "2025-04-14T18:04:49.547027",
     "exception": false,
     "start_time": "2025-04-14T18:04:49.530590",
     "status": "completed"
    },
    "tags": []
   },
   "source": [
    "#### 0.5 Parametry do eksperymentów"
   ]
  },
  {
   "cell_type": "code",
   "execution_count": 8,
   "id": "0091c4ea",
   "metadata": {
    "execution": {
     "iopub.execute_input": "2025-04-14T18:04:49.581804Z",
     "iopub.status.busy": "2025-04-14T18:04:49.581403Z",
     "iopub.status.idle": "2025-04-14T18:04:49.593737Z",
     "shell.execute_reply": "2025-04-14T18:04:49.592210Z"
    },
    "papermill": {
     "duration": 0.033473,
     "end_time": "2025-04-14T18:04:49.595417",
     "exception": false,
     "start_time": "2025-04-14T18:04:49.561944",
     "status": "completed"
    },
    "tags": []
   },
   "outputs": [],
   "source": [
    "rf_distributions = {\n",
    "    \"classifier__n_estimators\": randint(30, 60),\n",
    "    \"classifier__max_depth\": randint(10, 50),\n",
    "    \"classifier__criterion\": [\"gini\", \"entropy\"],\n",
    "    \"classifier__min_samples_leaf\": randint(1, 7),\n",
    "    \"classifier__max_features\": [\"sqrt\", None],\n",
    "}\n",
    "\n",
    "svm_distributions = {\n",
    "    \"classifier__C\": uniform(0.5, 1.5),\n",
    "    \"classifier__kernel\": [\"linear\", \"rbf\", \"poly\"],\n",
    "    \"classifier__degree\": [2, 3],\n",
    "    \"classifier__gamma\": [\"scale\", \"auto\"],\n",
    "}"
   ]
  },
  {
   "cell_type": "code",
   "execution_count": 9,
   "id": "57607047",
   "metadata": {
    "execution": {
     "iopub.execute_input": "2025-04-14T18:04:49.628154Z",
     "iopub.status.busy": "2025-04-14T18:04:49.627461Z",
     "iopub.status.idle": "2025-04-14T18:04:49.634894Z",
     "shell.execute_reply": "2025-04-14T18:04:49.633773Z"
    },
    "papermill": {
     "duration": 0.026182,
     "end_time": "2025-04-14T18:04:49.637280",
     "exception": false,
     "start_time": "2025-04-14T18:04:49.611098",
     "status": "completed"
    },
    "tags": []
   },
   "outputs": [],
   "source": [
    "rf_param_grid = {\n",
    "    \"classifier__n_estimators\": [30, 60],\n",
    "    \"classifier__max_depth\": [10, 30, 50],\n",
    "    \"classifier__criterion\": [\"gini\", \"entropy\"],\n",
    "    \"classifier__min_samples_leaf\": [1, 5],\n",
    "    \"classifier__max_features\": [\"sqrt\", None],\n",
    "}\n",
    "\n",
    "svm_param_grid = {\n",
    "    \"classifier__C\": [0.8, 1, 1.5],\n",
    "    \"classifier__kernel\": [\"linear\", \"rbf\", \"poly\"],\n",
    "    \"classifier__degree\": [2, 3],\n",
    "    \"classifier__gamma\": [\"scale\", \"auto\"],\n",
    "}"
   ]
  },
  {
   "cell_type": "markdown",
   "id": "79d47d9d",
   "metadata": {
    "papermill": {
     "duration": 0.019195,
     "end_time": "2025-04-14T18:04:49.766859",
     "exception": false,
     "start_time": "2025-04-14T18:04:49.747664",
     "status": "completed"
    },
    "tags": []
   },
   "source": [
    "## 1. RandomSearch"
   ]
  },
  {
   "cell_type": "markdown",
   "id": "a2b6f128",
   "metadata": {
    "papermill": {
     "duration": 0.022953,
     "end_time": "2025-04-14T18:04:49.807297",
     "exception": false,
     "start_time": "2025-04-14T18:04:49.784344",
     "status": "completed"
    },
    "tags": []
   },
   "source": [
    "#### 1.1 Opis działania, możliwości, ograniczenia"
   ]
  },
  {
   "cell_type": "markdown",
   "id": "545ec683",
   "metadata": {
    "papermill": {
     "duration": 0.022633,
     "end_time": "2025-04-14T18:04:49.853388",
     "exception": false,
     "start_time": "2025-04-14T18:04:49.830755",
     "status": "completed"
    },
    "tags": []
   },
   "source": [
    "**[RandomizedSearch](https://scikit-learn.org/stable/modules/generated/sklearn.model_selection.RandomizedSearchCV.html)** losowo wybiera kombinacje hiperparametrów z podanego rozkładu lub listy wartości. Można ustawić liczbę iteracji, co pozwala kontrolować czas trwania wyszukiwania.\n",
    "\n",
    "- Dzięki losowości jest szybszy od GridSearch, lecz przeszukuje mniejszą przestrzeń hiperparametrów.\n",
    "Może wciąż znaleźć bardzo dobre parametry przy mniejszej złożoności obliczeniowej\n",
    "\n",
    "- Wynik zależy od losowości, ponieważ może pominąć najlepsze hiperparametry.\n",
    "- Wyniki mogą się różnić przy wielu próbach uruchomienia przez losowość"
   ]
  },
  {
   "cell_type": "markdown",
   "id": "98a489b3",
   "metadata": {
    "papermill": {
     "duration": 0.017179,
     "end_time": "2025-04-14T18:04:49.889895",
     "exception": false,
     "start_time": "2025-04-14T18:04:49.872716",
     "status": "completed"
    },
    "tags": []
   },
   "source": [
    "#### 1.2 Jakość najlepszego modelu oraz czas działania"
   ]
  },
  {
   "cell_type": "code",
   "execution_count": 10,
   "id": "164e1688",
   "metadata": {
    "execution": {
     "iopub.execute_input": "2025-04-14T18:04:49.924287Z",
     "iopub.status.busy": "2025-04-14T18:04:49.923193Z",
     "iopub.status.idle": "2025-04-14T18:05:37.621669Z",
     "shell.execute_reply": "2025-04-14T18:05:37.620063Z"
    },
    "papermill": {
     "duration": 47.72991,
     "end_time": "2025-04-14T18:05:37.636108",
     "exception": false,
     "start_time": "2025-04-14T18:04:49.906198",
     "status": "completed"
    },
    "tags": []
   },
   "outputs": [
    {
     "name": "stdout",
     "output_type": "stream",
     "text": [
      "Fit...\n"
     ]
    },
    {
     "name": "stdout",
     "output_type": "stream",
     "text": [
      "Predict...\n"
     ]
    }
   ],
   "source": [
    "clf = RandomizedSearchCV(\n",
    "    rf_pipeline,\n",
    "    rf_distributions,\n",
    "    return_train_score=True,\n",
    "    scoring=\"f1_weighted\",\n",
    "    n_jobs=-1,\n",
    "    n_iter=40,\n",
    ")\n",
    "_, rf_randomized_results = run_search(\n",
    "    \"RandomizedSearchCV\", clf, X_train, X_val, y_train, y_val\n",
    ")"
   ]
  },
  {
   "cell_type": "code",
   "execution_count": 11,
   "id": "898b5dbb",
   "metadata": {
    "execution": {
     "iopub.execute_input": "2025-04-14T18:05:37.663469Z",
     "iopub.status.busy": "2025-04-14T18:05:37.663076Z",
     "iopub.status.idle": "2025-04-14T18:05:51.889170Z",
     "shell.execute_reply": "2025-04-14T18:05:51.888156Z"
    },
    "papermill": {
     "duration": 14.240826,
     "end_time": "2025-04-14T18:05:51.891159",
     "exception": false,
     "start_time": "2025-04-14T18:05:37.650333",
     "status": "completed"
    },
    "tags": []
   },
   "outputs": [
    {
     "name": "stdout",
     "output_type": "stream",
     "text": [
      "Fit...\n"
     ]
    },
    {
     "name": "stdout",
     "output_type": "stream",
     "text": [
      "Predict...\n"
     ]
    }
   ],
   "source": [
    "clf = RandomizedSearchCV(\n",
    "    svm_pipeline,\n",
    "    svm_distributions,\n",
    "    return_train_score=True,\n",
    "    scoring=\"f1_weighted\",\n",
    "    n_jobs=-1,\n",
    "    n_iter=40,\n",
    ")\n",
    "_, svm_randomized_results = run_search(\n",
    "    \"RandomizedSearchCV\", clf, X_train, X_val, y_train, y_val\n",
    ")"
   ]
  },
  {
   "cell_type": "markdown",
   "id": "bb8dbeb3",
   "metadata": {
    "papermill": {
     "duration": 0.012202,
     "end_time": "2025-04-14T18:05:51.917260",
     "exception": false,
     "start_time": "2025-04-14T18:05:51.905058",
     "status": "completed"
    },
    "tags": []
   },
   "source": [
    "#### 1.3 Liczba iteracji metody\n",
    "\n",
    "Liczba iteracji jest równa parametrowi n_iter."
   ]
  },
  {
   "cell_type": "code",
   "execution_count": 12,
   "id": "669c23cc",
   "metadata": {
    "execution": {
     "iopub.execute_input": "2025-04-14T18:05:51.946634Z",
     "iopub.status.busy": "2025-04-14T18:05:51.945589Z",
     "iopub.status.idle": "2025-04-14T18:05:51.951124Z",
     "shell.execute_reply": "2025-04-14T18:05:51.950149Z"
    },
    "papermill": {
     "duration": 0.023138,
     "end_time": "2025-04-14T18:05:51.952784",
     "exception": false,
     "start_time": "2025-04-14T18:05:51.929646",
     "status": "completed"
    },
    "tags": []
   },
   "outputs": [
    {
     "name": "stdout",
     "output_type": "stream",
     "text": [
      "RandomizedSearchCV wykonał 40 pomiarów\n"
     ]
    }
   ],
   "source": [
    "print(f\"RandomizedSearchCV wykonał {rf_randomized_results['Models Tried']} pomiarów\")"
   ]
  },
  {
   "cell_type": "markdown",
   "id": "83fce60f",
   "metadata": {
    "papermill": {
     "duration": 0.014289,
     "end_time": "2025-04-14T18:05:51.981143",
     "exception": false,
     "start_time": "2025-04-14T18:05:51.966854",
     "status": "completed"
    },
    "tags": []
   },
   "source": [
    "## 2. GridSearch"
   ]
  },
  {
   "cell_type": "markdown",
   "id": "1b57a66c",
   "metadata": {
    "papermill": {
     "duration": 0.113149,
     "end_time": "2025-04-14T18:05:52.109514",
     "exception": false,
     "start_time": "2025-04-14T18:05:51.996365",
     "status": "completed"
    },
    "tags": []
   },
   "source": [
    "#### 2.1 Opis działania, możliwości, ograniczenia"
   ]
  },
  {
   "cell_type": "markdown",
   "id": "363db614",
   "metadata": {
    "papermill": {
     "duration": 0.012213,
     "end_time": "2025-04-14T18:05:52.135357",
     "exception": false,
     "start_time": "2025-04-14T18:05:52.123144",
     "status": "completed"
    },
    "tags": []
   },
   "source": [
    "[GridSearch](https://scikit-learn.org/stable/modules/generated/sklearn.model_selection.GridSearchCV.html) przeszukuje wybrane przestrzenie hiperparametrów tworząc iloczyn kartezjański na podanych wartościach hiperparametrów. \n",
    "\n",
    "- Dzięki temu bardzo precyzyjnie możemy oszacować, które wartości nas potencjalnie najbardziej interesują oraz możemy bardzo dokładnie przeszukać przestrzeń hiperaparametrów.\n",
    "- Deterministyczny oraz bardzo dokładny\n",
    "\n",
    "- Bardzo wymagający obliczeniowo, dokonanie tylu eksperymentów ile podano wartości oraz list wartości.\n",
    "- Bardzo wymgający czasowo."
   ]
  },
  {
   "cell_type": "markdown",
   "id": "0b1a5c55",
   "metadata": {
    "papermill": {
     "duration": 0.012476,
     "end_time": "2025-04-14T18:05:52.166239",
     "exception": false,
     "start_time": "2025-04-14T18:05:52.153763",
     "status": "completed"
    },
    "tags": []
   },
   "source": [
    "#### 2.2 Jakość najlepszego modelu oraz czas działania"
   ]
  },
  {
   "cell_type": "code",
   "execution_count": 13,
   "id": "45341d9d",
   "metadata": {
    "execution": {
     "iopub.execute_input": "2025-04-14T18:05:52.198275Z",
     "iopub.status.busy": "2025-04-14T18:05:52.197879Z",
     "iopub.status.idle": "2025-04-14T18:06:48.626539Z",
     "shell.execute_reply": "2025-04-14T18:06:48.625485Z"
    },
    "papermill": {
     "duration": 56.46459,
     "end_time": "2025-04-14T18:06:48.644864",
     "exception": false,
     "start_time": "2025-04-14T18:05:52.180274",
     "status": "completed"
    },
    "tags": []
   },
   "outputs": [
    {
     "name": "stdout",
     "output_type": "stream",
     "text": [
      "Fit...\n"
     ]
    },
    {
     "name": "stdout",
     "output_type": "stream",
     "text": [
      "Predict...\n"
     ]
    }
   ],
   "source": [
    "clf = GridSearchCV(\n",
    "    rf_pipeline,\n",
    "    rf_param_grid,\n",
    "    return_train_score=True,\n",
    "    scoring=\"f1_weighted\",\n",
    "    n_jobs=-1,\n",
    ")\n",
    "_, rf_grid_results = run_search(\"GridSearchCV\", clf, X_train, X_val, y_train, y_val)"
   ]
  },
  {
   "cell_type": "code",
   "execution_count": 14,
   "id": "de66f59c",
   "metadata": {
    "execution": {
     "iopub.execute_input": "2025-04-14T18:06:48.676696Z",
     "iopub.status.busy": "2025-04-14T18:06:48.676077Z",
     "iopub.status.idle": "2025-04-14T18:07:01.820899Z",
     "shell.execute_reply": "2025-04-14T18:07:01.819543Z"
    },
    "papermill": {
     "duration": 13.162434,
     "end_time": "2025-04-14T18:07:01.823047",
     "exception": false,
     "start_time": "2025-04-14T18:06:48.660613",
     "status": "completed"
    },
    "tags": []
   },
   "outputs": [
    {
     "name": "stdout",
     "output_type": "stream",
     "text": [
      "Fit...\n"
     ]
    },
    {
     "name": "stdout",
     "output_type": "stream",
     "text": [
      "Predict...\n"
     ]
    }
   ],
   "source": [
    "clf = GridSearchCV(\n",
    "    svm_pipeline,\n",
    "    svm_param_grid,\n",
    "    return_train_score=True,\n",
    "    scoring=\"f1_weighted\",\n",
    "    n_jobs=-1,\n",
    ")\n",
    "_, svm_grid_results = run_search(\"GridSearchCV\", clf, X_train, X_val, y_train, y_val)"
   ]
  },
  {
   "cell_type": "markdown",
   "id": "1b837bf4",
   "metadata": {
    "papermill": {
     "duration": 0.0128,
     "end_time": "2025-04-14T18:07:01.852096",
     "exception": false,
     "start_time": "2025-04-14T18:07:01.839296",
     "status": "completed"
    },
    "tags": []
   },
   "source": [
    "#### 2.3 Liczba iteracji metody\n",
    "\n",
    "Liczba pomiarów jest równa iloczynowi liczebności każdej z list hiperparametrów"
   ]
  },
  {
   "cell_type": "code",
   "execution_count": 15,
   "id": "98aafdec",
   "metadata": {
    "execution": {
     "iopub.execute_input": "2025-04-14T18:07:01.881227Z",
     "iopub.status.busy": "2025-04-14T18:07:01.880314Z",
     "iopub.status.idle": "2025-04-14T18:07:01.885428Z",
     "shell.execute_reply": "2025-04-14T18:07:01.884494Z"
    },
    "papermill": {
     "duration": 0.020335,
     "end_time": "2025-04-14T18:07:01.886804",
     "exception": false,
     "start_time": "2025-04-14T18:07:01.866469",
     "status": "completed"
    },
    "tags": []
   },
   "outputs": [
    {
     "name": "stdout",
     "output_type": "stream",
     "text": [
      "GridSearchCV wykonał 48 pomiarów\n"
     ]
    }
   ],
   "source": [
    "print(f\"GridSearchCV wykonał {rf_grid_results['Models Tried']} pomiarów\")"
   ]
  },
  {
   "cell_type": "markdown",
   "id": "b04c724c",
   "metadata": {
    "papermill": {
     "duration": 0.014522,
     "end_time": "2025-04-14T18:07:01.916606",
     "exception": false,
     "start_time": "2025-04-14T18:07:01.902084",
     "status": "completed"
    },
    "tags": []
   },
   "source": [
    "## 3. HalvingGridSearch"
   ]
  },
  {
   "cell_type": "markdown",
   "id": "1036cc9f",
   "metadata": {
    "papermill": {
     "duration": 0.014014,
     "end_time": "2025-04-14T18:07:01.945042",
     "exception": false,
     "start_time": "2025-04-14T18:07:01.931028",
     "status": "completed"
    },
    "tags": []
   },
   "source": [
    "#### 3.1 Opis działania, możliwości, ograniczenia"
   ]
  },
  {
   "cell_type": "markdown",
   "id": "3937e55e",
   "metadata": {
    "papermill": {
     "duration": 0.016422,
     "end_time": "2025-04-14T18:07:01.978068",
     "exception": false,
     "start_time": "2025-04-14T18:07:01.961646",
     "status": "completed"
    },
    "tags": []
   },
   "source": [
    "[HalvingGridSearch](https://scikit-learn.org/stable/modules/generated/sklearn.model_selection.HalvingGridSearchCV.html) działa analogicznie do GridSearch'a, lecz optymalizuje swoje działanie poprzez wykonywanie eksperymentów na części danych. Na początku testuje wiele kombinacji na małych próbkach danych, a w kolejnych iteracjach zwiększa ilość danych tylko dla najlepszych kandydatów.\n",
    "\n",
    "- Posida zalety grid searcha dokładnego przeszukania przestrzeni hiperparametrów przy mniejszym nakładzie mocy obliczeniowej oraz krótszym czasie wykonywania.\n",
    "- Utrzymuje dokładność GridSearch przy mniejszych kosztach.\n",
    "\n",
    "- Wadą jest fakt, iż jest to eksperymentalna funkcja sklearn, czyli nie jest ustabilizowana/może się zmieniać.\n",
    "- Wciąż przeszukujemy ogromną liczbę zbiorów hiperparametrów"
   ]
  },
  {
   "cell_type": "markdown",
   "id": "1eb2b9ea",
   "metadata": {
    "papermill": {
     "duration": 0.017615,
     "end_time": "2025-04-14T18:07:02.010897",
     "exception": false,
     "start_time": "2025-04-14T18:07:01.993282",
     "status": "completed"
    },
    "tags": []
   },
   "source": [
    "#### 3.2 Jakość najlepszego modelu oraz czas działania"
   ]
  },
  {
   "cell_type": "code",
   "execution_count": 16,
   "id": "d659bfc5",
   "metadata": {
    "execution": {
     "iopub.execute_input": "2025-04-14T18:07:02.050550Z",
     "iopub.status.busy": "2025-04-14T18:07:02.049681Z",
     "iopub.status.idle": "2025-04-14T18:07:35.716979Z",
     "shell.execute_reply": "2025-04-14T18:07:35.715766Z"
    },
    "papermill": {
     "duration": 33.701008,
     "end_time": "2025-04-14T18:07:35.732177",
     "exception": false,
     "start_time": "2025-04-14T18:07:02.031169",
     "status": "completed"
    },
    "tags": []
   },
   "outputs": [
    {
     "name": "stdout",
     "output_type": "stream",
     "text": [
      "Fit...\n"
     ]
    },
    {
     "name": "stdout",
     "output_type": "stream",
     "text": [
      "Predict...\n"
     ]
    }
   ],
   "source": [
    "clf = HalvingGridSearchCV(\n",
    "    rf_pipeline,\n",
    "    rf_param_grid,\n",
    "    return_train_score=True,\n",
    "    scoring=\"f1_weighted\",\n",
    "    n_jobs=-1,\n",
    ")\n",
    "_, rf_halv_grid_results = run_search(\n",
    "    \"HalvingGridSearchCV\", clf, X_train, X_val, y_train, y_val\n",
    ")"
   ]
  },
  {
   "cell_type": "code",
   "execution_count": 17,
   "id": "4cd508ed",
   "metadata": {
    "execution": {
     "iopub.execute_input": "2025-04-14T18:07:35.763009Z",
     "iopub.status.busy": "2025-04-14T18:07:35.762095Z",
     "iopub.status.idle": "2025-04-14T18:07:41.320735Z",
     "shell.execute_reply": "2025-04-14T18:07:41.319633Z"
    },
    "papermill": {
     "duration": 5.575781,
     "end_time": "2025-04-14T18:07:41.322674",
     "exception": false,
     "start_time": "2025-04-14T18:07:35.746893",
     "status": "completed"
    },
    "tags": []
   },
   "outputs": [
    {
     "name": "stdout",
     "output_type": "stream",
     "text": [
      "Fit...\n"
     ]
    },
    {
     "name": "stdout",
     "output_type": "stream",
     "text": [
      "Predict...\n"
     ]
    }
   ],
   "source": [
    "clf = HalvingGridSearchCV(\n",
    "    svm_pipeline,\n",
    "    svm_param_grid,\n",
    "    return_train_score=True,\n",
    "    scoring=\"f1_weighted\",\n",
    "    n_jobs=-1,\n",
    ")\n",
    "_, svm_halv_grid_results = run_search(\n",
    "    \"HalvingGridSearchCV\", clf, X_train, X_val, y_train, y_val\n",
    ")"
   ]
  },
  {
   "cell_type": "markdown",
   "id": "f3099319",
   "metadata": {
    "papermill": {
     "duration": 0.013826,
     "end_time": "2025-04-14T18:07:41.350602",
     "exception": false,
     "start_time": "2025-04-14T18:07:41.336776",
     "status": "completed"
    },
    "tags": []
   },
   "source": [
    "#### 3.3 Liczba iteracji metody"
   ]
  },
  {
   "cell_type": "code",
   "execution_count": 18,
   "id": "b21a1c9e",
   "metadata": {
    "execution": {
     "iopub.execute_input": "2025-04-14T18:07:41.380646Z",
     "iopub.status.busy": "2025-04-14T18:07:41.380138Z",
     "iopub.status.idle": "2025-04-14T18:07:41.385236Z",
     "shell.execute_reply": "2025-04-14T18:07:41.384200Z"
    },
    "papermill": {
     "duration": 0.022048,
     "end_time": "2025-04-14T18:07:41.386634",
     "exception": false,
     "start_time": "2025-04-14T18:07:41.364586",
     "status": "completed"
    },
    "tags": []
   },
   "outputs": [
    {
     "name": "stdout",
     "output_type": "stream",
     "text": [
      "GridSearchCV wykonał 70 pomiarów\n"
     ]
    }
   ],
   "source": [
    "print(f\"GridSearchCV wykonał {rf_halv_grid_results['Models Tried']} pomiarów\")"
   ]
  },
  {
   "cell_type": "markdown",
   "id": "88e04723",
   "metadata": {
    "papermill": {
     "duration": 0.015384,
     "end_time": "2025-04-14T18:07:41.419272",
     "exception": false,
     "start_time": "2025-04-14T18:07:41.403888",
     "status": "completed"
    },
    "tags": []
   },
   "source": [
    "## 4. HalvingRandomSearch"
   ]
  },
  {
   "cell_type": "markdown",
   "id": "cc8983fb",
   "metadata": {
    "papermill": {
     "duration": 0.015242,
     "end_time": "2025-04-14T18:07:41.449072",
     "exception": false,
     "start_time": "2025-04-14T18:07:41.433830",
     "status": "completed"
    },
    "tags": []
   },
   "source": [
    "#### 4.1 Opis działania, możliwości, ograniczenia"
   ]
  },
  {
   "cell_type": "markdown",
   "id": "1ac784ef",
   "metadata": {
    "papermill": {
     "duration": 0.015917,
     "end_time": "2025-04-14T18:07:41.481156",
     "exception": false,
     "start_time": "2025-04-14T18:07:41.465239",
     "status": "completed"
    },
    "tags": []
   },
   "source": [
    "[HalvingRandomSearch](https://scikit-learn.org/stable/modules/generated/sklearn.model_selection.HalvingRandomSearchCV.html) jest połączeniem HalvingGridSearch oraz RandomSeach. Działa z mechanizmem losowego wyboru hiperparametrów z aspektem odsiewania słabszych i trenowania pozostałych na większej liczbie danych.\n",
    "\n",
    "Najbardziej efektywny czasowo i najmniej wymagający obliczeniowo\n",
    "\n",
    "Ponownie jest eksperymentalną funkcja sklearn oraz tak jak RandomSearch może pominąć najlepsze wartości hiperparametrów"
   ]
  },
  {
   "cell_type": "markdown",
   "id": "38643c5b",
   "metadata": {
    "papermill": {
     "duration": 0.019189,
     "end_time": "2025-04-14T18:07:41.517198",
     "exception": false,
     "start_time": "2025-04-14T18:07:41.498009",
     "status": "completed"
    },
    "tags": []
   },
   "source": [
    "#### 4.2 Jakość najlepszego modelu oraz czas działania"
   ]
  },
  {
   "cell_type": "code",
   "execution_count": 19,
   "id": "7990ece5",
   "metadata": {
    "execution": {
     "iopub.execute_input": "2025-04-14T18:07:41.563631Z",
     "iopub.status.busy": "2025-04-14T18:07:41.562578Z",
     "iopub.status.idle": "2025-04-14T18:08:06.357623Z",
     "shell.execute_reply": "2025-04-14T18:08:06.356152Z"
    },
    "papermill": {
     "duration": 24.820767,
     "end_time": "2025-04-14T18:08:06.359382",
     "exception": false,
     "start_time": "2025-04-14T18:07:41.538615",
     "status": "completed"
    },
    "tags": []
   },
   "outputs": [
    {
     "name": "stdout",
     "output_type": "stream",
     "text": [
      "Fit...\n"
     ]
    },
    {
     "name": "stdout",
     "output_type": "stream",
     "text": [
      "Predict...\n"
     ]
    }
   ],
   "source": [
    "clf = HalvingRandomSearchCV(\n",
    "    rf_pipeline,\n",
    "    rf_param_grid,\n",
    "    return_train_score=True,\n",
    "    scoring=\"f1_weighted\",\n",
    "    n_jobs=-1,\n",
    "    n_candidates=40,\n",
    ")\n",
    "_, rf_halv_rand_grid_results = run_search(\n",
    "    \"HalvingRandomSearchCV\", clf, X_train, X_val, y_train, y_val\n",
    ")"
   ]
  },
  {
   "cell_type": "code",
   "execution_count": 20,
   "id": "c405c6ad",
   "metadata": {
    "execution": {
     "iopub.execute_input": "2025-04-14T18:08:06.390819Z",
     "iopub.status.busy": "2025-04-14T18:08:06.389662Z",
     "iopub.status.idle": "2025-04-14T18:08:11.622208Z",
     "shell.execute_reply": "2025-04-14T18:08:11.620822Z"
    },
    "papermill": {
     "duration": 5.248904,
     "end_time": "2025-04-14T18:08:11.623673",
     "exception": false,
     "start_time": "2025-04-14T18:08:06.374769",
     "status": "completed"
    },
    "tags": []
   },
   "outputs": [
    {
     "name": "stdout",
     "output_type": "stream",
     "text": [
      "Fit...\n"
     ]
    },
    {
     "name": "stderr",
     "output_type": "stream",
     "text": [
      "/usr/local/lib/python3.12/site-packages/sklearn/model_selection/_search.py:317: UserWarning: The total space of parameters 36 is smaller than n_iter=40. Running 36 iterations. For exhaustive searches, use GridSearchCV.\n",
      "  warnings.warn(\n"
     ]
    },
    {
     "name": "stdout",
     "output_type": "stream",
     "text": [
      "Predict...\n"
     ]
    }
   ],
   "source": [
    "clf = HalvingRandomSearchCV(\n",
    "    svm_pipeline,\n",
    "    svm_param_grid,\n",
    "    return_train_score=True,\n",
    "    scoring=\"f1_weighted\",\n",
    "    n_jobs=-1,\n",
    "    n_candidates=40,\n",
    ")\n",
    "_, svm_halv_rand_grid_results = run_search(\n",
    "    \"HalvingRandomSearchCV\", clf, X_train, X_val, y_train, y_val\n",
    ")"
   ]
  },
  {
   "cell_type": "markdown",
   "id": "82b4d4f4",
   "metadata": {
    "papermill": {
     "duration": 0.014248,
     "end_time": "2025-04-14T18:08:11.653071",
     "exception": false,
     "start_time": "2025-04-14T18:08:11.638823",
     "status": "completed"
    },
    "tags": []
   },
   "source": [
    "#### 4.3 Liczba iteracji metody"
   ]
  },
  {
   "cell_type": "code",
   "execution_count": 21,
   "id": "30a54631",
   "metadata": {
    "execution": {
     "iopub.execute_input": "2025-04-14T18:08:11.683057Z",
     "iopub.status.busy": "2025-04-14T18:08:11.682063Z",
     "iopub.status.idle": "2025-04-14T18:08:11.687332Z",
     "shell.execute_reply": "2025-04-14T18:08:11.686432Z"
    },
    "papermill": {
     "duration": 0.022024,
     "end_time": "2025-04-14T18:08:11.688703",
     "exception": false,
     "start_time": "2025-04-14T18:08:11.666679",
     "status": "completed"
    },
    "tags": []
   },
   "outputs": [
    {
     "name": "stdout",
     "output_type": "stream",
     "text": [
      "GridSearchCV wykonał 59 pomiarów\n"
     ]
    }
   ],
   "source": [
    "print(f\"GridSearchCV wykonał {rf_halv_rand_grid_results['Models Tried']} pomiarów\")"
   ]
  },
  {
   "cell_type": "markdown",
   "id": "e9fe3633",
   "metadata": {
    "papermill": {
     "duration": 0.014632,
     "end_time": "2025-04-14T18:08:11.718234",
     "exception": false,
     "start_time": "2025-04-14T18:08:11.703602",
     "status": "completed"
    },
    "tags": []
   },
   "source": [
    "## 5. Podsumowanie"
   ]
  },
  {
   "cell_type": "markdown",
   "id": "3d13b508",
   "metadata": {
    "papermill": {
     "duration": 0.014788,
     "end_time": "2025-04-14T18:08:11.747223",
     "exception": false,
     "start_time": "2025-04-14T18:08:11.732435",
     "status": "completed"
    },
    "tags": []
   },
   "source": [
    "#### 5.1 Porównanie modeli"
   ]
  },
  {
   "cell_type": "code",
   "execution_count": 22,
   "id": "db7ffdad",
   "metadata": {
    "execution": {
     "iopub.execute_input": "2025-04-14T18:08:11.776975Z",
     "iopub.status.busy": "2025-04-14T18:08:11.776454Z",
     "iopub.status.idle": "2025-04-14T18:08:11.782344Z",
     "shell.execute_reply": "2025-04-14T18:08:11.781458Z"
    },
    "papermill": {
     "duration": 0.021844,
     "end_time": "2025-04-14T18:08:11.783715",
     "exception": false,
     "start_time": "2025-04-14T18:08:11.761871",
     "status": "completed"
    },
    "tags": []
   },
   "outputs": [],
   "source": [
    "rf_results = [\n",
    "    rf_randomized_results,\n",
    "    rf_grid_results,\n",
    "    rf_halv_grid_results,\n",
    "    rf_halv_rand_grid_results,\n",
    "]\n",
    "df_rf_results = pd.DataFrame(rf_results)"
   ]
  },
  {
   "cell_type": "code",
   "execution_count": 23,
   "id": "b476ca9d",
   "metadata": {
    "execution": {
     "iopub.execute_input": "2025-04-14T18:08:11.815788Z",
     "iopub.status.busy": "2025-04-14T18:08:11.815173Z",
     "iopub.status.idle": "2025-04-14T18:08:11.821006Z",
     "shell.execute_reply": "2025-04-14T18:08:11.819882Z"
    },
    "papermill": {
     "duration": 0.024067,
     "end_time": "2025-04-14T18:08:11.822616",
     "exception": false,
     "start_time": "2025-04-14T18:08:11.798549",
     "status": "completed"
    },
    "tags": []
   },
   "outputs": [],
   "source": [
    "svm_results = [\n",
    "    svm_randomized_results,\n",
    "    svm_grid_results,\n",
    "    svm_halv_grid_results,\n",
    "    svm_halv_rand_grid_results,\n",
    "]\n",
    "df_svm_results = pd.DataFrame(svm_results)"
   ]
  },
  {
   "cell_type": "code",
   "execution_count": 24,
   "id": "6236559b",
   "metadata": {
    "execution": {
     "iopub.execute_input": "2025-04-14T18:08:11.852709Z",
     "iopub.status.busy": "2025-04-14T18:08:11.852111Z",
     "iopub.status.idle": "2025-04-14T18:08:12.230214Z",
     "shell.execute_reply": "2025-04-14T18:08:12.228331Z"
    },
    "papermill": {
     "duration": 0.39611,
     "end_time": "2025-04-14T18:08:12.233530",
     "exception": false,
     "start_time": "2025-04-14T18:08:11.837420",
     "status": "completed"
    },
    "tags": []
   },
   "outputs": [
    {
     "name": "stderr",
     "output_type": "stream",
     "text": [
      "/usr/local/lib/python3.12/site-packages/seaborn/_base.py:949: FutureWarning: When grouping with a length-1 list-like, you will need to pass a length-1 tuple to get_group in a future version of pandas. Pass `(name,)` instead of `name` to silence this warning.\n",
      "  data_subset = grouped_data.get_group(pd_key)\n",
      "/usr/local/lib/python3.12/site-packages/seaborn/_base.py:949: FutureWarning: When grouping with a length-1 list-like, you will need to pass a length-1 tuple to get_group in a future version of pandas. Pass `(name,)` instead of `name` to silence this warning.\n",
      "  data_subset = grouped_data.get_group(pd_key)\n",
      "/usr/local/lib/python3.12/site-packages/seaborn/_base.py:949: FutureWarning: When grouping with a length-1 list-like, you will need to pass a length-1 tuple to get_group in a future version of pandas. Pass `(name,)` instead of `name` to silence this warning.\n",
      "  data_subset = grouped_data.get_group(pd_key)\n",
      "/usr/local/lib/python3.12/site-packages/seaborn/_base.py:949: FutureWarning: When grouping with a length-1 list-like, you will need to pass a length-1 tuple to get_group in a future version of pandas. Pass `(name,)` instead of `name` to silence this warning.\n",
      "  data_subset = grouped_data.get_group(pd_key)\n"
     ]
    },
    {
     "data": {
      "image/png": "[encoded data removed]",
      "text/plain": [
       "<Figure size 1500x800 with 1 Axes>"
      ]
     },
     "metadata": {},
     "output_type": "display_data"
    }
   ],
   "source": [
    "plt.figure(figsize=(15, 8))\n",
    "metrics_to_plot = [\n",
    "    \"Best f1_weighted (CV)\",\n",
    "    \"Accuracy\",\n",
    "    \"Precision\",\n",
    "    \"Recall\",\n",
    "    \"F1 (weighted)\",\n",
    "]\n",
    "df_melted = df_rf_results.melt(\n",
    "    id_vars=\"Method\", value_vars=metrics_to_plot, var_name=\"Metric\", value_name=\"Score\"\n",
    ")\n",
    "\n",
    "sns.barplot(data=df_melted, x=\"Metric\", y=\"Score\", hue=\"Method\")\n",
    "plt.title(\"Porównanie metryk jakości modeli\")\n",
    "plt.xticks(rotation=45)\n",
    "plt.legend(title=\"Metoda\")\n",
    "plt.tight_layout()\n",
    "plt.show()"
   ]
  },
  {
   "cell_type": "code",
   "execution_count": 25,
   "id": "c1afaa7c",
   "metadata": {
    "execution": {
     "iopub.execute_input": "2025-04-14T18:08:12.288892Z",
     "iopub.status.busy": "2025-04-14T18:08:12.287575Z",
     "iopub.status.idle": "2025-04-14T18:08:12.550922Z",
     "shell.execute_reply": "2025-04-14T18:08:12.549706Z"
    },
    "papermill": {
     "duration": 0.292561,
     "end_time": "2025-04-14T18:08:12.552571",
     "exception": false,
     "start_time": "2025-04-14T18:08:12.260010",
     "status": "completed"
    },
    "tags": []
   },
   "outputs": [
    {
     "name": "stderr",
     "output_type": "stream",
     "text": [
      "/usr/local/lib/python3.12/site-packages/seaborn/_base.py:949: FutureWarning: When grouping with a length-1 list-like, you will need to pass a length-1 tuple to get_group in a future version of pandas. Pass `(name,)` instead of `name` to silence this warning.\n",
      "  data_subset = grouped_data.get_group(pd_key)\n",
      "/usr/local/lib/python3.12/site-packages/seaborn/_base.py:949: FutureWarning: When grouping with a length-1 list-like, you will need to pass a length-1 tuple to get_group in a future version of pandas. Pass `(name,)` instead of `name` to silence this warning.\n",
      "  data_subset = grouped_data.get_group(pd_key)\n",
      "/usr/local/lib/python3.12/site-packages/seaborn/_base.py:949: FutureWarning: When grouping with a length-1 list-like, you will need to pass a length-1 tuple to get_group in a future version of pandas. Pass `(name,)` instead of `name` to silence this warning.\n",
      "  data_subset = grouped_data.get_group(pd_key)\n",
      "/usr/local/lib/python3.12/site-packages/seaborn/_base.py:949: FutureWarning: When grouping with a length-1 list-like, you will need to pass a length-1 tuple to get_group in a future version of pandas. Pass `(name,)` instead of `name` to silence this warning.\n",
      "  data_subset = grouped_data.get_group(pd_key)\n"
     ]
    },
    {
     "data": {
      "image/png": "[encoded data removed]",
      "text/plain": [
       "<Figure size 1000x600 with 1 Axes>"
      ]
     },
     "metadata": {},
     "output_type": "display_data"
    }
   ],
   "source": [
    "plt.figure(figsize=(10, 6))\n",
    "sns.barplot(data=df_rf_results, x=\"Method\", y=\"Time (s)\", palette=\"muted\", hue=\"Method\")\n",
    "plt.title(\"Czas działania dla każdej metody\")\n",
    "plt.ylabel(\"Czas (s)\")\n",
    "plt.xticks(rotation=15)\n",
    "plt.tight_layout()\n",
    "plt.show()"
   ]
  },
  {
   "cell_type": "code",
   "execution_count": 26,
   "id": "4dd3df5e",
   "metadata": {
    "execution": {
     "iopub.execute_input": "2025-04-14T18:08:12.588003Z",
     "iopub.status.busy": "2025-04-14T18:08:12.586885Z",
     "iopub.status.idle": "2025-04-14T18:08:12.593607Z",
     "shell.execute_reply": "2025-04-14T18:08:12.592412Z"
    },
    "papermill": {
     "duration": 0.026209,
     "end_time": "2025-04-14T18:08:12.595008",
     "exception": false,
     "start_time": "2025-04-14T18:08:12.568799",
     "status": "completed"
    },
    "tags": []
   },
   "outputs": [],
   "source": [
    "df_rf_results[\"Time per Model\"] = (\n",
    "    df_rf_results[\"Time (s)\"] / df_rf_results[\"Models Tried\"]\n",
    ")"
   ]
  },
  {
   "cell_type": "code",
   "execution_count": 27,
   "id": "ae0a682a",
   "metadata": {
    "execution": {
     "iopub.execute_input": "2025-04-14T18:08:12.632207Z",
     "iopub.status.busy": "2025-04-14T18:08:12.631767Z",
     "iopub.status.idle": "2025-04-14T18:08:12.940038Z",
     "shell.execute_reply": "2025-04-14T18:08:12.937894Z"
    },
    "papermill": {
     "duration": 0.329679,
     "end_time": "2025-04-14T18:08:12.942836",
     "exception": false,
     "start_time": "2025-04-14T18:08:12.613157",
     "status": "completed"
    },
    "tags": []
   },
   "outputs": [
    {
     "name": "stderr",
     "output_type": "stream",
     "text": [
      "/usr/local/lib/python3.12/site-packages/seaborn/_base.py:949: FutureWarning: When grouping with a length-1 list-like, you will need to pass a length-1 tuple to get_group in a future version of pandas. Pass `(name,)` instead of `name` to silence this warning.\n",
      "  data_subset = grouped_data.get_group(pd_key)\n",
      "/usr/local/lib/python3.12/site-packages/seaborn/_base.py:949: FutureWarning: When grouping with a length-1 list-like, you will need to pass a length-1 tuple to get_group in a future version of pandas. Pass `(name,)` instead of `name` to silence this warning.\n",
      "  data_subset = grouped_data.get_group(pd_key)\n",
      "/usr/local/lib/python3.12/site-packages/seaborn/_base.py:949: FutureWarning: When grouping with a length-1 list-like, you will need to pass a length-1 tuple to get_group in a future version of pandas. Pass `(name,)` instead of `name` to silence this warning.\n",
      "  data_subset = grouped_data.get_group(pd_key)\n",
      "/usr/local/lib/python3.12/site-packages/seaborn/_base.py:949: FutureWarning: When grouping with a length-1 list-like, you will need to pass a length-1 tuple to get_group in a future version of pandas. Pass `(name,)` instead of `name` to silence this warning.\n",
      "  data_subset = grouped_data.get_group(pd_key)\n"
     ]
    },
    {
     "data": {
      "image/png": "[encoded data removed]",
      "text/plain": [
       "<Figure size 1000x600 with 1 Axes>"
      ]
     },
     "metadata": {},
     "output_type": "display_data"
    }
   ],
   "source": [
    "plt.figure(figsize=(10, 6))\n",
    "sns.barplot(\n",
    "    data=df_rf_results,\n",
    "    x=\"Method\",\n",
    "    y=\"Time per Model\",\n",
    "    hue=\"Method\",\n",
    "    palette=\"viridis\",\n",
    "    legend=False,\n",
    ")\n",
    "plt.title(\"Średni czas trenowania pojedynczego modelu\")\n",
    "plt.ylabel(\"Czas (s) na model\")\n",
    "plt.xticks(rotation=15)\n",
    "plt.tight_layout()\n",
    "plt.show()"
   ]
  },
  {
   "cell_type": "code",
   "execution_count": 28,
   "id": "7f3bbc11",
   "metadata": {
    "execution": {
     "iopub.execute_input": "2025-04-14T18:08:12.995215Z",
     "iopub.status.busy": "2025-04-14T18:08:12.994176Z",
     "iopub.status.idle": "2025-04-14T18:08:13.008987Z",
     "shell.execute_reply": "2025-04-14T18:08:13.007314Z"
    },
    "papermill": {
     "duration": 0.042863,
     "end_time": "2025-04-14T18:08:13.011702",
     "exception": false,
     "start_time": "2025-04-14T18:08:12.968839",
     "status": "completed"
    },
    "tags": []
   },
   "outputs": [],
   "source": [
    "rf_max_index = df_rf_results[\"Best f1_weighted (CV)\"].idxmax()\n",
    "svm_max_index = df_svm_results[\"Best f1_weighted (CV)\"].idxmax()\n",
    "rf_best_params = df_rf_results[\"Best Params\"][rf_max_index]\n",
    "svm_best_params = df_svm_results[\"Best Params\"][svm_max_index]\n",
    "best_params = {\n",
    "    \"RandomForest\": rf_best_params,\n",
    "    \"SVM\": svm_best_params,\n",
    "}\n",
    "\n",
    "with open(f\"data/models/{dataset_name}/best_params.json\", \"w\") as f:\n",
    "    json.dump(best_params, f)"
   ]
  },
  {
   "cell_type": "markdown",
   "id": "e40539ea",
   "metadata": {
    "papermill": {
     "duration": 0.021545,
     "end_time": "2025-04-14T18:08:13.056990",
     "exception": false,
     "start_time": "2025-04-14T18:08:13.035445",
     "status": "completed"
    },
    "tags": []
   },
   "source": [
    "#### 5.2 Porównanie wyników\n",
    "\n",
    "Najlepsze wyniki osiągnął model Randomized Search\n",
    "\n",
    "Model trenował się najwięcej czasu oraz posiada najgorszą metrykę względem czasu/model\n",
    "\n",
    "Pozostałe metody osiągnęły bardzo podobne wyniki, lecz różniły je czasy wykonywania.\n",
    "\n",
    "Zakładająć, iż wyniki bybły nieznacznie podobne kolejny model z najlepszymi wynikami posiada HalvingRandomSearch ze względu na definitywnie najkrótszy czas działania."
   ]
  },
  {
   "cell_type": "markdown",
   "id": "2d565a21",
   "metadata": {
    "papermill": {
     "duration": 0.020641,
     "end_time": "2025-04-14T18:08:13.096214",
     "exception": false,
     "start_time": "2025-04-14T18:08:13.075573",
     "status": "completed"
    },
    "tags": []
   },
   "source": [
    "#### 5.3 Wybrów i uzasadnienie"
   ]
  },
  {
   "cell_type": "markdown",
   "id": "d4c17b35",
   "metadata": {
    "papermill": {
     "duration": 0.021441,
     "end_time": "2025-04-14T18:08:13.138075",
     "exception": false,
     "start_time": "2025-04-14T18:08:13.116634",
     "status": "completed"
    },
    "tags": []
   },
   "source": [
    "Nie ma jednego dobrego wyjścia, są one bardzo zależne od naszych potrzeb i kompetencji.\n",
    "\n",
    "Najlepszą opcją, gdy potrzebujemy szybko znaleźć \"dobry\" model jest zdecydowanie HalvingRandomSearch ze względu na akceptowalne wyniki w zaskakująco krótkim czasie. (Dobre wyniki, szybkie działanie).\n",
    "\n",
    "Najlepszym wyborem, gdy znamy dokładnie model, dane oraz posiadamy dużą wiedzę dziedzinową i intuicję jest GridSearch ze względu na możliwość dokładnego zbadania wielu hiperparametrów dla naszej hipotezy. (Najlepszy wynik, najdłużej się wykonuje).\n",
    "\n",
    "Najlepszym wyborem, gdy nie do końca znamy potencjalne hiperparametry oraz nie zależy nam na czasie jest RandomizedSearch dzięki któremu w sposób losowy możemy osiąganąć dobre wyniki dla modelu oraz samemu zdecydować ilu iteracji potrzebujemy.\n",
    "\n",
    "Dla mnie, jako studenta bez silnej intuicji odnośnie nieznanych klasyfikatorów i dla nieznanyc zbiorów danych najlepszą opcją byłby HalvingRandomSearch, ponieważ umożliwiłby mi w szybki sposób zrozumieć dla jakich mniej więcej parametrów model działałby dobrze."
   ]
  }
 ],
 "metadata": {
  "kernelspec": {
   "display_name": ".venv",
   "language": "python",
   "name": "python3"
  },
  "language_info": {
   "codemirror_mode": {
    "name": "ipython",
    "version": 3
   },
   "file_extension": ".py",
   "mimetype": "text/x-python",
   "name": "python",
   "nbconvert_exporter": "python",
   "pygments_lexer": "ipython3",
   "version": "3.12.10"
  },
  "papermill": {
   "default_parameters": {},
   "duration": 213.566485,
   "end_time": "2025-04-14T18:08:15.784134",
   "environment_variables": {},
   "exception": null,
   "input_path": "notebooks/eval_hyperparameters.ipynb",
   "output_path": "data/notebooks/sephora/eval_hyperparameters.ipynb",
   "parameters": {
    "dataset_name": "sephora"
   },
   "start_time": "2025-04-14T18:04:42.217649",
   "version": "2.6.0"
  }
 },
 "nbformat": 4,
 "nbformat_minor": 5
}