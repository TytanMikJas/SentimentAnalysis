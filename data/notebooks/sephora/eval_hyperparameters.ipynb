{
 "cells": [
  {
   "cell_type": "markdown",
   "id": "91a70fe3",
   "metadata": {
    "papermill": {
     "duration": 0.025502,
     "end_time": "2025-04-14T21:02:04.814969",
     "exception": false,
     "start_time": "2025-04-14T21:02:04.789467",
     "status": "completed"
    },
    "tags": []
   },
   "source": [
    "## 0. Inicjalizacja"
   ]
  },
  {
   "cell_type": "markdown",
   "id": "b7d37191",
   "metadata": {
    "papermill": {
     "duration": 0.022692,
     "end_time": "2025-04-14T21:02:04.862019",
     "exception": false,
     "start_time": "2025-04-14T21:02:04.839327",
     "status": "completed"
    },
    "tags": []
   },
   "source": [
    "#### 0.1 Import"
   ]
  },
  {
   "cell_type": "code",
   "execution_count": 1,
   "id": "b8f7c39b",
   "metadata": {
    "execution": {
     "iopub.execute_input": "2025-04-14T21:02:04.913200Z",
     "iopub.status.busy": "2025-04-14T21:02:04.911220Z",
     "iopub.status.idle": "2025-04-14T21:02:08.918953Z",
     "shell.execute_reply": "2025-04-14T21:02:08.917978Z"
    },
    "papermill": {
     "duration": 4.034628,
     "end_time": "2025-04-14T21:02:08.921080",
     "exception": false,
     "start_time": "2025-04-14T21:02:04.886452",
     "status": "completed"
    },
    "tags": []
   },
   "outputs": [],
   "source": [
    "import pandas as pd\n",
    "import os\n",
    "import sys\n",
    "import yaml\n",
    "import matplotlib.pyplot as plt\n",
    "import seaborn as sns\n",
    "from sklearn.ensemble import RandomForestClassifier\n",
    "from sklearn.svm import SVC\n",
    "from sklearn.experimental import enable_halving_search_cv\n",
    "from scipy.stats import uniform\n",
    "from sklearn.model_selection import (\n",
    "    GridSearchCV,\n",
    "    RandomizedSearchCV,\n",
    "    HalvingGridSearchCV,\n",
    "    HalvingRandomSearchCV,\n",
    "    train_test_split,\n",
    ")\n",
    "from time import time\n",
    "from scipy.stats import randint\n",
    "from sklearn.metrics import f1_score\n",
    "from sklearn.metrics import accuracy_score, precision_score, recall_score, f1_score\n",
    "import json\n",
    "\n",
    "sys.path.append(os.path.abspath(\"../../\"))\n",
    "from src.utils import load_train_test_data, get_params, SEPHORA_DATASET\n",
    "from src.pipeline import build_pipeline"
   ]
  },
  {
   "cell_type": "markdown",
   "id": "9b0f6b29",
   "metadata": {
    "papermill": {
     "duration": 0.015036,
     "end_time": "2025-04-14T21:02:08.948446",
     "exception": false,
     "start_time": "2025-04-14T21:02:08.933410",
     "status": "completed"
    },
    "tags": []
   },
   "source": [
    "#### 0.2 Parametry oraz Dataset"
   ]
  },
  {
   "cell_type": "code",
   "execution_count": 2,
   "id": "77630f1f",
   "metadata": {
    "execution": {
     "iopub.execute_input": "2025-04-14T21:02:08.976140Z",
     "iopub.status.busy": "2025-04-14T21:02:08.975191Z",
     "iopub.status.idle": "2025-04-14T21:02:08.981273Z",
     "shell.execute_reply": "2025-04-14T21:02:08.980291Z"
    },
    "papermill": {
     "duration": 0.021774,
     "end_time": "2025-04-14T21:02:08.983117",
     "exception": false,
     "start_time": "2025-04-14T21:02:08.961343",
     "status": "completed"
    },
    "tags": [
     "parameters"
    ]
   },
   "outputs": [],
   "source": [
    "dataset_name = \"sephora\""
   ]
  },
  {
   "cell_type": "code",
   "execution_count": 3,
   "id": "2b42c226",
   "metadata": {
    "execution": {
     "iopub.execute_input": "2025-04-14T21:02:09.015055Z",
     "iopub.status.busy": "2025-04-14T21:02:09.014342Z",
     "iopub.status.idle": "2025-04-14T21:02:09.019585Z",
     "shell.execute_reply": "2025-04-14T21:02:09.018422Z"
    },
    "papermill": {
     "duration": 0.022772,
     "end_time": "2025-04-14T21:02:09.020809",
     "exception": false,
     "start_time": "2025-04-14T21:02:08.998037",
     "status": "completed"
    },
    "tags": [
     "injected-parameters"
    ]
   },
   "outputs": [],
   "source": [
    "# Parameters\n",
    "dataset_name = \"sephora\"\n"
   ]
  },
  {
   "cell_type": "code",
   "execution_count": 4,
   "id": "28477f4f",
   "metadata": {
    "execution": {
     "iopub.execute_input": "2025-04-14T21:02:09.055914Z",
     "iopub.status.busy": "2025-04-14T21:02:09.054721Z",
     "iopub.status.idle": "2025-04-14T21:02:09.077942Z",
     "shell.execute_reply": "2025-04-14T21:02:09.076112Z"
    },
    "papermill": {
     "duration": 0.043282,
     "end_time": "2025-04-14T21:02:09.079587",
     "exception": false,
     "start_time": "2025-04-14T21:02:09.036305",
     "status": "completed"
    },
    "tags": []
   },
   "outputs": [],
   "source": [
    "common_params, custom_params = get_params(dataset_name)"
   ]
  },
  {
   "cell_type": "code",
   "execution_count": 5,
   "id": "61661d76",
   "metadata": {
    "execution": {
     "iopub.execute_input": "2025-04-14T21:02:09.113540Z",
     "iopub.status.busy": "2025-04-14T21:02:09.111682Z",
     "iopub.status.idle": "2025-04-14T21:02:09.953027Z",
     "shell.execute_reply": "2025-04-14T21:02:09.944240Z"
    },
    "papermill": {
     "duration": 0.861175,
     "end_time": "2025-04-14T21:02:09.955655",
     "exception": false,
     "start_time": "2025-04-14T21:02:09.094480",
     "status": "completed"
    },
    "tags": []
   },
   "outputs": [
    {
     "name": "stderr",
     "output_type": "stream",
     "text": [
      "2025-04-14 21:02:09 - INFO - Loading train and test data\n"
     ]
    }
   ],
   "source": [
    "training_data, _ = load_train_test_data(\"data/train_test_data\", dataset_name)\n",
    "training_data = training_data[custom_params[\"pipeline\"][\"selected\"]]\n",
    "training_data = training_data[0:1_000]\n",
    "X_train, X_val, y_train, y_val = train_test_split(\n",
    "    training_data.drop(columns=[custom_params[\"features\"][\"label\"]], axis=1),\n",
    "    training_data[custom_params[\"features\"][\"label\"]],\n",
    "    test_size=0.2,\n",
    "    random_state=1\n",
    ")"
   ]
  },
  {
   "cell_type": "markdown",
   "id": "ab11c55c",
   "metadata": {
    "papermill": {
     "duration": 0.019272,
     "end_time": "2025-04-14T21:02:09.998822",
     "exception": false,
     "start_time": "2025-04-14T21:02:09.979550",
     "status": "completed"
    },
    "tags": []
   },
   "source": [
    "#### 0.3 Pipeline"
   ]
  },
  {
   "cell_type": "code",
   "execution_count": 6,
   "id": "8c195d58",
   "metadata": {
    "execution": {
     "iopub.execute_input": "2025-04-14T21:02:10.035784Z",
     "iopub.status.busy": "2025-04-14T21:02:10.034402Z",
     "iopub.status.idle": "2025-04-14T21:02:10.043597Z",
     "shell.execute_reply": "2025-04-14T21:02:10.041190Z"
    },
    "papermill": {
     "duration": 0.031974,
     "end_time": "2025-04-14T21:02:10.046630",
     "exception": false,
     "start_time": "2025-04-14T21:02:10.014656",
     "status": "completed"
    },
    "tags": []
   },
   "outputs": [],
   "source": [
    "rf_pipeline = build_pipeline(\n",
    "    custom_params, dataset_name, \"all\", RandomForestClassifier(n_jobs=-1, random_state=1)\n",
    ")\n",
    "svm_pipeline = build_pipeline(custom_params, dataset_name, \"all\", SVC(random_state=1))"
   ]
  },
  {
   "cell_type": "markdown",
   "id": "46b6b6c5",
   "metadata": {
    "papermill": {
     "duration": 0.020235,
     "end_time": "2025-04-14T21:02:10.082347",
     "exception": false,
     "start_time": "2025-04-14T21:02:10.062112",
     "status": "completed"
    },
    "tags": []
   },
   "source": [
    "#### 0.4 Funkcja do eksperymentów"
   ]
  },
  {
   "cell_type": "code",
   "execution_count": 7,
   "id": "571dd937",
   "metadata": {
    "execution": {
     "iopub.execute_input": "2025-04-14T21:02:10.124725Z",
     "iopub.status.busy": "2025-04-14T21:02:10.123755Z",
     "iopub.status.idle": "2025-04-14T21:02:10.135147Z",
     "shell.execute_reply": "2025-04-14T21:02:10.133334Z"
    },
    "papermill": {
     "duration": 0.036537,
     "end_time": "2025-04-14T21:02:10.137512",
     "exception": false,
     "start_time": "2025-04-14T21:02:10.100975",
     "status": "completed"
    },
    "tags": []
   },
   "outputs": [],
   "source": [
    "def run_search(name, searcher, X_train, X_val, y_train, y_val):\n",
    "    print(\"Fit...\")\n",
    "    start = time()\n",
    "    searcher.fit(X_train, y_train)\n",
    "    end = time()\n",
    "\n",
    "    elapsed = end - start\n",
    "    best_model = searcher.best_estimator_\n",
    "    n_models = len(searcher.cv_results_[\"mean_test_score\"])\n",
    "    best_params = searcher.best_params_\n",
    "    best_score = searcher.best_score_\n",
    "\n",
    "    print(\"Predict...\")\n",
    "    y_pred = best_model.predict(X_val)\n",
    "\n",
    "    results = {\n",
    "        \"Method\": name,\n",
    "        \"Best f1_weighted (CV)\": best_score,\n",
    "        \"Accuracy\": accuracy_score(y_val, y_pred),\n",
    "        \"Precision\": precision_score(\n",
    "            y_val, y_pred, average=\"weighted\", zero_division=0\n",
    "        ),\n",
    "        \"Recall\": recall_score(y_val, y_pred, average=\"weighted\", zero_division=0),\n",
    "        \"F1 (weighted)\": f1_score(y_val, y_pred, average=\"weighted\", zero_division=0),\n",
    "        \"Time (s)\": elapsed,\n",
    "        \"Models Tried\": n_models,\n",
    "        \"Best Params\": best_params,\n",
    "        \"Best Estimator\": best_model,\n",
    "    }\n",
    "\n",
    "    return searcher, results"
   ]
  },
  {
   "cell_type": "markdown",
   "id": "384e9f9a",
   "metadata": {
    "papermill": {
     "duration": 0.021003,
     "end_time": "2025-04-14T21:02:10.176432",
     "exception": false,
     "start_time": "2025-04-14T21:02:10.155429",
     "status": "completed"
    },
    "tags": []
   },
   "source": [
    "#### 0.5 Parametry do eksperymentów"
   ]
  },
  {
   "cell_type": "code",
   "execution_count": 8,
   "id": "0091c4ea",
   "metadata": {
    "execution": {
     "iopub.execute_input": "2025-04-14T21:02:10.220685Z",
     "iopub.status.busy": "2025-04-14T21:02:10.219734Z",
     "iopub.status.idle": "2025-04-14T21:02:10.232732Z",
     "shell.execute_reply": "2025-04-14T21:02:10.230572Z"
    },
    "papermill": {
     "duration": 0.036269,
     "end_time": "2025-04-14T21:02:10.235674",
     "exception": false,
     "start_time": "2025-04-14T21:02:10.199405",
     "status": "completed"
    },
    "tags": []
   },
   "outputs": [],
   "source": [
    "rf_distributions = {\n",
    "    \"classifier__n_estimators\": randint(30, 60),\n",
    "    \"classifier__max_depth\": randint(10, 50),\n",
    "    \"classifier__criterion\": [\"gini\", \"entropy\"],\n",
    "    \"classifier__min_samples_leaf\": randint(1, 7),\n",
    "    \"classifier__max_features\": [\"sqrt\", None],\n",
    "}\n",
    "\n",
    "svm_distributions = {\n",
    "    \"classifier__C\": uniform(0.5, 1.5),\n",
    "    \"classifier__kernel\": [\"linear\", \"rbf\", \"poly\"],\n",
    "    \"classifier__degree\": [2, 3],\n",
    "    \"classifier__gamma\": [\"scale\", \"auto\"],\n",
    "}"
   ]
  },
  {
   "cell_type": "code",
   "execution_count": 9,
   "id": "57607047",
   "metadata": {
    "execution": {
     "iopub.execute_input": "2025-04-14T21:02:10.275978Z",
     "iopub.status.busy": "2025-04-14T21:02:10.275060Z",
     "iopub.status.idle": "2025-04-14T21:02:10.284510Z",
     "shell.execute_reply": "2025-04-14T21:02:10.282964Z"
    },
    "papermill": {
     "duration": 0.032549,
     "end_time": "2025-04-14T21:02:10.286852",
     "exception": false,
     "start_time": "2025-04-14T21:02:10.254303",
     "status": "completed"
    },
    "tags": []
   },
   "outputs": [],
   "source": [
    "rf_param_grid = {\n",
    "    \"classifier__n_estimators\": [30, 60],\n",
    "    \"classifier__max_depth\": [10, 30, 50],\n",
    "    \"classifier__criterion\": [\"gini\", \"entropy\"],\n",
    "    \"classifier__min_samples_leaf\": [1, 5],\n",
    "    \"classifier__max_features\": [\"sqrt\", None],\n",
    "}\n",
    "\n",
    "svm_param_grid = {\n",
    "    \"classifier__C\": [0.8, 1, 1.5],\n",
    "    \"classifier__kernel\": [\"linear\", \"rbf\", \"poly\"],\n",
    "    \"classifier__degree\": [2, 3],\n",
    "    \"classifier__gamma\": [\"scale\", \"auto\"],\n",
    "}"
   ]
  },
  {
   "cell_type": "markdown",
   "id": "79d47d9d",
   "metadata": {
    "papermill": {
     "duration": 0.013306,
     "end_time": "2025-04-14T21:02:10.314509",
     "exception": false,
     "start_time": "2025-04-14T21:02:10.301203",
     "status": "completed"
    },
    "tags": []
   },
   "source": [
    "## 1. RandomSearch"
   ]
  },
  {
   "cell_type": "markdown",
   "id": "a2b6f128",
   "metadata": {
    "papermill": {
     "duration": 0.014495,
     "end_time": "2025-04-14T21:02:10.343718",
     "exception": false,
     "start_time": "2025-04-14T21:02:10.329223",
     "status": "completed"
    },
    "tags": []
   },
   "source": [
    "#### 1.1 Opis działania, możliwości, ograniczenia"
   ]
  },
  {
   "cell_type": "markdown",
   "id": "545ec683",
   "metadata": {
    "papermill": {
     "duration": 0.01374,
     "end_time": "2025-04-14T21:02:10.370589",
     "exception": false,
     "start_time": "2025-04-14T21:02:10.356849",
     "status": "completed"
    },
    "tags": []
   },
   "source": [
    "**[RandomizedSearch](https://scikit-learn.org/stable/modules/generated/sklearn.model_selection.RandomizedSearchCV.html)** losowo wybiera kombinacje hiperparametrów z podanego rozkładu lub listy wartości. Można ustawić liczbę iteracji, co pozwala kontrolować czas trwania wyszukiwania.\n",
    "\n",
    "- Dzięki losowości jest szybszy od GridSearch, lecz przeszukuje mniejszą przestrzeń hiperparametrów.\n",
    "Może wciąż znaleźć bardzo dobre parametry przy mniejszej złożoności obliczeniowej\n",
    "\n",
    "- Wynik zależy od losowości, ponieważ może pominąć najlepsze hiperparametry.\n",
    "- Wyniki mogą się różnić przy wielu próbach uruchomienia przez losowość"
   ]
  },
  {
   "cell_type": "markdown",
   "id": "98a489b3",
   "metadata": {
    "papermill": {
     "duration": 0.014351,
     "end_time": "2025-04-14T21:02:10.399565",
     "exception": false,
     "start_time": "2025-04-14T21:02:10.385214",
     "status": "completed"
    },
    "tags": []
   },
   "source": [
    "#### 1.2 Jakość najlepszego modelu oraz czas działania"
   ]
  },
  {
   "cell_type": "code",
   "execution_count": 10,
   "id": "164e1688",
   "metadata": {
    "execution": {
     "iopub.execute_input": "2025-04-14T21:02:10.431613Z",
     "iopub.status.busy": "2025-04-14T21:02:10.430619Z",
     "iopub.status.idle": "2025-04-14T21:02:59.913135Z",
     "shell.execute_reply": "2025-04-14T21:02:59.911499Z"
    },
    "papermill": {
     "duration": 49.517772,
     "end_time": "2025-04-14T21:02:59.932347",
     "exception": false,
     "start_time": "2025-04-14T21:02:10.414575",
     "status": "completed"
    },
    "tags": []
   },
   "outputs": [
    {
     "name": "stdout",
     "output_type": "stream",
     "text": [
      "Fit...\n"
     ]
    },
    {
     "name": "stdout",
     "output_type": "stream",
     "text": [
      "Predict...\n"
     ]
    }
   ],
   "source": [
    "clf = RandomizedSearchCV(\n",
    "    rf_pipeline,\n",
    "    rf_distributions,\n",
    "    return_train_score=True,\n",
    "    scoring=\"f1_weighted\",\n",
    "    n_jobs=-1,\n",
    "    n_iter=40,\n",
    ")\n",
    "_, rf_randomized_results = run_search(\n",
    "    \"RandomizedSearchCV\", clf, X_train, X_val, y_train, y_val\n",
    ")"
   ]
  },
  {
   "cell_type": "code",
   "execution_count": 11,
   "id": "898b5dbb",
   "metadata": {
    "execution": {
     "iopub.execute_input": "2025-04-14T21:02:59.963558Z",
     "iopub.status.busy": "2025-04-14T21:02:59.962758Z",
     "iopub.status.idle": "2025-04-14T21:03:14.080049Z",
     "shell.execute_reply": "2025-04-14T21:03:14.078923Z"
    },
    "papermill": {
     "duration": 14.133927,
     "end_time": "2025-04-14T21:03:14.081363",
     "exception": false,
     "start_time": "2025-04-14T21:02:59.947436",
     "status": "completed"
    },
    "tags": []
   },
   "outputs": [
    {
     "name": "stdout",
     "output_type": "stream",
     "text": [
      "Fit...\n"
     ]
    },
    {
     "name": "stdout",
     "output_type": "stream",
     "text": [
      "Predict...\n"
     ]
    }
   ],
   "source": [
    "clf = RandomizedSearchCV(\n",
    "    svm_pipeline,\n",
    "    svm_distributions,\n",
    "    return_train_score=True,\n",
    "    scoring=\"f1_weighted\",\n",
    "    n_jobs=-1,\n",
    "    n_iter=40,\n",
    ")\n",
    "_, svm_randomized_results = run_search(\n",
    "    \"RandomizedSearchCV\", clf, X_train, X_val, y_train, y_val\n",
    ")"
   ]
  },
  {
   "cell_type": "markdown",
   "id": "bb8dbeb3",
   "metadata": {
    "papermill": {
     "duration": 0.012458,
     "end_time": "2025-04-14T21:03:14.108321",
     "exception": false,
     "start_time": "2025-04-14T21:03:14.095863",
     "status": "completed"
    },
    "tags": []
   },
   "source": [
    "#### 1.3 Liczba iteracji metody\n",
    "\n",
    "Liczba iteracji jest równa parametrowi n_iter."
   ]
  },
  {
   "cell_type": "code",
   "execution_count": 12,
   "id": "669c23cc",
   "metadata": {
    "execution": {
     "iopub.execute_input": "2025-04-14T21:03:14.134781Z",
     "iopub.status.busy": "2025-04-14T21:03:14.134248Z",
     "iopub.status.idle": "2025-04-14T21:03:14.139375Z",
     "shell.execute_reply": "2025-04-14T21:03:14.138353Z"
    },
    "papermill": {
     "duration": 0.020975,
     "end_time": "2025-04-14T21:03:14.140931",
     "exception": false,
     "start_time": "2025-04-14T21:03:14.119956",
     "status": "completed"
    },
    "tags": []
   },
   "outputs": [
    {
     "name": "stdout",
     "output_type": "stream",
     "text": [
      "RandomizedSearchCV wykonał 40 pomiarów\n"
     ]
    }
   ],
   "source": [
    "print(f\"RandomizedSearchCV wykonał {rf_randomized_results['Models Tried']} pomiarów\")"
   ]
  },
  {
   "cell_type": "markdown",
   "id": "83fce60f",
   "metadata": {
    "papermill": {
     "duration": 0.013635,
     "end_time": "2025-04-14T21:03:14.166650",
     "exception": false,
     "start_time": "2025-04-14T21:03:14.153015",
     "status": "completed"
    },
    "tags": []
   },
   "source": [
    "## 2. GridSearch"
   ]
  },
  {
   "cell_type": "markdown",
   "id": "1b57a66c",
   "metadata": {
    "papermill": {
     "duration": 0.081903,
     "end_time": "2025-04-14T21:03:14.263402",
     "exception": false,
     "start_time": "2025-04-14T21:03:14.181499",
     "status": "completed"
    },
    "tags": []
   },
   "source": [
    "#### 2.1 Opis działania, możliwości, ograniczenia"
   ]
  },
  {
   "cell_type": "markdown",
   "id": "363db614",
   "metadata": {
    "papermill": {
     "duration": 0.013257,
     "end_time": "2025-04-14T21:03:14.293461",
     "exception": false,
     "start_time": "2025-04-14T21:03:14.280204",
     "status": "completed"
    },
    "tags": []
   },
   "source": [
    "[GridSearch](https://scikit-learn.org/stable/modules/generated/sklearn.model_selection.GridSearchCV.html) przeszukuje wybrane przestrzenie hiperparametrów tworząc iloczyn kartezjański na podanych wartościach hiperparametrów. \n",
    "\n",
    "- Dzięki temu bardzo precyzyjnie możemy oszacować, które wartości nas potencjalnie najbardziej interesują oraz możemy bardzo dokładnie przeszukać przestrzeń hiperaparametrów.\n",
    "- Deterministyczny oraz bardzo dokładny\n",
    "\n",
    "- Bardzo wymagający obliczeniowo, dokonanie tylu eksperymentów ile podano wartości oraz list wartości.\n",
    "- Bardzo wymgający czasowo."
   ]
  },
  {
   "cell_type": "markdown",
   "id": "0b1a5c55",
   "metadata": {
    "papermill": {
     "duration": 0.01258,
     "end_time": "2025-04-14T21:03:14.318223",
     "exception": false,
     "start_time": "2025-04-14T21:03:14.305643",
     "status": "completed"
    },
    "tags": []
   },
   "source": [
    "#### 2.2 Jakość najlepszego modelu oraz czas działania"
   ]
  },
  {
   "cell_type": "code",
   "execution_count": 13,
   "id": "45341d9d",
   "metadata": {
    "execution": {
     "iopub.execute_input": "2025-04-14T21:03:14.351586Z",
     "iopub.status.busy": "2025-04-14T21:03:14.350451Z",
     "iopub.status.idle": "2025-04-14T21:04:07.932169Z",
     "shell.execute_reply": "2025-04-14T21:04:07.931126Z"
    },
    "papermill": {
     "duration": 53.613351,
     "end_time": "2025-04-14T21:04:07.947025",
     "exception": false,
     "start_time": "2025-04-14T21:03:14.333674",
     "status": "completed"
    },
    "tags": []
   },
   "outputs": [
    {
     "name": "stdout",
     "output_type": "stream",
     "text": [
      "Fit...\n"
     ]
    },
    {
     "name": "stdout",
     "output_type": "stream",
     "text": [
      "Predict...\n"
     ]
    }
   ],
   "source": [
    "clf = GridSearchCV(\n",
    "    rf_pipeline,\n",
    "    rf_param_grid,\n",
    "    return_train_score=True,\n",
    "    scoring=\"f1_weighted\",\n",
    "    n_jobs=-1,\n",
    ")\n",
    "_, rf_grid_results = run_search(\"GridSearchCV\", clf, X_train, X_val, y_train, y_val)"
   ]
  },
  {
   "cell_type": "code",
   "execution_count": 14,
   "id": "de66f59c",
   "metadata": {
    "execution": {
     "iopub.execute_input": "2025-04-14T21:04:07.974618Z",
     "iopub.status.busy": "2025-04-14T21:04:07.974119Z",
     "iopub.status.idle": "2025-04-14T21:04:21.020941Z",
     "shell.execute_reply": "2025-04-14T21:04:21.019840Z"
    },
    "papermill": {
     "duration": 13.061904,
     "end_time": "2025-04-14T21:04:21.022381",
     "exception": false,
     "start_time": "2025-04-14T21:04:07.960477",
     "status": "completed"
    },
    "tags": []
   },
   "outputs": [
    {
     "name": "stdout",
     "output_type": "stream",
     "text": [
      "Fit...\n"
     ]
    },
    {
     "name": "stdout",
     "output_type": "stream",
     "text": [
      "Predict...\n"
     ]
    }
   ],
   "source": [
    "clf = GridSearchCV(\n",
    "    svm_pipeline,\n",
    "    svm_param_grid,\n",
    "    return_train_score=True,\n",
    "    scoring=\"f1_weighted\",\n",
    "    n_jobs=-1,\n",
    ")\n",
    "_, svm_grid_results = run_search(\"GridSearchCV\", clf, X_train, X_val, y_train, y_val)"
   ]
  },
  {
   "cell_type": "markdown",
   "id": "1b837bf4",
   "metadata": {
    "papermill": {
     "duration": 0.01226,
     "end_time": "2025-04-14T21:04:21.049443",
     "exception": false,
     "start_time": "2025-04-14T21:04:21.037183",
     "status": "completed"
    },
    "tags": []
   },
   "source": [
    "#### 2.3 Liczba iteracji metody\n",
    "\n",
    "Liczba pomiarów jest równa iloczynowi liczebności każdej z list hiperparametrów"
   ]
  },
  {
   "cell_type": "code",
   "execution_count": 15,
   "id": "98aafdec",
   "metadata": {
    "execution": {
     "iopub.execute_input": "2025-04-14T21:04:21.079036Z",
     "iopub.status.busy": "2025-04-14T21:04:21.078398Z",
     "iopub.status.idle": "2025-04-14T21:04:21.084542Z",
     "shell.execute_reply": "2025-04-14T21:04:21.083626Z"
    },
    "papermill": {
     "duration": 0.022293,
     "end_time": "2025-04-14T21:04:21.085737",
     "exception": false,
     "start_time": "2025-04-14T21:04:21.063444",
     "status": "completed"
    },
    "tags": []
   },
   "outputs": [
    {
     "name": "stdout",
     "output_type": "stream",
     "text": [
      "GridSearchCV wykonał 48 pomiarów\n"
     ]
    }
   ],
   "source": [
    "print(f\"GridSearchCV wykonał {rf_grid_results['Models Tried']} pomiarów\")"
   ]
  },
  {
   "cell_type": "markdown",
   "id": "b04c724c",
   "metadata": {
    "papermill": {
     "duration": 0.01592,
     "end_time": "2025-04-14T21:04:21.115890",
     "exception": false,
     "start_time": "2025-04-14T21:04:21.099970",
     "status": "completed"
    },
    "tags": []
   },
   "source": [
    "## 3. HalvingGridSearch"
   ]
  },
  {
   "cell_type": "markdown",
   "id": "1036cc9f",
   "metadata": {
    "papermill": {
     "duration": 0.014489,
     "end_time": "2025-04-14T21:04:21.145896",
     "exception": false,
     "start_time": "2025-04-14T21:04:21.131407",
     "status": "completed"
    },
    "tags": []
   },
   "source": [
    "#### 3.1 Opis działania, możliwości, ograniczenia"
   ]
  },
  {
   "cell_type": "markdown",
   "id": "3937e55e",
   "metadata": {
    "papermill": {
     "duration": 0.068097,
     "end_time": "2025-04-14T21:04:21.238831",
     "exception": false,
     "start_time": "2025-04-14T21:04:21.170734",
     "status": "completed"
    },
    "tags": []
   },
   "source": [
    "[HalvingGridSearch](https://scikit-learn.org/stable/modules/generated/sklearn.model_selection.HalvingGridSearchCV.html) działa analogicznie do GridSearch'a, lecz optymalizuje swoje działanie poprzez wykonywanie eksperymentów na części danych. Na początku testuje wiele kombinacji na małych próbkach danych, a w kolejnych iteracjach zwiększa ilość danych tylko dla najlepszych kandydatów.\n",
    "\n",
    "- Posida zalety grid searcha dokładnego przeszukania przestrzeni hiperparametrów przy mniejszym nakładzie mocy obliczeniowej oraz krótszym czasie wykonywania.\n",
    "- Utrzymuje dokładność GridSearch przy mniejszych kosztach.\n",
    "\n",
    "- Wadą jest fakt, iż jest to eksperymentalna funkcja sklearn, czyli nie jest ustabilizowana/może się zmieniać.\n",
    "- Wciąż przeszukujemy ogromną liczbę zbiorów hiperparametrów"
   ]
  },
  {
   "cell_type": "markdown",
   "id": "1eb2b9ea",
   "metadata": {
    "papermill": {
     "duration": 0.013361,
     "end_time": "2025-04-14T21:04:21.266607",
     "exception": false,
     "start_time": "2025-04-14T21:04:21.253246",
     "status": "completed"
    },
    "tags": []
   },
   "source": [
    "#### 3.2 Jakość najlepszego modelu oraz czas działania"
   ]
  },
  {
   "cell_type": "code",
   "execution_count": 16,
   "id": "d659bfc5",
   "metadata": {
    "execution": {
     "iopub.execute_input": "2025-04-14T21:04:21.307357Z",
     "iopub.status.busy": "2025-04-14T21:04:21.306436Z",
     "iopub.status.idle": "2025-04-14T21:04:53.154381Z",
     "shell.execute_reply": "2025-04-14T21:04:53.153258Z"
    },
    "papermill": {
     "duration": 31.888523,
     "end_time": "2025-04-14T21:04:53.169942",
     "exception": false,
     "start_time": "2025-04-14T21:04:21.281419",
     "status": "completed"
    },
    "tags": []
   },
   "outputs": [
    {
     "name": "stdout",
     "output_type": "stream",
     "text": [
      "Fit...\n"
     ]
    },
    {
     "name": "stdout",
     "output_type": "stream",
     "text": [
      "Predict...\n"
     ]
    }
   ],
   "source": [
    "clf = HalvingGridSearchCV(\n",
    "    rf_pipeline,\n",
    "    rf_param_grid,\n",
    "    return_train_score=True,\n",
    "    scoring=\"f1_weighted\",\n",
    "    n_jobs=-1,\n",
    ")\n",
    "_, rf_halv_grid_results = run_search(\n",
    "    \"HalvingGridSearchCV\", clf, X_train, X_val, y_train, y_val\n",
    ")"
   ]
  },
  {
   "cell_type": "code",
   "execution_count": 17,
   "id": "4cd508ed",
   "metadata": {
    "execution": {
     "iopub.execute_input": "2025-04-14T21:04:53.198470Z",
     "iopub.status.busy": "2025-04-14T21:04:53.197667Z",
     "iopub.status.idle": "2025-04-14T21:04:58.345905Z",
     "shell.execute_reply": "2025-04-14T21:04:58.344938Z"
    },
    "papermill": {
     "duration": 5.163022,
     "end_time": "2025-04-14T21:04:58.347139",
     "exception": false,
     "start_time": "2025-04-14T21:04:53.184117",
     "status": "completed"
    },
    "tags": []
   },
   "outputs": [
    {
     "name": "stdout",
     "output_type": "stream",
     "text": [
      "Fit...\n"
     ]
    },
    {
     "name": "stdout",
     "output_type": "stream",
     "text": [
      "Predict...\n"
     ]
    }
   ],
   "source": [
    "clf = HalvingGridSearchCV(\n",
    "    svm_pipeline,\n",
    "    svm_param_grid,\n",
    "    return_train_score=True,\n",
    "    scoring=\"f1_weighted\",\n",
    "    n_jobs=-1,\n",
    ")\n",
    "_, svm_halv_grid_results = run_search(\n",
    "    \"HalvingGridSearchCV\", clf, X_train, X_val, y_train, y_val\n",
    ")"
   ]
  },
  {
   "cell_type": "markdown",
   "id": "f3099319",
   "metadata": {
    "papermill": {
     "duration": 0.013871,
     "end_time": "2025-04-14T21:04:58.377076",
     "exception": false,
     "start_time": "2025-04-14T21:04:58.363205",
     "status": "completed"
    },
    "tags": []
   },
   "source": [
    "#### 3.3 Liczba iteracji metody"
   ]
  },
  {
   "cell_type": "code",
   "execution_count": 18,
   "id": "b21a1c9e",
   "metadata": {
    "execution": {
     "iopub.execute_input": "2025-04-14T21:04:58.407646Z",
     "iopub.status.busy": "2025-04-14T21:04:58.407206Z",
     "iopub.status.idle": "2025-04-14T21:04:58.413289Z",
     "shell.execute_reply": "2025-04-14T21:04:58.412185Z"
    },
    "papermill": {
     "duration": 0.022559,
     "end_time": "2025-04-14T21:04:58.414814",
     "exception": false,
     "start_time": "2025-04-14T21:04:58.392255",
     "status": "completed"
    },
    "tags": []
   },
   "outputs": [
    {
     "name": "stdout",
     "output_type": "stream",
     "text": [
      "GridSearchCV wykonał 70 pomiarów\n"
     ]
    }
   ],
   "source": [
    "print(f\"GridSearchCV wykonał {rf_halv_grid_results['Models Tried']} pomiarów\")"
   ]
  },
  {
   "cell_type": "markdown",
   "id": "88e04723",
   "metadata": {
    "papermill": {
     "duration": 0.014896,
     "end_time": "2025-04-14T21:04:58.445681",
     "exception": false,
     "start_time": "2025-04-14T21:04:58.430785",
     "status": "completed"
    },
    "tags": []
   },
   "source": [
    "## 4. HalvingRandomSearch"
   ]
  },
  {
   "cell_type": "markdown",
   "id": "cc8983fb",
   "metadata": {
    "papermill": {
     "duration": 0.048258,
     "end_time": "2025-04-14T21:04:58.509785",
     "exception": false,
     "start_time": "2025-04-14T21:04:58.461527",
     "status": "completed"
    },
    "tags": []
   },
   "source": [
    "#### 4.1 Opis działania, możliwości, ograniczenia"
   ]
  },
  {
   "cell_type": "markdown",
   "id": "1ac784ef",
   "metadata": {
    "papermill": {
     "duration": 0.013409,
     "end_time": "2025-04-14T21:04:58.564827",
     "exception": false,
     "start_time": "2025-04-14T21:04:58.551418",
     "status": "completed"
    },
    "tags": []
   },
   "source": [
    "[HalvingRandomSearch](https://scikit-learn.org/stable/modules/generated/sklearn.model_selection.HalvingRandomSearchCV.html) jest połączeniem HalvingGridSearch oraz RandomSeach. Działa z mechanizmem losowego wyboru hiperparametrów z aspektem odsiewania słabszych i trenowania pozostałych na większej liczbie danych.\n",
    "\n",
    "Najbardziej efektywny czasowo i najmniej wymagający obliczeniowo\n",
    "\n",
    "Ponownie jest eksperymentalną funkcja sklearn oraz tak jak RandomSearch może pominąć najlepsze wartości hiperparametrów"
   ]
  },
  {
   "cell_type": "markdown",
   "id": "38643c5b",
   "metadata": {
    "papermill": {
     "duration": 0.014202,
     "end_time": "2025-04-14T21:04:58.592490",
     "exception": false,
     "start_time": "2025-04-14T21:04:58.578288",
     "status": "completed"
    },
    "tags": []
   },
   "source": [
    "#### 4.2 Jakość najlepszego modelu oraz czas działania"
   ]
  },
  {
   "cell_type": "code",
   "execution_count": 19,
   "id": "7990ece5",
   "metadata": {
    "execution": {
     "iopub.execute_input": "2025-04-14T21:04:58.619207Z",
     "iopub.status.busy": "2025-04-14T21:04:58.618624Z",
     "iopub.status.idle": "2025-04-14T21:05:24.976864Z",
     "shell.execute_reply": "2025-04-14T21:05:24.975858Z"
    },
    "papermill": {
     "duration": 26.373406,
     "end_time": "2025-04-14T21:05:24.978464",
     "exception": false,
     "start_time": "2025-04-14T21:04:58.605058",
     "status": "completed"
    },
    "tags": []
   },
   "outputs": [
    {
     "name": "stdout",
     "output_type": "stream",
     "text": [
      "Fit...\n"
     ]
    },
    {
     "name": "stdout",
     "output_type": "stream",
     "text": [
      "Predict...\n"
     ]
    }
   ],
   "source": [
    "clf = HalvingRandomSearchCV(\n",
    "    rf_pipeline,\n",
    "    rf_param_grid,\n",
    "    return_train_score=True,\n",
    "    scoring=\"f1_weighted\",\n",
    "    n_jobs=-1,\n",
    "    n_candidates=40,\n",
    ")\n",
    "_, rf_halv_rand_grid_results = run_search(\n",
    "    \"HalvingRandomSearchCV\", clf, X_train, X_val, y_train, y_val\n",
    ")"
   ]
  },
  {
   "cell_type": "code",
   "execution_count": 20,
   "id": "c405c6ad",
   "metadata": {
    "execution": {
     "iopub.execute_input": "2025-04-14T21:05:25.010356Z",
     "iopub.status.busy": "2025-04-14T21:05:25.009541Z",
     "iopub.status.idle": "2025-04-14T21:05:30.913394Z",
     "shell.execute_reply": "2025-04-14T21:05:30.912320Z"
    },
    "papermill": {
     "duration": 5.921081,
     "end_time": "2025-04-14T21:05:30.915498",
     "exception": false,
     "start_time": "2025-04-14T21:05:24.994417",
     "status": "completed"
    },
    "tags": []
   },
   "outputs": [
    {
     "name": "stdout",
     "output_type": "stream",
     "text": [
      "Fit...\n"
     ]
    },
    {
     "name": "stderr",
     "output_type": "stream",
     "text": [
      "/usr/local/lib/python3.12/site-packages/sklearn/model_selection/_search.py:317: UserWarning: The total space of parameters 36 is smaller than n_iter=40. Running 36 iterations. For exhaustive searches, use GridSearchCV.\n",
      "  warnings.warn(\n"
     ]
    },
    {
     "name": "stdout",
     "output_type": "stream",
     "text": [
      "Predict...\n"
     ]
    }
   ],
   "source": [
    "clf = HalvingRandomSearchCV(\n",
    "    svm_pipeline,\n",
    "    svm_param_grid,\n",
    "    return_train_score=True,\n",
    "    scoring=\"f1_weighted\",\n",
    "    n_jobs=-1,\n",
    "    n_candidates=40,\n",
    ")\n",
    "_, svm_halv_rand_grid_results = run_search(\n",
    "    \"HalvingRandomSearchCV\", clf, X_train, X_val, y_train, y_val\n",
    ")"
   ]
  },
  {
   "cell_type": "markdown",
   "id": "82b4d4f4",
   "metadata": {
    "papermill": {
     "duration": 0.015684,
     "end_time": "2025-04-14T21:05:30.947069",
     "exception": false,
     "start_time": "2025-04-14T21:05:30.931385",
     "status": "completed"
    },
    "tags": []
   },
   "source": [
    "#### 4.3 Liczba iteracji metody"
   ]
  },
  {
   "cell_type": "code",
   "execution_count": 21,
   "id": "30a54631",
   "metadata": {
    "execution": {
     "iopub.execute_input": "2025-04-14T21:05:30.981030Z",
     "iopub.status.busy": "2025-04-14T21:05:30.980512Z",
     "iopub.status.idle": "2025-04-14T21:05:30.985515Z",
     "shell.execute_reply": "2025-04-14T21:05:30.984493Z"
    },
    "papermill": {
     "duration": 0.023906,
     "end_time": "2025-04-14T21:05:30.987149",
     "exception": false,
     "start_time": "2025-04-14T21:05:30.963243",
     "status": "completed"
    },
    "tags": []
   },
   "outputs": [
    {
     "name": "stdout",
     "output_type": "stream",
     "text": [
      "GridSearchCV wykonał 59 pomiarów\n"
     ]
    }
   ],
   "source": [
    "print(f\"GridSearchCV wykonał {rf_halv_rand_grid_results['Models Tried']} pomiarów\")"
   ]
  },
  {
   "cell_type": "markdown",
   "id": "e9fe3633",
   "metadata": {
    "papermill": {
     "duration": 0.015608,
     "end_time": "2025-04-14T21:05:31.016807",
     "exception": false,
     "start_time": "2025-04-14T21:05:31.001199",
     "status": "completed"
    },
    "tags": []
   },
   "source": [
    "## 5. Podsumowanie"
   ]
  },
  {
   "cell_type": "markdown",
   "id": "3d13b508",
   "metadata": {
    "papermill": {
     "duration": 0.015766,
     "end_time": "2025-04-14T21:05:31.047589",
     "exception": false,
     "start_time": "2025-04-14T21:05:31.031823",
     "status": "completed"
    },
    "tags": []
   },
   "source": [
    "#### 5.1 Porównanie modeli"
   ]
  },
  {
   "cell_type": "code",
   "execution_count": 22,
   "id": "db7ffdad",
   "metadata": {
    "execution": {
     "iopub.execute_input": "2025-04-14T21:05:31.081558Z",
     "iopub.status.busy": "2025-04-14T21:05:31.080496Z",
     "iopub.status.idle": "2025-04-14T21:05:31.086784Z",
     "shell.execute_reply": "2025-04-14T21:05:31.085555Z"
    },
    "papermill": {
     "duration": 0.025026,
     "end_time": "2025-04-14T21:05:31.088592",
     "exception": false,
     "start_time": "2025-04-14T21:05:31.063566",
     "status": "completed"
    },
    "tags": []
   },
   "outputs": [],
   "source": [
    "rf_results = [\n",
    "    rf_randomized_results,\n",
    "    rf_grid_results,\n",
    "    rf_halv_grid_results,\n",
    "    rf_halv_rand_grid_results,\n",
    "]\n",
    "df_rf_results = pd.DataFrame(rf_results)"
   ]
  },
  {
   "cell_type": "code",
   "execution_count": 23,
   "id": "b476ca9d",
   "metadata": {
    "execution": {
     "iopub.execute_input": "2025-04-14T21:05:31.129113Z",
     "iopub.status.busy": "2025-04-14T21:05:31.128188Z",
     "iopub.status.idle": "2025-04-14T21:05:31.137019Z",
     "shell.execute_reply": "2025-04-14T21:05:31.135832Z"
    },
    "papermill": {
     "duration": 0.031397,
     "end_time": "2025-04-14T21:05:31.138966",
     "exception": false,
     "start_time": "2025-04-14T21:05:31.107569",
     "status": "completed"
    },
    "tags": []
   },
   "outputs": [],
   "source": [
    "svm_results = [\n",
    "    svm_randomized_results,\n",
    "    svm_grid_results,\n",
    "    svm_halv_grid_results,\n",
    "    svm_halv_rand_grid_results,\n",
    "]\n",
    "df_svm_results = pd.DataFrame(svm_results)"
   ]
  },
  {
   "cell_type": "code",
   "execution_count": 24,
   "id": "6236559b",
   "metadata": {
    "execution": {
     "iopub.execute_input": "2025-04-14T21:05:31.181826Z",
     "iopub.status.busy": "2025-04-14T21:05:31.180075Z",
     "iopub.status.idle": "2025-04-14T21:05:31.930069Z",
     "shell.execute_reply": "2025-04-14T21:05:31.927460Z"
    },
    "papermill": {
     "duration": 0.789954,
     "end_time": "2025-04-14T21:05:31.946680",
     "exception": false,
     "start_time": "2025-04-14T21:05:31.156726",
     "status": "completed"
    },
    "tags": []
   },
   "outputs": [
    {
     "name": "stderr",
     "output_type": "stream",
     "text": [
      "/usr/local/lib/python3.12/site-packages/seaborn/_base.py:949: FutureWarning: When grouping with a length-1 list-like, you will need to pass a length-1 tuple to get_group in a future version of pandas. Pass `(name,)` instead of `name` to silence this warning.\n",
      "  data_subset = grouped_data.get_group(pd_key)\n",
      "/usr/local/lib/python3.12/site-packages/seaborn/_base.py:949: FutureWarning: When grouping with a length-1 list-like, you will need to pass a length-1 tuple to get_group in a future version of pandas. Pass `(name,)` instead of `name` to silence this warning.\n",
      "  data_subset = grouped_data.get_group(pd_key)\n",
      "/usr/local/lib/python3.12/site-packages/seaborn/_base.py:949: FutureWarning: When grouping with a length-1 list-like, you will need to pass a length-1 tuple to get_group in a future version of pandas. Pass `(name,)` instead of `name` to silence this warning.\n",
      "  data_subset = grouped_data.get_group(pd_key)\n",
      "/usr/local/lib/python3.12/site-packages/seaborn/_base.py:949: FutureWarning: When grouping with a length-1 list-like, you will need to pass a length-1 tuple to get_group in a future version of pandas. Pass `(name,)` instead of `name` to silence this warning.\n",
      "  data_subset = grouped_data.get_group(pd_key)\n"
     ]
    },
    {
     "data": {
      "image/png": "[encoded data removed]",
      "text/plain": [
       "<Figure size 1500x800 with 1 Axes>"
      ]
     },
     "metadata": {},
     "output_type": "display_data"
    }
   ],
   "source": [
    "plt.figure(figsize=(15, 8))\n",
    "metrics_to_plot = [\n",
    "    \"Best f1_weighted (CV)\",\n",
    "    \"Accuracy\",\n",
    "    \"Precision\",\n",
    "    \"Recall\",\n",
    "    \"F1 (weighted)\",\n",
    "]\n",
    "df_melted = df_rf_results.melt(\n",
    "    id_vars=\"Method\", value_vars=metrics_to_plot, var_name=\"Metric\", value_name=\"Score\"\n",
    ")\n",
    "\n",
    "sns.barplot(data=df_melted, x=\"Metric\", y=\"Score\", hue=\"Method\")\n",
    "plt.title(\"Porównanie metryk jakości modeli\")\n",
    "plt.xticks(rotation=45)\n",
    "plt.legend(title=\"Metoda\")\n",
    "plt.tight_layout()\n",
    "plt.show()"
   ]
  },
  {
   "cell_type": "code",
   "execution_count": 25,
   "id": "c1afaa7c",
   "metadata": {
    "execution": {
     "iopub.execute_input": "2025-04-14T21:05:32.019560Z",
     "iopub.status.busy": "2025-04-14T21:05:32.018004Z",
     "iopub.status.idle": "2025-04-14T21:05:32.356419Z",
     "shell.execute_reply": "2025-04-14T21:05:32.354292Z"
    },
    "papermill": {
     "duration": 0.370664,
     "end_time": "2025-04-14T21:05:32.358962",
     "exception": false,
     "start_time": "2025-04-14T21:05:31.988298",
     "status": "completed"
    },
    "tags": []
   },
   "outputs": [
    {
     "name": "stderr",
     "output_type": "stream",
     "text": [
      "/usr/local/lib/python3.12/site-packages/seaborn/_base.py:949: FutureWarning: When grouping with a length-1 list-like, you will need to pass a length-1 tuple to get_group in a future version of pandas. Pass `(name,)` instead of `name` to silence this warning.\n",
      "  data_subset = grouped_data.get_group(pd_key)\n",
      "/usr/local/lib/python3.12/site-packages/seaborn/_base.py:949: FutureWarning: When grouping with a length-1 list-like, you will need to pass a length-1 tuple to get_group in a future version of pandas. Pass `(name,)` instead of `name` to silence this warning.\n",
      "  data_subset = grouped_data.get_group(pd_key)\n",
      "/usr/local/lib/python3.12/site-packages/seaborn/_base.py:949: FutureWarning: When grouping with a length-1 list-like, you will need to pass a length-1 tuple to get_group in a future version of pandas. Pass `(name,)` instead of `name` to silence this warning.\n",
      "  data_subset = grouped_data.get_group(pd_key)\n",
      "/usr/local/lib/python3.12/site-packages/seaborn/_base.py:949: FutureWarning: When grouping with a length-1 list-like, you will need to pass a length-1 tuple to get_group in a future version of pandas. Pass `(name,)` instead of `name` to silence this warning.\n",
      "  data_subset = grouped_data.get_group(pd_key)\n"
     ]
    },
    {
     "data": {
      "image/png": "[encoded data removed]",
      "text/plain": [
       "<Figure size 1000x600 with 1 Axes>"
      ]
     },
     "metadata": {},
     "output_type": "display_data"
    }
   ],
   "source": [
    "plt.figure(figsize=(10, 6))\n",
    "sns.barplot(data=df_rf_results, x=\"Method\", y=\"Time (s)\", palette=\"muted\", hue=\"Method\")\n",
    "plt.title(\"Czas działania dla każdej metody\")\n",
    "plt.ylabel(\"Czas (s)\")\n",
    "plt.xticks(rotation=15)\n",
    "plt.tight_layout()\n",
    "plt.show()"
   ]
  },
  {
   "cell_type": "code",
   "execution_count": 26,
   "id": "4dd3df5e",
   "metadata": {
    "execution": {
     "iopub.execute_input": "2025-04-14T21:05:32.410523Z",
     "iopub.status.busy": "2025-04-14T21:05:32.409676Z",
     "iopub.status.idle": "2025-04-14T21:05:32.420256Z",
     "shell.execute_reply": "2025-04-14T21:05:32.418066Z"
    },
    "papermill": {
     "duration": 0.042801,
     "end_time": "2025-04-14T21:05:32.422511",
     "exception": false,
     "start_time": "2025-04-14T21:05:32.379710",
     "status": "completed"
    },
    "tags": []
   },
   "outputs": [],
   "source": [
    "df_rf_results[\"Time per Model\"] = (\n",
    "    df_rf_results[\"Time (s)\"] / df_rf_results[\"Models Tried\"]\n",
    ")"
   ]
  },
  {
   "cell_type": "code",
   "execution_count": 27,
   "id": "ae0a682a",
   "metadata": {
    "execution": {
     "iopub.execute_input": "2025-04-14T21:05:32.475000Z",
     "iopub.status.busy": "2025-04-14T21:05:32.474232Z",
     "iopub.status.idle": "2025-04-14T21:05:32.888928Z",
     "shell.execute_reply": "2025-04-14T21:05:32.887221Z"
    },
    "papermill": {
     "duration": 0.444519,
     "end_time": "2025-04-14T21:05:32.891953",
     "exception": false,
     "start_time": "2025-04-14T21:05:32.447434",
     "status": "completed"
    },
    "tags": []
   },
   "outputs": [
    {
     "name": "stderr",
     "output_type": "stream",
     "text": [
      "/usr/local/lib/python3.12/site-packages/seaborn/_base.py:949: FutureWarning: When grouping with a length-1 list-like, you will need to pass a length-1 tuple to get_group in a future version of pandas. Pass `(name,)` instead of `name` to silence this warning.\n",
      "  data_subset = grouped_data.get_group(pd_key)\n",
      "/usr/local/lib/python3.12/site-packages/seaborn/_base.py:949: FutureWarning: When grouping with a length-1 list-like, you will need to pass a length-1 tuple to get_group in a future version of pandas. Pass `(name,)` instead of `name` to silence this warning.\n",
      "  data_subset = grouped_data.get_group(pd_key)\n",
      "/usr/local/lib/python3.12/site-packages/seaborn/_base.py:949: FutureWarning: When grouping with a length-1 list-like, you will need to pass a length-1 tuple to get_group in a future version of pandas. Pass `(name,)` instead of `name` to silence this warning.\n",
      "  data_subset = grouped_data.get_group(pd_key)\n",
      "/usr/local/lib/python3.12/site-packages/seaborn/_base.py:949: FutureWarning: When grouping with a length-1 list-like, you will need to pass a length-1 tuple to get_group in a future version of pandas. Pass `(name,)` instead of `name` to silence this warning.\n",
      "  data_subset = grouped_data.get_group(pd_key)\n"
     ]
    },
    {
     "data": {
      "image/png": "[encoded data removed]",
      "text/plain": [
       "<Figure size 1000x600 with 1 Axes>"
      ]
     },
     "metadata": {},
     "output_type": "display_data"
    }
   ],
   "source": [
    "plt.figure(figsize=(10, 6))\n",
    "sns.barplot(\n",
    "    data=df_rf_results,\n",
    "    x=\"Method\",\n",
    "    y=\"Time per Model\",\n",
    "    hue=\"Method\",\n",
    "    palette=\"viridis\",\n",
    "    legend=False,\n",
    ")\n",
    "plt.title(\"Średni czas trenowania pojedynczego modelu\")\n",
    "plt.ylabel(\"Czas (s) na model\")\n",
    "plt.xticks(rotation=15)\n",
    "plt.tight_layout()\n",
    "plt.show()"
   ]
  },
  {
   "cell_type": "code",
   "execution_count": 28,
   "id": "7f3bbc11",
   "metadata": {
    "execution": {
     "iopub.execute_input": "2025-04-14T21:05:32.951090Z",
     "iopub.status.busy": "2025-04-14T21:05:32.949818Z",
     "iopub.status.idle": "2025-04-14T21:05:32.969070Z",
     "shell.execute_reply": "2025-04-14T21:05:32.967708Z"
    },
    "papermill": {
     "duration": 0.053766,
     "end_time": "2025-04-14T21:05:32.970935",
     "exception": false,
     "start_time": "2025-04-14T21:05:32.917169",
     "status": "completed"
    },
    "tags": []
   },
   "outputs": [],
   "source": [
    "rf_max_index = df_rf_results[\"Best f1_weighted (CV)\"].idxmax()\n",
    "svm_max_index = df_svm_results[\"Best f1_weighted (CV)\"].idxmax()\n",
    "rf_best_params = df_rf_results[\"Best Params\"][rf_max_index]\n",
    "svm_best_params = df_svm_results[\"Best Params\"][svm_max_index]\n",
    "best_params = {\n",
    "    \"RandomForest\": rf_best_params,\n",
    "    \"SVM\": svm_best_params,\n",
    "}\n",
    "\n",
    "with open(f\"data/models/{dataset_name}/best_params.json\", \"w\") as f:\n",
    "    json.dump(best_params, f)"
   ]
  },
  {
   "cell_type": "markdown",
   "id": "e40539ea",
   "metadata": {
    "papermill": {
     "duration": 0.02652,
     "end_time": "2025-04-14T21:05:33.021601",
     "exception": false,
     "start_time": "2025-04-14T21:05:32.995081",
     "status": "completed"
    },
    "tags": []
   },
   "source": [
    "#### 5.2 Porównanie wyników\n",
    "\n",
    "Najlepsze wyniki osiągnął model Randomized Search\n",
    "\n",
    "Model trenował się najwięcej czasu oraz posiada najgorszą metrykę względem czasu/model\n",
    "\n",
    "Pozostałe metody osiągnęły bardzo podobne wyniki, lecz różniły je czasy wykonywania.\n",
    "\n",
    "Zakładająć, iż wyniki bybły nieznacznie podobne kolejny model z najlepszymi wynikami posiada HalvingRandomSearch ze względu na definitywnie najkrótszy czas działania."
   ]
  },
  {
   "cell_type": "markdown",
   "id": "2d565a21",
   "metadata": {
    "papermill": {
     "duration": 0.032914,
     "end_time": "2025-04-14T21:05:33.079119",
     "exception": false,
     "start_time": "2025-04-14T21:05:33.046205",
     "status": "completed"
    },
    "tags": []
   },
   "source": [
    "#### 5.3 Wybrów i uzasadnienie"
   ]
  },
  {
   "cell_type": "markdown",
   "id": "d4c17b35",
   "metadata": {
    "papermill": {
     "duration": 0.027641,
     "end_time": "2025-04-14T21:05:33.217788",
     "exception": false,
     "start_time": "2025-04-14T21:05:33.190147",
     "status": "completed"
    },
    "tags": []
   },
   "source": [
    "Nie ma jednego dobrego wyjścia, są one bardzo zależne od naszych potrzeb i kompetencji.\n",
    "\n",
    "Najlepszą opcją, gdy potrzebujemy szybko znaleźć \"dobry\" model jest zdecydowanie HalvingRandomSearch ze względu na akceptowalne wyniki w zaskakująco krótkim czasie. (Dobre wyniki, szybkie działanie).\n",
    "\n",
    "Najlepszym wyborem, gdy znamy dokładnie model, dane oraz posiadamy dużą wiedzę dziedzinową i intuicję jest GridSearch ze względu na możliwość dokładnego zbadania wielu hiperparametrów dla naszej hipotezy. (Najlepszy wynik, najdłużej się wykonuje).\n",
    "\n",
    "Najlepszym wyborem, gdy nie do końca znamy potencjalne hiperparametry oraz nie zależy nam na czasie jest RandomizedSearch dzięki któremu w sposób losowy możemy osiąganąć dobre wyniki dla modelu oraz samemu zdecydować ilu iteracji potrzebujemy.\n",
    "\n",
    "Dla mnie, jako studenta bez silnej intuicji odnośnie nieznanych klasyfikatorów i dla nieznanyc zbiorów danych najlepszą opcją byłby HalvingRandomSearch, ponieważ umożliwiłby mi w szybki sposób zrozumieć dla jakich mniej więcej parametrów model działałby dobrze."
   ]
  }
 ],
 "metadata": {
  "kernelspec": {
   "display_name": ".venv",
   "language": "python",
   "name": "python3"
  },
  "language_info": {
   "codemirror_mode": {
    "name": "ipython",
    "version": 3
   },
   "file_extension": ".py",
   "mimetype": "text/x-python",
   "name": "python",
   "nbconvert_exporter": "python",
   "pygments_lexer": "ipython3",
   "version": "3.12.10"
  },
  "papermill": {
   "default_parameters": {},
   "duration": 212.849481,
   "end_time": "2025-04-14T21:05:35.865563",
   "environment_variables": {},
   "exception": null,
   "input_path": "notebooks/eval_hyperparameters.ipynb",
   "output_path": "data/notebooks/sephora/eval_hyperparameters.ipynb",
   "parameters": {
    "dataset_name": "sephora"
   },
   "start_time": "2025-04-14T21:02:03.016082",
   "version": "2.6.0"
  }
 },
 "nbformat": 4,
 "nbformat_minor": 5
}