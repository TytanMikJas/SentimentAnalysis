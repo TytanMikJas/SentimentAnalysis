{
 "cells": [
  {
   "cell_type": "markdown",
   "id": "91a70fe3",
   "metadata": {
    "papermill": {
     "duration": 0.020193,
     "end_time": "2025-04-17T19:06:48.658717",
     "exception": false,
     "start_time": "2025-04-17T19:06:48.638524",
     "status": "completed"
    },
    "tags": []
   },
   "source": [
    "## 0. Inicjalizacja"
   ]
  },
  {
   "cell_type": "markdown",
   "id": "b7d37191",
   "metadata": {
    "papermill": {
     "duration": 0.019191,
     "end_time": "2025-04-17T19:06:48.695627",
     "exception": false,
     "start_time": "2025-04-17T19:06:48.676436",
     "status": "completed"
    },
    "tags": []
   },
   "source": [
    "#### 0.1 Import"
   ]
  },
  {
   "cell_type": "code",
   "execution_count": 1,
   "id": "b8f7c39b",
   "metadata": {
    "execution": {
     "iopub.execute_input": "2025-04-17T19:06:48.730235Z",
     "iopub.status.busy": "2025-04-17T19:06:48.729632Z",
     "iopub.status.idle": "2025-04-17T19:06:52.960764Z",
     "shell.execute_reply": "2025-04-17T19:06:52.959807Z"
    },
    "papermill": {
     "duration": 4.2508,
     "end_time": "2025-04-17T19:06:52.962431",
     "exception": false,
     "start_time": "2025-04-17T19:06:48.711631",
     "status": "completed"
    },
    "tags": []
   },
   "outputs": [],
   "source": [
    "import pandas as pd\n",
    "import os\n",
    "import sys\n",
    "import yaml\n",
    "import matplotlib.pyplot as plt\n",
    "import seaborn as sns\n",
    "from sklearn.ensemble import RandomForestClassifier\n",
    "from sklearn.svm import SVC\n",
    "from sklearn.experimental import enable_halving_search_cv\n",
    "from scipy.stats import uniform\n",
    "from sklearn.model_selection import (\n",
    "    GridSearchCV,\n",
    "    RandomizedSearchCV,\n",
    "    HalvingGridSearchCV,\n",
    "    HalvingRandomSearchCV,\n",
    "    train_test_split,\n",
    ")\n",
    "from time import time\n",
    "from scipy.stats import randint\n",
    "from sklearn.metrics import f1_score\n",
    "from sklearn.metrics import accuracy_score, precision_score, recall_score, f1_score\n",
    "import json\n",
    "\n",
    "sys.path.append(os.path.abspath(\"../../\"))\n",
    "from src.utils import load_train_test_data, get_params, SEPHORA_DATASET\n",
    "from src.pipeline import build_pipeline"
   ]
  },
  {
   "cell_type": "markdown",
   "id": "9b0f6b29",
   "metadata": {
    "papermill": {
     "duration": 0.0139,
     "end_time": "2025-04-17T19:06:52.989155",
     "exception": false,
     "start_time": "2025-04-17T19:06:52.975255",
     "status": "completed"
    },
    "tags": []
   },
   "source": [
    "#### 0.2 Parametry oraz Dataset"
   ]
  },
  {
   "cell_type": "code",
   "execution_count": 2,
   "id": "77630f1f",
   "metadata": {
    "execution": {
     "iopub.execute_input": "2025-04-17T19:06:53.024453Z",
     "iopub.status.busy": "2025-04-17T19:06:53.022880Z",
     "iopub.status.idle": "2025-04-17T19:06:53.028136Z",
     "shell.execute_reply": "2025-04-17T19:06:53.027174Z"
    },
    "papermill": {
     "duration": 0.023853,
     "end_time": "2025-04-17T19:06:53.029631",
     "exception": false,
     "start_time": "2025-04-17T19:06:53.005778",
     "status": "completed"
    },
    "tags": [
     "parameters"
    ]
   },
   "outputs": [],
   "source": [
    "dataset_name = \"sephora\""
   ]
  },
  {
   "cell_type": "code",
   "execution_count": 3,
   "id": "46688a17",
   "metadata": {
    "execution": {
     "iopub.execute_input": "2025-04-17T19:06:53.059882Z",
     "iopub.status.busy": "2025-04-17T19:06:53.059186Z",
     "iopub.status.idle": "2025-04-17T19:06:53.063544Z",
     "shell.execute_reply": "2025-04-17T19:06:53.062576Z"
    },
    "papermill": {
     "duration": 0.020597,
     "end_time": "2025-04-17T19:06:53.065062",
     "exception": false,
     "start_time": "2025-04-17T19:06:53.044465",
     "status": "completed"
    },
    "tags": [
     "injected-parameters"
    ]
   },
   "outputs": [],
   "source": [
    "# Parameters\n",
    "dataset_name = \"sephora\"\n"
   ]
  },
  {
   "cell_type": "code",
   "execution_count": 4,
   "id": "28477f4f",
   "metadata": {
    "execution": {
     "iopub.execute_input": "2025-04-17T19:06:53.093276Z",
     "iopub.status.busy": "2025-04-17T19:06:53.092649Z",
     "iopub.status.idle": "2025-04-17T19:06:53.109199Z",
     "shell.execute_reply": "2025-04-17T19:06:53.107886Z"
    },
    "papermill": {
     "duration": 0.032536,
     "end_time": "2025-04-17T19:06:53.110717",
     "exception": false,
     "start_time": "2025-04-17T19:06:53.078181",
     "status": "completed"
    },
    "tags": []
   },
   "outputs": [],
   "source": [
    "common_params, custom_params = get_params(dataset_name)"
   ]
  },
  {
   "cell_type": "code",
   "execution_count": 5,
   "id": "61661d76",
   "metadata": {
    "execution": {
     "iopub.execute_input": "2025-04-17T19:06:53.141215Z",
     "iopub.status.busy": "2025-04-17T19:06:53.140686Z",
     "iopub.status.idle": "2025-04-17T19:06:54.338079Z",
     "shell.execute_reply": "2025-04-17T19:06:54.336011Z"
    },
    "papermill": {
     "duration": 1.215039,
     "end_time": "2025-04-17T19:06:54.340587",
     "exception": false,
     "start_time": "2025-04-17T19:06:53.125548",
     "status": "completed"
    },
    "tags": []
   },
   "outputs": [
    {
     "name": "stderr",
     "output_type": "stream",
     "text": [
      "2025-04-17 19:06:53 - INFO - Loading dataset from data/train_test_data/sephora/train.pkl\n"
     ]
    },
    {
     "name": "stderr",
     "output_type": "stream",
     "text": [
      "2025-04-17 19:06:54 - INFO - Loading dataset from data/train_test_data/sephora/test.pkl\n"
     ]
    }
   ],
   "source": [
    "training_data, _ = load_train_test_data(\"data/train_test_data\", dataset_name)\n",
    "training_data = training_data[custom_params[\"pipeline\"][\"selected\"]]\n",
    "training_data = training_data[0:1_000]\n",
    "X_train, X_val, y_train, y_val = train_test_split(\n",
    "    training_data.drop(columns=[custom_params[\"features\"][\"label\"]], axis=1),\n",
    "    training_data[custom_params[\"features\"][\"label\"]],\n",
    "    test_size=0.2,\n",
    "    random_state=1,\n",
    ")"
   ]
  },
  {
   "cell_type": "markdown",
   "id": "ab11c55c",
   "metadata": {
    "papermill": {
     "duration": 0.018707,
     "end_time": "2025-04-17T19:06:54.377820",
     "exception": false,
     "start_time": "2025-04-17T19:06:54.359113",
     "status": "completed"
    },
    "tags": []
   },
   "source": [
    "#### 0.3 Pipeline"
   ]
  },
  {
   "cell_type": "code",
   "execution_count": 6,
   "id": "8c195d58",
   "metadata": {
    "execution": {
     "iopub.execute_input": "2025-04-17T19:06:54.415183Z",
     "iopub.status.busy": "2025-04-17T19:06:54.414289Z",
     "iopub.status.idle": "2025-04-17T19:06:54.421652Z",
     "shell.execute_reply": "2025-04-17T19:06:54.419824Z"
    },
    "papermill": {
     "duration": 0.028293,
     "end_time": "2025-04-17T19:06:54.424049",
     "exception": false,
     "start_time": "2025-04-17T19:06:54.395756",
     "status": "completed"
    },
    "tags": []
   },
   "outputs": [],
   "source": [
    "rf_pipeline = build_pipeline(\n",
    "    custom_params,\n",
    "    dataset_name,\n",
    "    \"all\",\n",
    "    RandomForestClassifier(n_jobs=-1, random_state=1),\n",
    ")\n",
    "svm_pipeline = build_pipeline(custom_params, dataset_name, \"all\", SVC(random_state=1))"
   ]
  },
  {
   "cell_type": "markdown",
   "id": "46b6b6c5",
   "metadata": {
    "papermill": {
     "duration": 0.01651,
     "end_time": "2025-04-17T19:06:54.460246",
     "exception": false,
     "start_time": "2025-04-17T19:06:54.443736",
     "status": "completed"
    },
    "tags": []
   },
   "source": [
    "#### 0.4 Funkcja do eksperymentów"
   ]
  },
  {
   "cell_type": "code",
   "execution_count": 7,
   "id": "571dd937",
   "metadata": {
    "execution": {
     "iopub.execute_input": "2025-04-17T19:06:54.490983Z",
     "iopub.status.busy": "2025-04-17T19:06:54.490307Z",
     "iopub.status.idle": "2025-04-17T19:06:54.497488Z",
     "shell.execute_reply": "2025-04-17T19:06:54.496352Z"
    },
    "papermill": {
     "duration": 0.02477,
     "end_time": "2025-04-17T19:06:54.499001",
     "exception": false,
     "start_time": "2025-04-17T19:06:54.474231",
     "status": "completed"
    },
    "tags": []
   },
   "outputs": [],
   "source": [
    "def run_search(name, searcher, X_train, X_val, y_train, y_val):\n",
    "    print(\"Fit...\")\n",
    "    start = time()\n",
    "    searcher.fit(X_train, y_train)\n",
    "    end = time()\n",
    "\n",
    "    elapsed = end - start\n",
    "    best_model = searcher.best_estimator_\n",
    "    n_models = len(searcher.cv_results_[\"mean_test_score\"])\n",
    "    best_params = searcher.best_params_\n",
    "    best_score = searcher.best_score_\n",
    "\n",
    "    print(\"Predict...\")\n",
    "    y_pred = best_model.predict(X_val)\n",
    "\n",
    "    results = {\n",
    "        \"Method\": name,\n",
    "        \"Best f1_weighted (CV)\": best_score,\n",
    "        \"Accuracy\": accuracy_score(y_val, y_pred),\n",
    "        \"Precision\": precision_score(\n",
    "            y_val, y_pred, average=\"weighted\", zero_division=0\n",
    "        ),\n",
    "        \"Recall\": recall_score(y_val, y_pred, average=\"weighted\", zero_division=0),\n",
    "        \"F1 (weighted)\": f1_score(y_val, y_pred, average=\"weighted\", zero_division=0),\n",
    "        \"Time (s)\": elapsed,\n",
    "        \"Models Tried\": n_models,\n",
    "        \"Best Params\": best_params,\n",
    "        \"Best Estimator\": best_model,\n",
    "    }\n",
    "\n",
    "    return searcher, results"
   ]
  },
  {
   "cell_type": "markdown",
   "id": "384e9f9a",
   "metadata": {
    "papermill": {
     "duration": 0.013653,
     "end_time": "2025-04-17T19:06:54.528060",
     "exception": false,
     "start_time": "2025-04-17T19:06:54.514407",
     "status": "completed"
    },
    "tags": []
   },
   "source": [
    "#### 0.5 Parametry do eksperymentów"
   ]
  },
  {
   "cell_type": "code",
   "execution_count": 8,
   "id": "0091c4ea",
   "metadata": {
    "execution": {
     "iopub.execute_input": "2025-04-17T19:06:54.558457Z",
     "iopub.status.busy": "2025-04-17T19:06:54.558006Z",
     "iopub.status.idle": "2025-04-17T19:06:54.566023Z",
     "shell.execute_reply": "2025-04-17T19:06:54.564634Z"
    },
    "papermill": {
     "duration": 0.025017,
     "end_time": "2025-04-17T19:06:54.568123",
     "exception": false,
     "start_time": "2025-04-17T19:06:54.543106",
     "status": "completed"
    },
    "tags": []
   },
   "outputs": [],
   "source": [
    "rf_distributions = {\n",
    "    \"classifier__n_estimators\": randint(30, 60),\n",
    "    \"classifier__max_depth\": randint(10, 50),\n",
    "    \"classifier__criterion\": [\"gini\", \"entropy\"],\n",
    "    \"classifier__min_samples_leaf\": randint(1, 7),\n",
    "    \"classifier__max_features\": [\"sqrt\", None],\n",
    "}\n",
    "\n",
    "svm_distributions = {\n",
    "    \"classifier__C\": uniform(0.5, 1.5),\n",
    "    \"classifier__kernel\": [\"linear\", \"rbf\", \"poly\"],\n",
    "    \"classifier__degree\": [2, 3],\n",
    "    \"classifier__gamma\": [\"scale\", \"auto\"],\n",
    "}"
   ]
  },
  {
   "cell_type": "code",
   "execution_count": 9,
   "id": "57607047",
   "metadata": {
    "execution": {
     "iopub.execute_input": "2025-04-17T19:06:54.598527Z",
     "iopub.status.busy": "2025-04-17T19:06:54.597435Z",
     "iopub.status.idle": "2025-04-17T19:06:54.604687Z",
     "shell.execute_reply": "2025-04-17T19:06:54.603400Z"
    },
    "papermill": {
     "duration": 0.025111,
     "end_time": "2025-04-17T19:06:54.606827",
     "exception": false,
     "start_time": "2025-04-17T19:06:54.581716",
     "status": "completed"
    },
    "tags": []
   },
   "outputs": [],
   "source": [
    "rf_param_grid = {\n",
    "    \"classifier__n_estimators\": [30, 60],\n",
    "    \"classifier__max_depth\": [10, 30, 50],\n",
    "    \"classifier__criterion\": [\"gini\", \"entropy\"],\n",
    "    \"classifier__min_samples_leaf\": [1, 5],\n",
    "    \"classifier__max_features\": [\"sqrt\", None],\n",
    "}\n",
    "\n",
    "svm_param_grid = {\n",
    "    \"classifier__C\": [0.8, 1, 1.5],\n",
    "    \"classifier__kernel\": [\"linear\", \"rbf\", \"poly\"],\n",
    "    \"classifier__degree\": [2, 3],\n",
    "    \"classifier__gamma\": [\"scale\", \"auto\"],\n",
    "}"
   ]
  },
  {
   "cell_type": "markdown",
   "id": "79d47d9d",
   "metadata": {
    "papermill": {
     "duration": 0.014851,
     "end_time": "2025-04-17T19:06:54.636771",
     "exception": false,
     "start_time": "2025-04-17T19:06:54.621920",
     "status": "completed"
    },
    "tags": []
   },
   "source": [
    "## 1. RandomSearch"
   ]
  },
  {
   "cell_type": "markdown",
   "id": "a2b6f128",
   "metadata": {
    "papermill": {
     "duration": 0.01871,
     "end_time": "2025-04-17T19:06:54.673196",
     "exception": false,
     "start_time": "2025-04-17T19:06:54.654486",
     "status": "completed"
    },
    "tags": []
   },
   "source": [
    "#### 1.1 Opis działania, możliwości, ograniczenia"
   ]
  },
  {
   "cell_type": "markdown",
   "id": "545ec683",
   "metadata": {
    "papermill": {
     "duration": 0.017337,
     "end_time": "2025-04-17T19:06:54.707443",
     "exception": false,
     "start_time": "2025-04-17T19:06:54.690106",
     "status": "completed"
    },
    "tags": []
   },
   "source": [
    "**[RandomizedSearch](https://scikit-learn.org/stable/modules/generated/sklearn.model_selection.RandomizedSearchCV.html)** losowo wybiera kombinacje hiperparametrów z podanego rozkładu lub listy wartości. Można ustawić liczbę iteracji, co pozwala kontrolować czas trwania wyszukiwania.\n",
    "\n",
    "- Dzięki losowości jest szybszy od GridSearch, lecz przeszukuje mniejszą przestrzeń hiperparametrów.\n",
    "Może wciąż znaleźć bardzo dobre parametry przy mniejszej złożoności obliczeniowej\n",
    "\n",
    "- Wynik zależy od losowości, ponieważ może pominąć najlepsze hiperparametry.\n",
    "- Wyniki mogą się różnić przy wielu próbach uruchomienia przez losowość"
   ]
  },
  {
   "cell_type": "markdown",
   "id": "98a489b3",
   "metadata": {
    "papermill": {
     "duration": 0.01665,
     "end_time": "2025-04-17T19:06:54.741589",
     "exception": false,
     "start_time": "2025-04-17T19:06:54.724939",
     "status": "completed"
    },
    "tags": []
   },
   "source": [
    "#### 1.2 Jakość najlepszego modelu oraz czas działania"
   ]
  },
  {
   "cell_type": "code",
   "execution_count": 10,
   "id": "164e1688",
   "metadata": {
    "execution": {
     "iopub.execute_input": "2025-04-17T19:06:54.776633Z",
     "iopub.status.busy": "2025-04-17T19:06:54.775662Z",
     "iopub.status.idle": "2025-04-17T19:07:43.846924Z",
     "shell.execute_reply": "2025-04-17T19:07:43.845932Z"
    },
    "papermill": {
     "duration": 49.103011,
     "end_time": "2025-04-17T19:07:43.860889",
     "exception": false,
     "start_time": "2025-04-17T19:06:54.757878",
     "status": "completed"
    },
    "tags": []
   },
   "outputs": [
    {
     "name": "stdout",
     "output_type": "stream",
     "text": [
      "Fit...\n"
     ]
    },
    {
     "name": "stdout",
     "output_type": "stream",
     "text": [
      "Predict...\n"
     ]
    }
   ],
   "source": [
    "clf = RandomizedSearchCV(\n",
    "    rf_pipeline,\n",
    "    rf_distributions,\n",
    "    return_train_score=True,\n",
    "    scoring=\"f1_weighted\",\n",
    "    n_jobs=-1,\n",
    "    n_iter=40,\n",
    "    random_state=1,\n",
    ")\n",
    "_, rf_randomized_results = run_search(\n",
    "    \"RandomizedSearchCV\", clf, X_train, X_val, y_train, y_val\n",
    ")"
   ]
  },
  {
   "cell_type": "code",
   "execution_count": 11,
   "id": "898b5dbb",
   "metadata": {
    "execution": {
     "iopub.execute_input": "2025-04-17T19:07:43.890044Z",
     "iopub.status.busy": "2025-04-17T19:07:43.889030Z",
     "iopub.status.idle": "2025-04-17T19:07:57.434173Z",
     "shell.execute_reply": "2025-04-17T19:07:57.432788Z"
    },
    "papermill": {
     "duration": 13.561039,
     "end_time": "2025-04-17T19:07:57.435468",
     "exception": false,
     "start_time": "2025-04-17T19:07:43.874429",
     "status": "completed"
    },
    "tags": []
   },
   "outputs": [
    {
     "name": "stdout",
     "output_type": "stream",
     "text": [
      "Fit...\n"
     ]
    },
    {
     "name": "stdout",
     "output_type": "stream",
     "text": [
      "Predict...\n"
     ]
    }
   ],
   "source": [
    "clf = RandomizedSearchCV(\n",
    "    svm_pipeline,\n",
    "    svm_distributions,\n",
    "    return_train_score=True,\n",
    "    scoring=\"f1_weighted\",\n",
    "    n_jobs=-1,\n",
    "    n_iter=40,\n",
    "    random_state=1,\n",
    ")\n",
    "_, svm_randomized_results = run_search(\n",
    "    \"RandomizedSearchCV\", clf, X_train, X_val, y_train, y_val\n",
    ")"
   ]
  },
  {
   "cell_type": "markdown",
   "id": "bb8dbeb3",
   "metadata": {
    "papermill": {
     "duration": 0.013099,
     "end_time": "2025-04-17T19:07:57.461714",
     "exception": false,
     "start_time": "2025-04-17T19:07:57.448615",
     "status": "completed"
    },
    "tags": []
   },
   "source": [
    "#### 1.3 Liczba iteracji metody\n",
    "\n",
    "Liczba iteracji jest równa parametrowi n_iter."
   ]
  },
  {
   "cell_type": "code",
   "execution_count": 12,
   "id": "669c23cc",
   "metadata": {
    "execution": {
     "iopub.execute_input": "2025-04-17T19:07:57.493197Z",
     "iopub.status.busy": "2025-04-17T19:07:57.491939Z",
     "iopub.status.idle": "2025-04-17T19:07:57.498392Z",
     "shell.execute_reply": "2025-04-17T19:07:57.497257Z"
    },
    "papermill": {
     "duration": 0.023886,
     "end_time": "2025-04-17T19:07:57.499919",
     "exception": false,
     "start_time": "2025-04-17T19:07:57.476033",
     "status": "completed"
    },
    "tags": []
   },
   "outputs": [
    {
     "name": "stdout",
     "output_type": "stream",
     "text": [
      "RandomizedSearchCV wykonał 40 pomiarów\n"
     ]
    }
   ],
   "source": [
    "print(f\"RandomizedSearchCV wykonał {rf_randomized_results['Models Tried']} pomiarów\")"
   ]
  },
  {
   "cell_type": "markdown",
   "id": "83fce60f",
   "metadata": {
    "papermill": {
     "duration": 0.013966,
     "end_time": "2025-04-17T19:07:57.527304",
     "exception": false,
     "start_time": "2025-04-17T19:07:57.513338",
     "status": "completed"
    },
    "tags": []
   },
   "source": [
    "## 2. GridSearch"
   ]
  },
  {
   "cell_type": "markdown",
   "id": "1b57a66c",
   "metadata": {
    "papermill": {
     "duration": 0.045362,
     "end_time": "2025-04-17T19:07:57.587697",
     "exception": false,
     "start_time": "2025-04-17T19:07:57.542335",
     "status": "completed"
    },
    "tags": []
   },
   "source": [
    "#### 2.1 Opis działania, możliwości, ograniczenia"
   ]
  },
  {
   "cell_type": "markdown",
   "id": "363db614",
   "metadata": {
    "papermill": {
     "duration": 0.013085,
     "end_time": "2025-04-17T19:07:57.614903",
     "exception": false,
     "start_time": "2025-04-17T19:07:57.601818",
     "status": "completed"
    },
    "tags": []
   },
   "source": [
    "[GridSearch](https://scikit-learn.org/stable/modules/generated/sklearn.model_selection.GridSearchCV.html) przeszukuje wybrane przestrzenie hiperparametrów tworząc iloczyn kartezjański na podanych wartościach hiperparametrów. \n",
    "\n",
    "- Dzięki temu bardzo precyzyjnie możemy oszacować, które wartości nas potencjalnie najbardziej interesują oraz możemy bardzo dokładnie przeszukać przestrzeń hiperaparametrów.\n",
    "- Deterministyczny oraz bardzo dokładny\n",
    "\n",
    "- Bardzo wymagający obliczeniowo, dokonanie tylu eksperymentów ile podano wartości oraz list wartości.\n",
    "- Bardzo wymgający czasowo."
   ]
  },
  {
   "cell_type": "markdown",
   "id": "0b1a5c55",
   "metadata": {
    "papermill": {
     "duration": 0.01368,
     "end_time": "2025-04-17T19:07:57.640764",
     "exception": false,
     "start_time": "2025-04-17T19:07:57.627084",
     "status": "completed"
    },
    "tags": []
   },
   "source": [
    "#### 2.2 Jakość najlepszego modelu oraz czas działania"
   ]
  },
  {
   "cell_type": "code",
   "execution_count": 13,
   "id": "45341d9d",
   "metadata": {
    "execution": {
     "iopub.execute_input": "2025-04-17T19:07:57.670468Z",
     "iopub.status.busy": "2025-04-17T19:07:57.669693Z",
     "iopub.status.idle": "2025-04-17T19:08:48.803897Z",
     "shell.execute_reply": "2025-04-17T19:08:48.802784Z"
    },
    "papermill": {
     "duration": 51.16328,
     "end_time": "2025-04-17T19:08:48.818866",
     "exception": false,
     "start_time": "2025-04-17T19:07:57.655586",
     "status": "completed"
    },
    "tags": []
   },
   "outputs": [
    {
     "name": "stdout",
     "output_type": "stream",
     "text": [
      "Fit...\n"
     ]
    },
    {
     "name": "stdout",
     "output_type": "stream",
     "text": [
      "Predict...\n"
     ]
    }
   ],
   "source": [
    "clf = GridSearchCV(\n",
    "    rf_pipeline,\n",
    "    rf_param_grid,\n",
    "    return_train_score=True,\n",
    "    scoring=\"f1_weighted\",\n",
    "    n_jobs=-1,\n",
    ")\n",
    "_, rf_grid_results = run_search(\"GridSearchCV\", clf, X_train, X_val, y_train, y_val)"
   ]
  },
  {
   "cell_type": "code",
   "execution_count": 14,
   "id": "de66f59c",
   "metadata": {
    "execution": {
     "iopub.execute_input": "2025-04-17T19:08:48.848284Z",
     "iopub.status.busy": "2025-04-17T19:08:48.847431Z",
     "iopub.status.idle": "2025-04-17T19:09:00.940124Z",
     "shell.execute_reply": "2025-04-17T19:09:00.939038Z"
    },
    "papermill": {
     "duration": 12.107874,
     "end_time": "2025-04-17T19:09:00.941563",
     "exception": false,
     "start_time": "2025-04-17T19:08:48.833689",
     "status": "completed"
    },
    "tags": []
   },
   "outputs": [
    {
     "name": "stdout",
     "output_type": "stream",
     "text": [
      "Fit...\n"
     ]
    },
    {
     "name": "stdout",
     "output_type": "stream",
     "text": [
      "Predict...\n"
     ]
    }
   ],
   "source": [
    "clf = GridSearchCV(\n",
    "    svm_pipeline,\n",
    "    svm_param_grid,\n",
    "    return_train_score=True,\n",
    "    scoring=\"f1_weighted\",\n",
    "    n_jobs=-1,\n",
    ")\n",
    "_, svm_grid_results = run_search(\"GridSearchCV\", clf, X_train, X_val, y_train, y_val)"
   ]
  },
  {
   "cell_type": "markdown",
   "id": "1b837bf4",
   "metadata": {
    "papermill": {
     "duration": 0.013559,
     "end_time": "2025-04-17T19:09:00.970102",
     "exception": false,
     "start_time": "2025-04-17T19:09:00.956543",
     "status": "completed"
    },
    "tags": []
   },
   "source": [
    "#### 2.3 Liczba iteracji metody\n",
    "\n",
    "Liczba pomiarów jest równa iloczynowi liczebności każdej z list hiperparametrów"
   ]
  },
  {
   "cell_type": "code",
   "execution_count": 15,
   "id": "98aafdec",
   "metadata": {
    "execution": {
     "iopub.execute_input": "2025-04-17T19:09:01.007839Z",
     "iopub.status.busy": "2025-04-17T19:09:01.006125Z",
     "iopub.status.idle": "2025-04-17T19:09:01.015801Z",
     "shell.execute_reply": "2025-04-17T19:09:01.013689Z"
    },
    "papermill": {
     "duration": 0.032747,
     "end_time": "2025-04-17T19:09:01.018304",
     "exception": false,
     "start_time": "2025-04-17T19:09:00.985557",
     "status": "completed"
    },
    "tags": []
   },
   "outputs": [
    {
     "name": "stdout",
     "output_type": "stream",
     "text": [
      "GridSearchCV wykonał 48 pomiarów\n"
     ]
    }
   ],
   "source": [
    "print(f\"GridSearchCV wykonał {rf_grid_results['Models Tried']} pomiarów\")"
   ]
  },
  {
   "cell_type": "markdown",
   "id": "b04c724c",
   "metadata": {
    "papermill": {
     "duration": 0.017836,
     "end_time": "2025-04-17T19:09:01.052343",
     "exception": false,
     "start_time": "2025-04-17T19:09:01.034507",
     "status": "completed"
    },
    "tags": []
   },
   "source": [
    "## 3. HalvingGridSearch"
   ]
  },
  {
   "cell_type": "markdown",
   "id": "1036cc9f",
   "metadata": {
    "papermill": {
     "duration": 0.012519,
     "end_time": "2025-04-17T19:09:01.081705",
     "exception": false,
     "start_time": "2025-04-17T19:09:01.069186",
     "status": "completed"
    },
    "tags": []
   },
   "source": [
    "#### 3.1 Opis działania, możliwości, ograniczenia"
   ]
  },
  {
   "cell_type": "markdown",
   "id": "3937e55e",
   "metadata": {
    "papermill": {
     "duration": 0.013444,
     "end_time": "2025-04-17T19:09:01.108947",
     "exception": false,
     "start_time": "2025-04-17T19:09:01.095503",
     "status": "completed"
    },
    "tags": []
   },
   "source": [
    "[HalvingGridSearch](https://scikit-learn.org/stable/modules/generated/sklearn.model_selection.HalvingGridSearchCV.html) działa analogicznie do GridSearch'a, lecz optymalizuje swoje działanie poprzez wykonywanie eksperymentów na części danych. Na początku testuje wiele kombinacji na małych próbkach danych, a w kolejnych iteracjach zwiększa ilość danych tylko dla najlepszych kandydatów.\n",
    "\n",
    "- Posida zalety grid searcha dokładnego przeszukania przestrzeni hiperparametrów przy mniejszym nakładzie mocy obliczeniowej oraz krótszym czasie wykonywania.\n",
    "- Utrzymuje dokładność GridSearch przy mniejszych kosztach.\n",
    "\n",
    "- Wadą jest fakt, iż jest to eksperymentalna funkcja sklearn, czyli nie jest ustabilizowana/może się zmieniać.\n",
    "- Wciąż przeszukujemy ogromną liczbę zbiorów hiperparametrów"
   ]
  },
  {
   "cell_type": "markdown",
   "id": "1eb2b9ea",
   "metadata": {
    "papermill": {
     "duration": 0.01502,
     "end_time": "2025-04-17T19:09:01.138527",
     "exception": false,
     "start_time": "2025-04-17T19:09:01.123507",
     "status": "completed"
    },
    "tags": []
   },
   "source": [
    "#### 3.2 Jakość najlepszego modelu oraz czas działania"
   ]
  },
  {
   "cell_type": "code",
   "execution_count": 16,
   "id": "d659bfc5",
   "metadata": {
    "execution": {
     "iopub.execute_input": "2025-04-17T19:09:01.171262Z",
     "iopub.status.busy": "2025-04-17T19:09:01.170279Z",
     "iopub.status.idle": "2025-04-17T19:09:31.502056Z",
     "shell.execute_reply": "2025-04-17T19:09:31.500321Z"
    },
    "papermill": {
     "duration": 30.362139,
     "end_time": "2025-04-17T19:09:31.515801",
     "exception": false,
     "start_time": "2025-04-17T19:09:01.153662",
     "status": "completed"
    },
    "tags": []
   },
   "outputs": [
    {
     "name": "stdout",
     "output_type": "stream",
     "text": [
      "Fit...\n"
     ]
    },
    {
     "name": "stdout",
     "output_type": "stream",
     "text": [
      "Predict...\n"
     ]
    }
   ],
   "source": [
    "clf = HalvingGridSearchCV(\n",
    "    rf_pipeline,\n",
    "    rf_param_grid,\n",
    "    return_train_score=True,\n",
    "    scoring=\"f1_weighted\",\n",
    "    n_jobs=-1,\n",
    ")\n",
    "_, rf_halv_grid_results = run_search(\n",
    "    \"HalvingGridSearchCV\", clf, X_train, X_val, y_train, y_val\n",
    ")"
   ]
  },
  {
   "cell_type": "code",
   "execution_count": 17,
   "id": "4cd508ed",
   "metadata": {
    "execution": {
     "iopub.execute_input": "2025-04-17T19:09:31.545481Z",
     "iopub.status.busy": "2025-04-17T19:09:31.544587Z",
     "iopub.status.idle": "2025-04-17T19:09:36.926649Z",
     "shell.execute_reply": "2025-04-17T19:09:36.925377Z"
    },
    "papermill": {
     "duration": 5.397577,
     "end_time": "2025-04-17T19:09:36.928140",
     "exception": false,
     "start_time": "2025-04-17T19:09:31.530563",
     "status": "completed"
    },
    "tags": []
   },
   "outputs": [
    {
     "name": "stdout",
     "output_type": "stream",
     "text": [
      "Fit...\n"
     ]
    },
    {
     "name": "stdout",
     "output_type": "stream",
     "text": [
      "Predict...\n"
     ]
    }
   ],
   "source": [
    "clf = HalvingGridSearchCV(\n",
    "    svm_pipeline,\n",
    "    svm_param_grid,\n",
    "    return_train_score=True,\n",
    "    scoring=\"f1_weighted\",\n",
    "    n_jobs=-1,\n",
    ")\n",
    "_, svm_halv_grid_results = run_search(\n",
    "    \"HalvingGridSearchCV\", clf, X_train, X_val, y_train, y_val\n",
    ")"
   ]
  },
  {
   "cell_type": "markdown",
   "id": "f3099319",
   "metadata": {
    "papermill": {
     "duration": 0.014255,
     "end_time": "2025-04-17T19:09:36.956899",
     "exception": false,
     "start_time": "2025-04-17T19:09:36.942644",
     "status": "completed"
    },
    "tags": []
   },
   "source": [
    "#### 3.3 Liczba iteracji metody"
   ]
  },
  {
   "cell_type": "code",
   "execution_count": 18,
   "id": "b21a1c9e",
   "metadata": {
    "execution": {
     "iopub.execute_input": "2025-04-17T19:09:36.986314Z",
     "iopub.status.busy": "2025-04-17T19:09:36.985468Z",
     "iopub.status.idle": "2025-04-17T19:09:36.992176Z",
     "shell.execute_reply": "2025-04-17T19:09:36.990555Z"
    },
    "papermill": {
     "duration": 0.022669,
     "end_time": "2025-04-17T19:09:36.993939",
     "exception": false,
     "start_time": "2025-04-17T19:09:36.971270",
     "status": "completed"
    },
    "tags": []
   },
   "outputs": [
    {
     "name": "stdout",
     "output_type": "stream",
     "text": [
      "GridSearchCV wykonał 70 pomiarów\n"
     ]
    }
   ],
   "source": [
    "print(f\"GridSearchCV wykonał {rf_halv_grid_results['Models Tried']} pomiarów\")"
   ]
  },
  {
   "cell_type": "markdown",
   "id": "88e04723",
   "metadata": {
    "papermill": {
     "duration": 0.014315,
     "end_time": "2025-04-17T19:09:37.025060",
     "exception": false,
     "start_time": "2025-04-17T19:09:37.010745",
     "status": "completed"
    },
    "tags": []
   },
   "source": [
    "## 4. HalvingRandomSearch"
   ]
  },
  {
   "cell_type": "markdown",
   "id": "cc8983fb",
   "metadata": {
    "papermill": {
     "duration": 0.01455,
     "end_time": "2025-04-17T19:09:37.053679",
     "exception": false,
     "start_time": "2025-04-17T19:09:37.039129",
     "status": "completed"
    },
    "tags": []
   },
   "source": [
    "#### 4.1 Opis działania, możliwości, ograniczenia"
   ]
  },
  {
   "cell_type": "markdown",
   "id": "1ac784ef",
   "metadata": {
    "papermill": {
     "duration": 0.01336,
     "end_time": "2025-04-17T19:09:37.082033",
     "exception": false,
     "start_time": "2025-04-17T19:09:37.068673",
     "status": "completed"
    },
    "tags": []
   },
   "source": [
    "[HalvingRandomSearch](https://scikit-learn.org/stable/modules/generated/sklearn.model_selection.HalvingRandomSearchCV.html) jest połączeniem HalvingGridSearch oraz RandomSeach. Działa z mechanizmem losowego wyboru hiperparametrów z aspektem odsiewania słabszych i trenowania pozostałych na większej liczbie danych.\n",
    "\n",
    "Najbardziej efektywny czasowo i najmniej wymagający obliczeniowo\n",
    "\n",
    "Ponownie jest eksperymentalną funkcja sklearn oraz tak jak RandomSearch może pominąć najlepsze wartości hiperparametrów"
   ]
  },
  {
   "cell_type": "markdown",
   "id": "38643c5b",
   "metadata": {
    "papermill": {
     "duration": 0.013791,
     "end_time": "2025-04-17T19:09:37.108906",
     "exception": false,
     "start_time": "2025-04-17T19:09:37.095115",
     "status": "completed"
    },
    "tags": []
   },
   "source": [
    "#### 4.2 Jakość najlepszego modelu oraz czas działania"
   ]
  },
  {
   "cell_type": "code",
   "execution_count": 19,
   "id": "7990ece5",
   "metadata": {
    "execution": {
     "iopub.execute_input": "2025-04-17T19:09:37.141291Z",
     "iopub.status.busy": "2025-04-17T19:09:37.140519Z",
     "iopub.status.idle": "2025-04-17T19:09:59.912066Z",
     "shell.execute_reply": "2025-04-17T19:09:59.910448Z"
    },
    "papermill": {
     "duration": 22.790124,
     "end_time": "2025-04-17T19:09:59.913968",
     "exception": false,
     "start_time": "2025-04-17T19:09:37.123844",
     "status": "completed"
    },
    "tags": []
   },
   "outputs": [
    {
     "name": "stdout",
     "output_type": "stream",
     "text": [
      "Fit...\n"
     ]
    },
    {
     "name": "stdout",
     "output_type": "stream",
     "text": [
      "Predict...\n"
     ]
    }
   ],
   "source": [
    "clf = HalvingRandomSearchCV(\n",
    "    rf_pipeline,\n",
    "    rf_param_grid,\n",
    "    return_train_score=True,\n",
    "    scoring=\"f1_weighted\",\n",
    "    n_jobs=-1,\n",
    "    n_candidates=40,\n",
    "    random_state=1,\n",
    ")\n",
    "_, rf_halv_rand_grid_results = run_search(\n",
    "    \"HalvingRandomSearchCV\", clf, X_train, X_val, y_train, y_val\n",
    ")"
   ]
  },
  {
   "cell_type": "code",
   "execution_count": 20,
   "id": "c405c6ad",
   "metadata": {
    "execution": {
     "iopub.execute_input": "2025-04-17T19:09:59.950478Z",
     "iopub.status.busy": "2025-04-17T19:09:59.949270Z",
     "iopub.status.idle": "2025-04-17T19:10:05.486184Z",
     "shell.execute_reply": "2025-04-17T19:10:05.484659Z"
    },
    "papermill": {
     "duration": 5.558364,
     "end_time": "2025-04-17T19:10:05.489210",
     "exception": false,
     "start_time": "2025-04-17T19:09:59.930846",
     "status": "completed"
    },
    "tags": []
   },
   "outputs": [
    {
     "name": "stdout",
     "output_type": "stream",
     "text": [
      "Fit...\n"
     ]
    },
    {
     "name": "stderr",
     "output_type": "stream",
     "text": [
      "/usr/local/lib/python3.12/site-packages/sklearn/model_selection/_search.py:317: UserWarning: The total space of parameters 36 is smaller than n_iter=40. Running 36 iterations. For exhaustive searches, use GridSearchCV.\n",
      "  warnings.warn(\n"
     ]
    },
    {
     "name": "stdout",
     "output_type": "stream",
     "text": [
      "Predict...\n"
     ]
    }
   ],
   "source": [
    "clf = HalvingRandomSearchCV(\n",
    "    svm_pipeline,\n",
    "    svm_param_grid,\n",
    "    return_train_score=True,\n",
    "    scoring=\"f1_weighted\",\n",
    "    n_jobs=-1,\n",
    "    n_candidates=40,\n",
    "    random_state=1,\n",
    ")\n",
    "_, svm_halv_rand_grid_results = run_search(\n",
    "    \"HalvingRandomSearchCV\", clf, X_train, X_val, y_train, y_val\n",
    ")"
   ]
  },
  {
   "cell_type": "markdown",
   "id": "82b4d4f4",
   "metadata": {
    "papermill": {
     "duration": 0.018635,
     "end_time": "2025-04-17T19:10:05.529724",
     "exception": false,
     "start_time": "2025-04-17T19:10:05.511089",
     "status": "completed"
    },
    "tags": []
   },
   "source": [
    "#### 4.3 Liczba iteracji metody"
   ]
  },
  {
   "cell_type": "code",
   "execution_count": 21,
   "id": "30a54631",
   "metadata": {
    "execution": {
     "iopub.execute_input": "2025-04-17T19:10:05.564452Z",
     "iopub.status.busy": "2025-04-17T19:10:05.563407Z",
     "iopub.status.idle": "2025-04-17T19:10:05.570020Z",
     "shell.execute_reply": "2025-04-17T19:10:05.568554Z"
    },
    "papermill": {
     "duration": 0.02647,
     "end_time": "2025-04-17T19:10:05.572205",
     "exception": false,
     "start_time": "2025-04-17T19:10:05.545735",
     "status": "completed"
    },
    "tags": []
   },
   "outputs": [
    {
     "name": "stdout",
     "output_type": "stream",
     "text": [
      "GridSearchCV wykonał 59 pomiarów\n"
     ]
    }
   ],
   "source": [
    "print(f\"GridSearchCV wykonał {rf_halv_rand_grid_results['Models Tried']} pomiarów\")"
   ]
  },
  {
   "cell_type": "markdown",
   "id": "e9fe3633",
   "metadata": {
    "papermill": {
     "duration": 0.015464,
     "end_time": "2025-04-17T19:10:05.603491",
     "exception": false,
     "start_time": "2025-04-17T19:10:05.588027",
     "status": "completed"
    },
    "tags": []
   },
   "source": [
    "## 5. Podsumowanie"
   ]
  },
  {
   "cell_type": "markdown",
   "id": "3d13b508",
   "metadata": {
    "papermill": {
     "duration": 0.020038,
     "end_time": "2025-04-17T19:10:05.642530",
     "exception": false,
     "start_time": "2025-04-17T19:10:05.622492",
     "status": "completed"
    },
    "tags": []
   },
   "source": [
    "#### 5.1 Porównanie modeli"
   ]
  },
  {
   "cell_type": "code",
   "execution_count": 22,
   "id": "db7ffdad",
   "metadata": {
    "execution": {
     "iopub.execute_input": "2025-04-17T19:10:05.687787Z",
     "iopub.status.busy": "2025-04-17T19:10:05.687228Z",
     "iopub.status.idle": "2025-04-17T19:10:05.696954Z",
     "shell.execute_reply": "2025-04-17T19:10:05.695143Z"
    },
    "papermill": {
     "duration": 0.035552,
     "end_time": "2025-04-17T19:10:05.698813",
     "exception": false,
     "start_time": "2025-04-17T19:10:05.663261",
     "status": "completed"
    },
    "tags": []
   },
   "outputs": [],
   "source": [
    "rf_results = [\n",
    "    rf_randomized_results,\n",
    "    rf_grid_results,\n",
    "    rf_halv_grid_results,\n",
    "    rf_halv_rand_grid_results,\n",
    "]\n",
    "df_rf_results = pd.DataFrame(rf_results)"
   ]
  },
  {
   "cell_type": "code",
   "execution_count": 23,
   "id": "b476ca9d",
   "metadata": {
    "execution": {
     "iopub.execute_input": "2025-04-17T19:10:05.740728Z",
     "iopub.status.busy": "2025-04-17T19:10:05.740113Z",
     "iopub.status.idle": "2025-04-17T19:10:05.746742Z",
     "shell.execute_reply": "2025-04-17T19:10:05.745178Z"
    },
    "papermill": {
     "duration": 0.030788,
     "end_time": "2025-04-17T19:10:05.749179",
     "exception": false,
     "start_time": "2025-04-17T19:10:05.718391",
     "status": "completed"
    },
    "tags": []
   },
   "outputs": [],
   "source": [
    "svm_results = [\n",
    "    svm_randomized_results,\n",
    "    svm_grid_results,\n",
    "    svm_halv_grid_results,\n",
    "    svm_halv_rand_grid_results,\n",
    "]\n",
    "df_svm_results = pd.DataFrame(svm_results)"
   ]
  },
  {
   "cell_type": "code",
   "execution_count": 24,
   "id": "6236559b",
   "metadata": {
    "execution": {
     "iopub.execute_input": "2025-04-17T19:10:05.781671Z",
     "iopub.status.busy": "2025-04-17T19:10:05.781317Z",
     "iopub.status.idle": "2025-04-17T19:10:06.218020Z",
     "shell.execute_reply": "2025-04-17T19:10:06.216733Z"
    },
    "papermill": {
     "duration": 0.45678,
     "end_time": "2025-04-17T19:10:06.220454",
     "exception": false,
     "start_time": "2025-04-17T19:10:05.763674",
     "status": "completed"
    },
    "tags": []
   },
   "outputs": [
    {
     "name": "stderr",
     "output_type": "stream",
     "text": [
      "/usr/local/lib/python3.12/site-packages/seaborn/_base.py:949: FutureWarning: When grouping with a length-1 list-like, you will need to pass a length-1 tuple to get_group in a future version of pandas. Pass `(name,)` instead of `name` to silence this warning.\n",
      "  data_subset = grouped_data.get_group(pd_key)\n",
      "/usr/local/lib/python3.12/site-packages/seaborn/_base.py:949: FutureWarning: When grouping with a length-1 list-like, you will need to pass a length-1 tuple to get_group in a future version of pandas. Pass `(name,)` instead of `name` to silence this warning.\n",
      "  data_subset = grouped_data.get_group(pd_key)\n",
      "/usr/local/lib/python3.12/site-packages/seaborn/_base.py:949: FutureWarning: When grouping with a length-1 list-like, you will need to pass a length-1 tuple to get_group in a future version of pandas. Pass `(name,)` instead of `name` to silence this warning.\n",
      "  data_subset = grouped_data.get_group(pd_key)\n",
      "/usr/local/lib/python3.12/site-packages/seaborn/_base.py:949: FutureWarning: When grouping with a length-1 list-like, you will need to pass a length-1 tuple to get_group in a future version of pandas. Pass `(name,)` instead of `name` to silence this warning.\n",
      "  data_subset = grouped_data.get_group(pd_key)\n"
     ]
    },
    {
     "data": {
      "image/png": "[encoded data removed]",
      "text/plain": [
       "<Figure size 1500x800 with 1 Axes>"
      ]
     },
     "metadata": {},
     "output_type": "display_data"
    }
   ],
   "source": [
    "plt.figure(figsize=(15, 8))\n",
    "metrics_to_plot = [\n",
    "    \"Best f1_weighted (CV)\",\n",
    "    \"Accuracy\",\n",
    "    \"Precision\",\n",
    "    \"Recall\",\n",
    "    \"F1 (weighted)\",\n",
    "]\n",
    "df_melted = df_rf_results.melt(\n",
    "    id_vars=\"Method\", value_vars=metrics_to_plot, var_name=\"Metric\", value_name=\"Score\"\n",
    ")\n",
    "\n",
    "sns.barplot(data=df_melted, x=\"Metric\", y=\"Score\", hue=\"Method\")\n",
    "plt.title(\"Porównanie metryk jakości modeli\")\n",
    "plt.xticks(rotation=45)\n",
    "plt.legend(title=\"Metoda\")\n",
    "plt.tight_layout()\n",
    "plt.show()"
   ]
  },
  {
   "cell_type": "code",
   "execution_count": 25,
   "id": "c1afaa7c",
   "metadata": {
    "execution": {
     "iopub.execute_input": "2025-04-17T19:10:06.262904Z",
     "iopub.status.busy": "2025-04-17T19:10:06.262250Z",
     "iopub.status.idle": "2025-04-17T19:10:06.474274Z",
     "shell.execute_reply": "2025-04-17T19:10:06.473041Z"
    },
    "papermill": {
     "duration": 0.233368,
     "end_time": "2025-04-17T19:10:06.475791",
     "exception": false,
     "start_time": "2025-04-17T19:10:06.242423",
     "status": "completed"
    },
    "tags": []
   },
   "outputs": [
    {
     "name": "stderr",
     "output_type": "stream",
     "text": [
      "/usr/local/lib/python3.12/site-packages/seaborn/_base.py:949: FutureWarning: When grouping with a length-1 list-like, you will need to pass a length-1 tuple to get_group in a future version of pandas. Pass `(name,)` instead of `name` to silence this warning.\n",
      "  data_subset = grouped_data.get_group(pd_key)\n",
      "/usr/local/lib/python3.12/site-packages/seaborn/_base.py:949: FutureWarning: When grouping with a length-1 list-like, you will need to pass a length-1 tuple to get_group in a future version of pandas. Pass `(name,)` instead of `name` to silence this warning.\n",
      "  data_subset = grouped_data.get_group(pd_key)\n",
      "/usr/local/lib/python3.12/site-packages/seaborn/_base.py:949: FutureWarning: When grouping with a length-1 list-like, you will need to pass a length-1 tuple to get_group in a future version of pandas. Pass `(name,)` instead of `name` to silence this warning.\n",
      "  data_subset = grouped_data.get_group(pd_key)\n",
      "/usr/local/lib/python3.12/site-packages/seaborn/_base.py:949: FutureWarning: When grouping with a length-1 list-like, you will need to pass a length-1 tuple to get_group in a future version of pandas. Pass `(name,)` instead of `name` to silence this warning.\n",
      "  data_subset = grouped_data.get_group(pd_key)\n"
     ]
    },
    {
     "data": {
      "image/png": "[encoded data removed]",
      "text/plain": [
       "<Figure size 1000x600 with 1 Axes>"
      ]
     },
     "metadata": {},
     "output_type": "display_data"
    }
   ],
   "source": [
    "plt.figure(figsize=(10, 6))\n",
    "sns.barplot(data=df_rf_results, x=\"Method\", y=\"Time (s)\", palette=\"muted\", hue=\"Method\")\n",
    "plt.title(\"Czas działania dla każdej metody\")\n",
    "plt.ylabel(\"Czas (s)\")\n",
    "plt.xticks(rotation=15)\n",
    "plt.tight_layout()\n",
    "plt.show()"
   ]
  },
  {
   "cell_type": "code",
   "execution_count": 26,
   "id": "4dd3df5e",
   "metadata": {
    "execution": {
     "iopub.execute_input": "2025-04-17T19:10:06.520559Z",
     "iopub.status.busy": "2025-04-17T19:10:06.519330Z",
     "iopub.status.idle": "2025-04-17T19:10:06.526434Z",
     "shell.execute_reply": "2025-04-17T19:10:06.525200Z"
    },
    "papermill": {
     "duration": 0.033042,
     "end_time": "2025-04-17T19:10:06.528715",
     "exception": false,
     "start_time": "2025-04-17T19:10:06.495673",
     "status": "completed"
    },
    "tags": []
   },
   "outputs": [],
   "source": [
    "df_rf_results[\"Time per Model\"] = (\n",
    "    df_rf_results[\"Time (s)\"] / df_rf_results[\"Models Tried\"]\n",
    ")"
   ]
  },
  {
   "cell_type": "code",
   "execution_count": 27,
   "id": "ae0a682a",
   "metadata": {
    "execution": {
     "iopub.execute_input": "2025-04-17T19:10:06.570393Z",
     "iopub.status.busy": "2025-04-17T19:10:06.569346Z",
     "iopub.status.idle": "2025-04-17T19:10:06.862928Z",
     "shell.execute_reply": "2025-04-17T19:10:06.861731Z"
    },
    "papermill": {
     "duration": 0.317447,
     "end_time": "2025-04-17T19:10:06.864699",
     "exception": false,
     "start_time": "2025-04-17T19:10:06.547252",
     "status": "completed"
    },
    "tags": []
   },
   "outputs": [
    {
     "name": "stderr",
     "output_type": "stream",
     "text": [
      "/usr/local/lib/python3.12/site-packages/seaborn/_base.py:949: FutureWarning: When grouping with a length-1 list-like, you will need to pass a length-1 tuple to get_group in a future version of pandas. Pass `(name,)` instead of `name` to silence this warning.\n",
      "  data_subset = grouped_data.get_group(pd_key)\n",
      "/usr/local/lib/python3.12/site-packages/seaborn/_base.py:949: FutureWarning: When grouping with a length-1 list-like, you will need to pass a length-1 tuple to get_group in a future version of pandas. Pass `(name,)` instead of `name` to silence this warning.\n",
      "  data_subset = grouped_data.get_group(pd_key)\n",
      "/usr/local/lib/python3.12/site-packages/seaborn/_base.py:949: FutureWarning: When grouping with a length-1 list-like, you will need to pass a length-1 tuple to get_group in a future version of pandas. Pass `(name,)` instead of `name` to silence this warning.\n",
      "  data_subset = grouped_data.get_group(pd_key)\n",
      "/usr/local/lib/python3.12/site-packages/seaborn/_base.py:949: FutureWarning: When grouping with a length-1 list-like, you will need to pass a length-1 tuple to get_group in a future version of pandas. Pass `(name,)` instead of `name` to silence this warning.\n",
      "  data_subset = grouped_data.get_group(pd_key)\n"
     ]
    },
    {
     "data": {
      "image/png": "[encoded data removed]",
      "text/plain": [
       "<Figure size 1000x600 with 1 Axes>"
      ]
     },
     "metadata": {},
     "output_type": "display_data"
    }
   ],
   "source": [
    "plt.figure(figsize=(10, 6))\n",
    "sns.barplot(\n",
    "    data=df_rf_results,\n",
    "    x=\"Method\",\n",
    "    y=\"Time per Model\",\n",
    "    hue=\"Method\",\n",
    "    palette=\"viridis\",\n",
    "    legend=False,\n",
    ")\n",
    "plt.title(\"Średni czas trenowania pojedynczego modelu\")\n",
    "plt.ylabel(\"Czas (s) na model\")\n",
    "plt.xticks(rotation=15)\n",
    "plt.tight_layout()\n",
    "plt.show()"
   ]
  },
  {
   "cell_type": "code",
   "execution_count": 28,
   "id": "7f3bbc11",
   "metadata": {
    "execution": {
     "iopub.execute_input": "2025-04-17T19:10:06.909868Z",
     "iopub.status.busy": "2025-04-17T19:10:06.909073Z",
     "iopub.status.idle": "2025-04-17T19:10:06.921641Z",
     "shell.execute_reply": "2025-04-17T19:10:06.920011Z"
    },
    "papermill": {
     "duration": 0.03741,
     "end_time": "2025-04-17T19:10:06.923450",
     "exception": false,
     "start_time": "2025-04-17T19:10:06.886040",
     "status": "completed"
    },
    "tags": []
   },
   "outputs": [],
   "source": [
    "rf_max_index = df_rf_results[\"Best f1_weighted (CV)\"].idxmax()\n",
    "svm_max_index = df_svm_results[\"Best f1_weighted (CV)\"].idxmax()\n",
    "rf_best_params = df_rf_results[\"Best Params\"][rf_max_index]\n",
    "svm_best_params = df_svm_results[\"Best Params\"][svm_max_index]\n",
    "best_params = {\n",
    "    \"RandomForest\": rf_best_params,\n",
    "    \"SVM\": svm_best_params,\n",
    "}\n",
    "\n",
    "with open(f\"data/models/{dataset_name}/best_params.json\", \"w\") as f:\n",
    "    json.dump(best_params, f)"
   ]
  },
  {
   "cell_type": "markdown",
   "id": "e40539ea",
   "metadata": {
    "papermill": {
     "duration": 0.019654,
     "end_time": "2025-04-17T19:10:06.964157",
     "exception": false,
     "start_time": "2025-04-17T19:10:06.944503",
     "status": "completed"
    },
    "tags": []
   },
   "source": [
    "#### 5.2 Porównanie wyników\n",
    "\n",
    "Najlepsze wyniki osiągnął model Randomized Search\n",
    "\n",
    "Model trenował się najwięcej czasu oraz posiada najgorszą metrykę względem czasu/model\n",
    "\n",
    "Pozostałe metody osiągnęły bardzo podobne wyniki, lecz różniły je czasy wykonywania.\n",
    "\n",
    "Zakładająć, iż wyniki bybły nieznacznie podobne kolejny model z najlepszymi wynikami posiada HalvingRandomSearch ze względu na definitywnie najkrótszy czas działania."
   ]
  },
  {
   "cell_type": "markdown",
   "id": "2d565a21",
   "metadata": {
    "papermill": {
     "duration": 0.016935,
     "end_time": "2025-04-17T19:10:06.999543",
     "exception": false,
     "start_time": "2025-04-17T19:10:06.982608",
     "status": "completed"
    },
    "tags": []
   },
   "source": [
    "#### 5.3 Wybrów i uzasadnienie"
   ]
  },
  {
   "cell_type": "markdown",
   "id": "d4c17b35",
   "metadata": {
    "papermill": {
     "duration": 0.018381,
     "end_time": "2025-04-17T19:10:07.035901",
     "exception": false,
     "start_time": "2025-04-17T19:10:07.017520",
     "status": "completed"
    },
    "tags": []
   },
   "source": [
    "Nie ma jednego dobrego wyjścia, są one bardzo zależne od naszych potrzeb i kompetencji.\n",
    "\n",
    "Najlepszą opcją, gdy potrzebujemy szybko znaleźć \"dobry\" model jest zdecydowanie HalvingRandomSearch ze względu na akceptowalne wyniki w zaskakująco krótkim czasie. (Dobre wyniki, szybkie działanie).\n",
    "\n",
    "Najlepszym wyborem, gdy znamy dokładnie model, dane oraz posiadamy dużą wiedzę dziedzinową i intuicję jest GridSearch ze względu na możliwość dokładnego zbadania wielu hiperparametrów dla naszej hipotezy. (Najlepszy wynik, najdłużej się wykonuje).\n",
    "\n",
    "Najlepszym wyborem, gdy nie do końca znamy potencjalne hiperparametry oraz nie zależy nam na czasie jest RandomizedSearch dzięki któremu w sposób losowy możemy osiąganąć dobre wyniki dla modelu oraz samemu zdecydować ilu iteracji potrzebujemy.\n",
    "\n",
    "Dla mnie, jako studenta bez silnej intuicji odnośnie nieznanych klasyfikatorów i dla nieznanyc zbiorów danych najlepszą opcją byłby HalvingRandomSearch, ponieważ umożliwiłby mi w szybki sposób zrozumieć dla jakich mniej więcej parametrów model działałby dobrze."
   ]
  }
 ],
 "metadata": {
  "kernelspec": {
   "display_name": ".venv",
   "language": "python",
   "name": "python3"
  },
  "language_info": {
   "codemirror_mode": {
    "name": "ipython",
    "version": 3
   },
   "file_extension": ".py",
   "mimetype": "text/x-python",
   "name": "python",
   "nbconvert_exporter": "python",
   "pygments_lexer": "ipython3",
   "version": "3.12.10"
  },
  "papermill": {
   "default_parameters": {},
   "duration": 202.529022,
   "end_time": "2025-04-17T19:10:09.677295",
   "environment_variables": {},
   "exception": null,
   "input_path": "notebooks/eval_hyperparameters.ipynb",
   "output_path": "data/notebooks/sephora/eval_hyperparameters.ipynb",
   "parameters": {
    "dataset_name": "sephora"
   },
   "start_time": "2025-04-17T19:06:47.148273",
   "version": "2.6.0"
  }
 },
 "nbformat": 4,
 "nbformat_minor": 5
}